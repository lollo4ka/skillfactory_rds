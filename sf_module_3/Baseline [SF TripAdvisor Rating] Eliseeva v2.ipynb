{
 "cells": [
  {
   "cell_type": "markdown",
   "metadata": {},
   "source": [
    "# import"
   ]
  },
  {
   "cell_type": "code",
   "execution_count": 4,
   "metadata": {
    "_cell_guid": "b1076dfc-b9ad-4769-8c92-a6c4dae69d19",
    "_uuid": "8f2839f25d086af736a60e9eeb907d3b93b6e0e5"
   },
   "outputs": [
    {
     "name": "stdout",
     "output_type": "stream",
     "text": [
      "/kaggle/input/krakow-ta-restaurans-data-raw/TA_restaurants_curated.csv\n",
      "/kaggle/input/cost-of-living/cost-of-living-2017.csv\n",
      "/kaggle/input/cost-of-living/cost-of-living-2018.csv\n",
      "/kaggle/input/cost-of-living/cost-of-living-2016.csv\n",
      "/kaggle/input/world-cities-datasets/worldcities.csv\n",
      "/kaggle/input/sf-dst-restaurant-rating/sample_submission.csv\n",
      "/kaggle/input/sf-dst-restaurant-rating/kaggle_task.csv\n",
      "/kaggle/input/sf-dst-restaurant-rating/main_task.csv\n"
     ]
    }
   ],
   "source": [
    "# This Python 3 environment comes with many helpful analytics libraries installed\n",
    "# It is defined by the kaggle/python docker image: https://github.com/kaggle/docker-python\n",
    "# For example, here's several helpful packages to load in\n",
    "\n",
    "import os\n",
    "from sklearn.model_selection import train_test_split\n",
    "import numpy as np  # linear algebra\n",
    "import pandas as pd  # data processing, CSV file I/O (e.g. pd.read_csv)\n",
    "import ast\n",
    "from datetime import datetime\n",
    "\n",
    "import matplotlib.pyplot as plt\n",
    "import seaborn as sns\n",
    "%matplotlib inline\n",
    "\n",
    "# Загружаем специальный удобный инструмент для разделения датасета:\n",
    "\n",
    "# Input data files are available in the \"../input/\" directory.\n",
    "# For example, running this (by clicking run or pressing Shift+Enter) will list all files under the input directory\n",
    "\n",
    "for dirname, _, filenames in os.walk('/kaggle/input'):\n",
    "    for filename in filenames:\n",
    "        print(os.path.join(dirname, filename))\n",
    "\n",
    "# Any results you write to the current directory are saved as output."
   ]
  },
  {
   "cell_type": "code",
   "execution_count": 5,
   "metadata": {},
   "outputs": [],
   "source": [
    "# всегда фиксируйте RANDOM_SEED, чтобы ваши эксперименты были воспроизводимы!\n",
    "RANDOM_SEED = 42"
   ]
  },
  {
   "cell_type": "code",
   "execution_count": 6,
   "metadata": {},
   "outputs": [],
   "source": [
    "# зафиксируем версию пакетов, чтобы эксперименты были воспроизводимы:\n",
    "!pip freeze > requirements.txt"
   ]
  },
  {
   "cell_type": "markdown",
   "metadata": {},
   "source": [
    "# DATA"
   ]
  },
  {
   "cell_type": "code",
   "execution_count": 7,
   "metadata": {
    "_cell_guid": "79c7e3d0-c299-4dcb-8224-4455121ee9b0",
    "_uuid": "d629ff2d2480ee46fbb7e2d37f6b5fab8052498a"
   },
   "outputs": [],
   "source": [
    "# также добавляю данные по городам - население, страна, столица, стоимость жизни.\n",
    "DATA_DIR = '/kaggle/input/sf-dst-restaurant-rating/'\n",
    "df_train = pd.read_csv(DATA_DIR+'/main_task.csv')\n",
    "df_test = pd.read_csv(DATA_DIR+'kaggle_task.csv')\n",
    "#cities_df = pd.read_csv('/kaggle/input/world-cities-datasets/worldcities.csv')\n",
    "#cost_df = pd.read_csv('/kaggle/input/cost-of-living/cost-of-living-2017.csv')\n",
    "#ta_df = pd.read_csv('/kaggle/input/krakow-ta-restaurans-data-raw/TA_restaurants_curated.csv')\n",
    "sample_submission = pd.read_csv(DATA_DIR+'/sample_submission.csv')"
   ]
  },
  {
   "cell_type": "code",
   "execution_count": null,
   "metadata": {},
   "outputs": [],
   "source": [
    "# Попробовала добавить разные таблицы из базы kaggle.\n",
    "# Но результат не понравился. Поэтому решила добавить списки со столицами, и популяцией.\n",
    "# data.merge(cities_df, how = 'left', left_on='City', right_on='city_ascii')"
   ]
  },
  {
   "cell_type": "code",
   "execution_count": 8,
   "metadata": {},
   "outputs": [],
   "source": [
    "# ВАЖНО! дря корректной обработки признаков объединяем трейн и тест в один датасет\n",
    "df_train['sample'] = 1  # помечаем где у нас трейн\n",
    "df_test['sample'] = 0  # помечаем где у нас тест\n",
    "# в тесте у нас нет значения Rating, мы его должны предсказать, по этому пока просто заполняем нулями\n",
    "df_test['Rating'] = 0\n",
    "\n",
    "data = df_test.append(df_train, sort=False).reset_index(\n",
    "    drop=True)  # объединяем"
   ]
  },
  {
   "cell_type": "markdown",
   "metadata": {},
   "source": [
    "Подробнее по признакам:\n",
    "* City: Город \n",
    "* Cuisine Style: Кухня\n",
    "* Ranking: Ранг ресторана относительно других ресторанов в этом городе\n",
    "* Price Range: Цены в ресторане в 3 категориях\n",
    "* Number of Reviews: Количество отзывов\n",
    "* Reviews: 2 последних отзыва и даты этих отзывов\n",
    "* URL_TA: страница ресторана на 'www.tripadvisor.com' \n",
    "* ID_TA: ID ресторана в TripAdvisor\n",
    "* Rating: Рейтинг ресторана"
   ]
  },
  {
   "cell_type": "code",
   "execution_count": null,
   "metadata": {},
   "outputs": [],
   "source": [
    "data.sample(10)"
   ]
  },
  {
   "cell_type": "code",
   "execution_count": null,
   "metadata": {},
   "outputs": [],
   "source": [
    "data.Reviews[1]"
   ]
  },
  {
   "cell_type": "markdown",
   "metadata": {},
   "source": [
    "Как видим, большинство признаков у нас требует очистки и предварительной обработки."
   ]
  },
  {
   "cell_type": "markdown",
   "metadata": {},
   "source": [
    "# Cleaning and Prepping Data "
   ]
  },
  {
   "cell_type": "markdown",
   "metadata": {},
   "source": [
    "## 1. Обработка NAN \n",
    "У наличия пропусков могут быть разные причины, но пропуски нужно либо заполнить, либо исключить из набора полностью. Но с пропусками нужно быть внимательным, **даже отсутствие информации может быть важным признаком!**   \n",
    "По этому перед обработкой NAN лучше вынести информацию о наличии пропуска как отдельный признак "
   ]
  },
  {
   "cell_type": "code",
   "execution_count": null,
   "metadata": {},
   "outputs": [],
   "source": [
    "data.info()"
   ]
  },
  {
   "cell_type": "markdown",
   "metadata": {},
   "source": [
    "int64, float64 и object являются типами данных нашей таблицы. Мы видим, что одна особенность 7 столбцов имеет тип object, а оставшиеся являются числовыми. С помощью этого же метода мы можем легко увидеть, есть ли пропущенные значения - они есть в 4 столбцах."
   ]
  },
  {
   "cell_type": "code",
   "execution_count": null,
   "metadata": {},
   "outputs": [],
   "source": [
    "data.shape"
   ]
  },
  {
   "cell_type": "markdown",
   "metadata": {},
   "source": [
    "Посмотрим подробнее на количество пропущенных значений."
   ]
  },
  {
   "cell_type": "code",
   "execution_count": null,
   "metadata": {},
   "outputs": [],
   "source": [
    "# Function to calculate missing values by column\n",
    "def missing_values_table(data):\n",
    "    # Total missing values\n",
    "    mis_val = data.isnull().sum()\n",
    "\n",
    "    # Percentage of missing values\n",
    "    mis_val_percent = 100 * data.isnull().sum() / len(data)\n",
    "\n",
    "    # Make a table with the results\n",
    "    mis_val_table = pd.concat([mis_val, mis_val_percent], axis=1)\n",
    "\n",
    "    # Rename the columns\n",
    "    mis_val_table_ren_columns = mis_val_table.rename(\n",
    "        columns={0: 'Missing Values', 1: '% of Total Values'})\n",
    "\n",
    "    # Sort the table by percentage of missing descending\n",
    "    mis_val_table_ren_columns = mis_val_table_ren_columns[\n",
    "        mis_val_table_ren_columns.iloc[:, 1] != 0].sort_values(\n",
    "        '% of Total Values', ascending=False).round(1)\n",
    "\n",
    "    # Print some summary information\n",
    "    print(\"Датафрейм содержит \" + str(data.shape[1]) + \" колонок.\\n\"\n",
    "          \"Есть \" + str(mis_val_table_ren_columns.shape[0]) +\n",
    "          \" колонок с пропущенными значениями.\")\n",
    "\n",
    "    # Return the dataframe with missing information\n",
    "    return mis_val_table_ren_columns"
   ]
  },
  {
   "cell_type": "code",
   "execution_count": null,
   "metadata": {},
   "outputs": [],
   "source": [
    "# Missing values statistics\n",
    "missing_values = missing_values_table(data)\n",
    "missing_values.head(27)"
   ]
  },
  {
   "cell_type": "code",
   "execution_count": 18,
   "metadata": {},
   "outputs": [],
   "source": [
    "# добавляем столбцы для того, чтобы не потерять пропуски.\n",
    "data['Number_of_Reviews_isNAN'] = pd.isna(\n",
    "    data['Number of Reviews']).astype('int64')\n",
    "data['Cuisine_Style_isNAN'] = pd.isna(data['Cuisine Style']).astype('int64')\n",
    "data['Price_Range_isNAN'] = pd.isna(data['Price Range']).astype('int64')"
   ]
  },
  {
   "cell_type": "code",
   "execution_count": 20,
   "metadata": {},
   "outputs": [
    {
     "data": {
      "text/html": [
       "<div>\n",
       "<style scoped>\n",
       "    .dataframe tbody tr th:only-of-type {\n",
       "        vertical-align: middle;\n",
       "    }\n",
       "\n",
       "    .dataframe tbody tr th {\n",
       "        vertical-align: top;\n",
       "    }\n",
       "\n",
       "    .dataframe thead th {\n",
       "        text-align: right;\n",
       "    }\n",
       "</style>\n",
       "<table border=\"1\" class=\"dataframe\">\n",
       "  <thead>\n",
       "    <tr style=\"text-align: right;\">\n",
       "      <th></th>\n",
       "      <th>Restaurant_id</th>\n",
       "      <th>City</th>\n",
       "      <th>Cuisine Style</th>\n",
       "      <th>Ranking</th>\n",
       "      <th>Price Range</th>\n",
       "      <th>Number of Reviews</th>\n",
       "      <th>Reviews</th>\n",
       "      <th>URL_TA</th>\n",
       "      <th>ID_TA</th>\n",
       "      <th>sample</th>\n",
       "      <th>Rating</th>\n",
       "      <th>Number_of_Reviews_isNAN</th>\n",
       "      <th>Cuisine_Style_isNAN</th>\n",
       "      <th>Price_Range_isNAN</th>\n",
       "    </tr>\n",
       "  </thead>\n",
       "  <tbody>\n",
       "    <tr>\n",
       "      <th>0</th>\n",
       "      <td>id_0</td>\n",
       "      <td>Paris</td>\n",
       "      <td>['Bar', 'Pub']</td>\n",
       "      <td>12963.0</td>\n",
       "      <td>$$ - $$$</td>\n",
       "      <td>4.0</td>\n",
       "      <td>[[], []]</td>\n",
       "      <td>/Restaurant_Review-g187147-d10746918-Reviews-L...</td>\n",
       "      <td>d10746918</td>\n",
       "      <td>0</td>\n",
       "      <td>0.0</td>\n",
       "      <td>0</td>\n",
       "      <td>0</td>\n",
       "      <td>0</td>\n",
       "    </tr>\n",
       "    <tr>\n",
       "      <th>1</th>\n",
       "      <td>id_1</td>\n",
       "      <td>Helsinki</td>\n",
       "      <td>['European', 'Scandinavian', 'Gluten Free Opti...</td>\n",
       "      <td>106.0</td>\n",
       "      <td>$$ - $$$</td>\n",
       "      <td>97.0</td>\n",
       "      <td>[['Very good reviews!', 'Fine dining in Hakani...</td>\n",
       "      <td>/Restaurant_Review-g189934-d6674944-Reviews-Ra...</td>\n",
       "      <td>d6674944</td>\n",
       "      <td>0</td>\n",
       "      <td>0.0</td>\n",
       "      <td>0</td>\n",
       "      <td>0</td>\n",
       "      <td>0</td>\n",
       "    </tr>\n",
       "    <tr>\n",
       "      <th>2</th>\n",
       "      <td>id_2</td>\n",
       "      <td>Edinburgh</td>\n",
       "      <td>['Vegetarian Friendly']</td>\n",
       "      <td>810.0</td>\n",
       "      <td>$$ - $$$</td>\n",
       "      <td>28.0</td>\n",
       "      <td>[['Better than the Links', 'Ivy Black'], ['12/...</td>\n",
       "      <td>/Restaurant_Review-g186525-d13129638-Reviews-B...</td>\n",
       "      <td>d13129638</td>\n",
       "      <td>0</td>\n",
       "      <td>0.0</td>\n",
       "      <td>0</td>\n",
       "      <td>0</td>\n",
       "      <td>0</td>\n",
       "    </tr>\n",
       "    <tr>\n",
       "      <th>3</th>\n",
       "      <td>id_3</td>\n",
       "      <td>London</td>\n",
       "      <td>['Italian', 'Mediterranean', 'European', 'Vege...</td>\n",
       "      <td>1669.0</td>\n",
       "      <td>$$$$</td>\n",
       "      <td>202.0</td>\n",
       "      <td>[['Most exquisite', 'Delicious and authentic']...</td>\n",
       "      <td>/Restaurant_Review-g186338-d680417-Reviews-Qui...</td>\n",
       "      <td>d680417</td>\n",
       "      <td>0</td>\n",
       "      <td>0.0</td>\n",
       "      <td>0</td>\n",
       "      <td>0</td>\n",
       "      <td>0</td>\n",
       "    </tr>\n",
       "    <tr>\n",
       "      <th>4</th>\n",
       "      <td>id_4</td>\n",
       "      <td>Bratislava</td>\n",
       "      <td>['Italian', 'Mediterranean', 'European', 'Seaf...</td>\n",
       "      <td>37.0</td>\n",
       "      <td>$$$$</td>\n",
       "      <td>162.0</td>\n",
       "      <td>[['Always the best in bratislava', 'Very good ...</td>\n",
       "      <td>/Restaurant_Review-g274924-d1112354-Reviews-Ma...</td>\n",
       "      <td>d1112354</td>\n",
       "      <td>0</td>\n",
       "      <td>0.0</td>\n",
       "      <td>0</td>\n",
       "      <td>0</td>\n",
       "      <td>0</td>\n",
       "    </tr>\n",
       "    <tr>\n",
       "      <th>...</th>\n",
       "      <td>...</td>\n",
       "      <td>...</td>\n",
       "      <td>...</td>\n",
       "      <td>...</td>\n",
       "      <td>...</td>\n",
       "      <td>...</td>\n",
       "      <td>...</td>\n",
       "      <td>...</td>\n",
       "      <td>...</td>\n",
       "      <td>...</td>\n",
       "      <td>...</td>\n",
       "      <td>...</td>\n",
       "      <td>...</td>\n",
       "      <td>...</td>\n",
       "    </tr>\n",
       "    <tr>\n",
       "      <th>49995</th>\n",
       "      <td>id_499</td>\n",
       "      <td>Milan</td>\n",
       "      <td>['Italian', 'Vegetarian Friendly', 'Vegan Opti...</td>\n",
       "      <td>500.0</td>\n",
       "      <td>$$ - $$$</td>\n",
       "      <td>79.0</td>\n",
       "      <td>[['The real Italian experience!', 'Wonderful f...</td>\n",
       "      <td>/Restaurant_Review-g187849-d2104414-Reviews-Ro...</td>\n",
       "      <td>d2104414</td>\n",
       "      <td>1</td>\n",
       "      <td>4.5</td>\n",
       "      <td>0</td>\n",
       "      <td>0</td>\n",
       "      <td>0</td>\n",
       "    </tr>\n",
       "    <tr>\n",
       "      <th>49996</th>\n",
       "      <td>id_6340</td>\n",
       "      <td>Paris</td>\n",
       "      <td>['French', 'American', 'Bar', 'European', 'Veg...</td>\n",
       "      <td>6341.0</td>\n",
       "      <td>$$ - $$$</td>\n",
       "      <td>542.0</td>\n",
       "      <td>[['Parisian atmosphere', 'Bit pricey but inter...</td>\n",
       "      <td>/Restaurant_Review-g187147-d1800036-Reviews-La...</td>\n",
       "      <td>d1800036</td>\n",
       "      <td>1</td>\n",
       "      <td>3.5</td>\n",
       "      <td>0</td>\n",
       "      <td>0</td>\n",
       "      <td>0</td>\n",
       "    </tr>\n",
       "    <tr>\n",
       "      <th>49997</th>\n",
       "      <td>id_1649</td>\n",
       "      <td>Stockholm</td>\n",
       "      <td>['Japanese', 'Sushi']</td>\n",
       "      <td>1652.0</td>\n",
       "      <td>NaN</td>\n",
       "      <td>4.0</td>\n",
       "      <td>[['Good by swedish standards', 'A hidden jewel...</td>\n",
       "      <td>/Restaurant_Review-g189852-d947615-Reviews-Sus...</td>\n",
       "      <td>d947615</td>\n",
       "      <td>1</td>\n",
       "      <td>4.5</td>\n",
       "      <td>0</td>\n",
       "      <td>0</td>\n",
       "      <td>1</td>\n",
       "    </tr>\n",
       "    <tr>\n",
       "      <th>49998</th>\n",
       "      <td>id_640</td>\n",
       "      <td>Warsaw</td>\n",
       "      <td>['Polish', 'European', 'Eastern European', 'Ce...</td>\n",
       "      <td>641.0</td>\n",
       "      <td>$$ - $$$</td>\n",
       "      <td>70.0</td>\n",
       "      <td>[['Underground restaurant', 'Oldest Restaurant...</td>\n",
       "      <td>/Restaurant_Review-g274856-d1100838-Reviews-Ho...</td>\n",
       "      <td>d1100838</td>\n",
       "      <td>1</td>\n",
       "      <td>4.0</td>\n",
       "      <td>0</td>\n",
       "      <td>0</td>\n",
       "      <td>0</td>\n",
       "    </tr>\n",
       "    <tr>\n",
       "      <th>49999</th>\n",
       "      <td>id_4824</td>\n",
       "      <td>Milan</td>\n",
       "      <td>['Spanish']</td>\n",
       "      <td>4827.0</td>\n",
       "      <td>$$ - $$$</td>\n",
       "      <td>260.0</td>\n",
       "      <td>[['Average', 'Nice an informal'], ['01/31/2016...</td>\n",
       "      <td>/Restaurant_Review-g187849-d1109020-Reviews-Ta...</td>\n",
       "      <td>d1109020</td>\n",
       "      <td>1</td>\n",
       "      <td>3.0</td>\n",
       "      <td>0</td>\n",
       "      <td>0</td>\n",
       "      <td>0</td>\n",
       "    </tr>\n",
       "  </tbody>\n",
       "</table>\n",
       "<p>50000 rows × 14 columns</p>\n",
       "</div>"
      ],
      "text/plain": [
       "      Restaurant_id        City  \\\n",
       "0              id_0       Paris   \n",
       "1              id_1    Helsinki   \n",
       "2              id_2   Edinburgh   \n",
       "3              id_3      London   \n",
       "4              id_4  Bratislava   \n",
       "...             ...         ...   \n",
       "49995        id_499       Milan   \n",
       "49996       id_6340       Paris   \n",
       "49997       id_1649   Stockholm   \n",
       "49998        id_640      Warsaw   \n",
       "49999       id_4824       Milan   \n",
       "\n",
       "                                           Cuisine Style  Ranking Price Range  \\\n",
       "0                                         ['Bar', 'Pub']  12963.0    $$ - $$$   \n",
       "1      ['European', 'Scandinavian', 'Gluten Free Opti...    106.0    $$ - $$$   \n",
       "2                                ['Vegetarian Friendly']    810.0    $$ - $$$   \n",
       "3      ['Italian', 'Mediterranean', 'European', 'Vege...   1669.0        $$$$   \n",
       "4      ['Italian', 'Mediterranean', 'European', 'Seaf...     37.0        $$$$   \n",
       "...                                                  ...      ...         ...   \n",
       "49995  ['Italian', 'Vegetarian Friendly', 'Vegan Opti...    500.0    $$ - $$$   \n",
       "49996  ['French', 'American', 'Bar', 'European', 'Veg...   6341.0    $$ - $$$   \n",
       "49997                              ['Japanese', 'Sushi']   1652.0         NaN   \n",
       "49998  ['Polish', 'European', 'Eastern European', 'Ce...    641.0    $$ - $$$   \n",
       "49999                                        ['Spanish']   4827.0    $$ - $$$   \n",
       "\n",
       "       Number of Reviews                                            Reviews  \\\n",
       "0                    4.0                                           [[], []]   \n",
       "1                   97.0  [['Very good reviews!', 'Fine dining in Hakani...   \n",
       "2                   28.0  [['Better than the Links', 'Ivy Black'], ['12/...   \n",
       "3                  202.0  [['Most exquisite', 'Delicious and authentic']...   \n",
       "4                  162.0  [['Always the best in bratislava', 'Very good ...   \n",
       "...                  ...                                                ...   \n",
       "49995               79.0  [['The real Italian experience!', 'Wonderful f...   \n",
       "49996              542.0  [['Parisian atmosphere', 'Bit pricey but inter...   \n",
       "49997                4.0  [['Good by swedish standards', 'A hidden jewel...   \n",
       "49998               70.0  [['Underground restaurant', 'Oldest Restaurant...   \n",
       "49999              260.0  [['Average', 'Nice an informal'], ['01/31/2016...   \n",
       "\n",
       "                                                  URL_TA      ID_TA  sample  \\\n",
       "0      /Restaurant_Review-g187147-d10746918-Reviews-L...  d10746918       0   \n",
       "1      /Restaurant_Review-g189934-d6674944-Reviews-Ra...   d6674944       0   \n",
       "2      /Restaurant_Review-g186525-d13129638-Reviews-B...  d13129638       0   \n",
       "3      /Restaurant_Review-g186338-d680417-Reviews-Qui...    d680417       0   \n",
       "4      /Restaurant_Review-g274924-d1112354-Reviews-Ma...   d1112354       0   \n",
       "...                                                  ...        ...     ...   \n",
       "49995  /Restaurant_Review-g187849-d2104414-Reviews-Ro...   d2104414       1   \n",
       "49996  /Restaurant_Review-g187147-d1800036-Reviews-La...   d1800036       1   \n",
       "49997  /Restaurant_Review-g189852-d947615-Reviews-Sus...    d947615       1   \n",
       "49998  /Restaurant_Review-g274856-d1100838-Reviews-Ho...   d1100838       1   \n",
       "49999  /Restaurant_Review-g187849-d1109020-Reviews-Ta...   d1109020       1   \n",
       "\n",
       "       Rating  Number_of_Reviews_isNAN  Cuisine_Style_isNAN  Price_Range_isNAN  \n",
       "0         0.0                        0                    0                  0  \n",
       "1         0.0                        0                    0                  0  \n",
       "2         0.0                        0                    0                  0  \n",
       "3         0.0                        0                    0                  0  \n",
       "4         0.0                        0                    0                  0  \n",
       "...       ...                      ...                  ...                ...  \n",
       "49995     4.5                        0                    0                  0  \n",
       "49996     3.5                        0                    0                  0  \n",
       "49997     4.5                        0                    0                  1  \n",
       "49998     4.0                        0                    0                  0  \n",
       "49999     3.0                        0                    0                  0  \n",
       "\n",
       "[50000 rows x 14 columns]"
      ]
     },
     "execution_count": 20,
     "metadata": {},
     "output_type": "execute_result"
    }
   ],
   "source": [
    "data"
   ]
  },
  {
   "cell_type": "markdown",
   "metadata": {},
   "source": [
    "Две колонки Price Range и Cuisine Style содержат большое количество пропусков - 34.7% и 23.2% соответственно. Ниже решим, как именно будем с ними работать. Целевая переменная Rating представлена без пропусков."
   ]
  },
  {
   "cell_type": "code",
   "execution_count": 19,
   "metadata": {},
   "outputs": [
    {
     "name": "stdout",
     "output_type": "stream",
     "text": [
      "Index(['Restaurant_id', 'City', 'Cuisine Style', 'Ranking', 'Price Range',\n",
      "       'Number of Reviews', 'Reviews', 'URL_TA', 'ID_TA', 'sample', 'Rating',\n",
      "       'Number_of_Reviews_isNAN', 'Cuisine_Style_isNAN', 'Price_Range_isNAN'],\n",
      "      dtype='object')\n"
     ]
    }
   ],
   "source": [
    "#посмотрим какие колонки есть в датасете\n",
    "print(data.columns)"
   ]
  },
  {
   "cell_type": "code",
   "execution_count": null,
   "metadata": {},
   "outputs": [],
   "source": [
    "#посмотрим на распределение числовых переменных\n",
    "data.describe()"
   ]
  },
  {
   "cell_type": "markdown",
   "metadata": {},
   "source": [
    "Пока не вижу в таблице никакой интересной информации. Целевая переменная варьируется от 0 до 5, основаня масса значение лежит от 3 до 4.5. Столбец sample не показателен, тк служебный. Видим достаточно большой разброс в столбце Number of Reviews (std расположено достаточно далеко от mean)."
   ]
  },
  {
   "cell_type": "code",
   "execution_count": null,
   "metadata": {},
   "outputs": [],
   "source": [
    "data.Restaurant_id"
   ]
  },
  {
   "cell_type": "markdown",
   "metadata": {},
   "source": [
    "Можно попробовать преобразовать эту колонку - убрать 'id_' - и поискать связь с целевой переменной."
   ]
  },
  {
   "cell_type": "markdown",
   "metadata": {},
   "source": [
    "## **Restaurant_id**"
   ]
  },
  {
   "cell_type": "markdown",
   "metadata": {},
   "source": [
    "Отредактируем столбец так, чтобы от поля id_Значение осталось только Значение. Проверим, что колонка изменила тип с object на int64."
   ]
  },
  {
   "cell_type": "code",
   "execution_count": null,
   "metadata": {},
   "outputs": [],
   "source": [
    "data['Restaurant_id'][0][3:]"
   ]
  },
  {
   "cell_type": "code",
   "execution_count": null,
   "metadata": {},
   "outputs": [],
   "source": [
    "data['Restaurant_id'] = data['Restaurant_id'].apply(lambda x: x[3:])"
   ]
  },
  {
   "cell_type": "code",
   "execution_count": null,
   "metadata": {},
   "outputs": [],
   "source": [
    "data['Restaurant_id'] = pd.to_numeric(data['Restaurant_id'], errors='coerce').fillna(0, downcast='infer')"
   ]
  },
  {
   "cell_type": "code",
   "execution_count": null,
   "metadata": {},
   "outputs": [],
   "source": [
    "data['Restaurant_id'].value_counts(dropna=False)"
   ]
  },
  {
   "cell_type": "code",
   "execution_count": null,
   "metadata": {},
   "outputs": [],
   "source": [
    "data.info()"
   ]
  },
  {
   "cell_type": "markdown",
   "metadata": {},
   "source": [
    "Есть рестораны, которые встречаются только один раз в таблице, а есть, возможно, сетевые. Посмотрим подробнее."
   ]
  },
  {
   "cell_type": "code",
   "execution_count": null,
   "metadata": {},
   "outputs": [],
   "source": [
    "data[data.Restaurant_id=='id_633']"
   ]
  },
  {
   "cell_type": "markdown",
   "metadata": {},
   "source": [
    "Посмотрела несколько первых значений и единственное, что нашла, что их объединяет - стобец sample - один из учебного, другие из тестового сета. У ресторанов из учебного сета похожий Ranking и Price Range."
   ]
  },
  {
   "cell_type": "markdown",
   "metadata": {},
   "source": [
    "Предположение - что id объединяет рестораны с похожим рейтингом или ценовым сегментом."
   ]
  },
  {
   "cell_type": "code",
   "execution_count": null,
   "metadata": {},
   "outputs": [],
   "source": [
    "data.groupby(['Restaurant_id'])['Rating'].count()"
   ]
  },
  {
   "cell_type": "markdown",
   "metadata": {},
   "source": [
    "Чем ближе порядковый номер id к 0, тем большее количество ресторанов представлено в датасете."
   ]
  },
  {
   "cell_type": "code",
   "execution_count": null,
   "metadata": {},
   "outputs": [],
   "source": [
    "data.groupby(['Restaurant_id'])['Rating'].mean()"
   ]
  },
  {
   "cell_type": "markdown",
   "metadata": {},
   "source": [
    "Предположим, что чем ближе порядковый номер id к 0, тем выше среднее значение. Проверим, с помощью гистограммы."
   ]
  },
  {
   "cell_type": "code",
   "execution_count": null,
   "metadata": {},
   "outputs": [],
   "source": [
    "data.groupby(['Restaurant_id'])['Rating'].mean().hist(bins=15)"
   ]
  },
  {
   "cell_type": "markdown",
   "metadata": {},
   "source": [
    "Видим, что распределение похоже на нормальное с выбросом в 0 (это наша тестовая выборка). У большинства ресторанов рейтинг колеблется от 3 до 4 баллов, тоже самое мы видели, когда применили метод describe(). Предположение не подтвердилось. "
   ]
  },
  {
   "cell_type": "markdown",
   "metadata": {},
   "source": [
    "Посмотрим, есть ли связь между ресторанами, целевой переменной и рангом ресторана."
   ]
  },
  {
   "cell_type": "code",
   "execution_count": null,
   "metadata": {},
   "outputs": [],
   "source": [
    "data.groupby(['Restaurant_id'])['Ranking'].count()"
   ]
  },
  {
   "cell_type": "code",
   "execution_count": null,
   "metadata": {},
   "outputs": [],
   "source": [
    "data.groupby(['Restaurant_id'])['Ranking'].mean()"
   ]
  },
  {
   "cell_type": "markdown",
   "metadata": {},
   "source": [
    "В количестве ресторанов и их ранге картина похожая, что и в целевой переменной, а среднее распределение в столбце Ranking больше напоминает обратное целевой переменной. \n",
    "\n",
    "Проверим это предположение, построив гистограмму и посмотрев на распределение."
   ]
  },
  {
   "cell_type": "code",
   "execution_count": null,
   "metadata": {},
   "outputs": [],
   "source": [
    "data.groupby(['Restaurant_id'])['Ranking'].mean().hist(bins=15)"
   ]
  },
  {
   "cell_type": "markdown",
   "metadata": {},
   "source": [
    "## **City**"
   ]
  },
  {
   "cell_type": "code",
   "execution_count": null,
   "metadata": {},
   "outputs": [],
   "source": [
    "data.City"
   ]
  },
  {
   "cell_type": "code",
   "execution_count": null,
   "metadata": {},
   "outputs": [],
   "source": [
    "#посмотрим сколько городов участвует в выборке\n",
    "len(data.City.value_counts(dropna=False))"
   ]
  },
  {
   "cell_type": "code",
   "execution_count": null,
   "metadata": {},
   "outputs": [],
   "source": [
    "print(data.groupby(['City'])['Rating'].count())\n",
    "print(data.groupby(['City'])['Rating'].mean())\n",
    "print(data.groupby(['City'])['Rating'].std())"
   ]
  },
  {
   "cell_type": "markdown",
   "metadata": {},
   "source": [
    "Предположение - вне зависимости от численности соотношение плохих и хороших ресторанов будет примерно одинаковым.\n",
    "Предположение - в столицах рестораны лучше.\n",
    "\n",
    "Как видим, что общий разброс, что рейтинг - все примерно одинаково."
   ]
  },
  {
   "cell_type": "code",
   "execution_count": null,
   "metadata": {},
   "outputs": [],
   "source": [
    "sns.countplot(y='City', data=data, label='City')"
   ]
  },
  {
   "cell_type": "markdown",
   "metadata": {},
   "source": [
    "Видно, что со значительным опережением в количестве ресторанов идут Лондон и Париж. "
   ]
  },
  {
   "cell_type": "markdown",
   "metadata": {},
   "source": [
    "Предположение - попробовать кодировать в хот и даммис и сравнить."
   ]
  },
  {
   "cell_type": "markdown",
   "metadata": {},
   "source": [
    "## **Cuisine Style**"
   ]
  },
  {
   "cell_type": "code",
   "execution_count": null,
   "metadata": {},
   "outputs": [],
   "source": [
    "data['Cuisine Style'][3]"
   ]
  },
  {
   "cell_type": "markdown",
   "metadata": {},
   "source": [
    "В ячейке список из кухонь, которые можно попробовать в ресторане. Лучше преобразовать столбец для дальнейшей работы."
   ]
  },
  {
   "cell_type": "markdown",
   "metadata": {},
   "source": [
    "Предположение - чем больше вариантов кухонь в одном ресторане, тем ниже рейтинг.\n",
    "Предположение - нет связи между типом кухни и рейтингом."
   ]
  },
  {
   "cell_type": "code",
   "execution_count": null,
   "metadata": {},
   "outputs": [],
   "source": [
    "#посчитаем какое количество кухонь преставлено в одном ресторане\n",
    "data['Cuisine Style'] = data['Cuisine Style'].str[2:-2].str.split(\"', '\")\n",
    "data['Cuisine count'] = data['Cuisine Style'].str.len()"
   ]
  },
  {
   "cell_type": "code",
   "execution_count": null,
   "metadata": {},
   "outputs": [],
   "source": [
    "data"
   ]
  },
  {
   "cell_type": "code",
   "execution_count": null,
   "metadata": {},
   "outputs": [],
   "source": [
    "# фильтруем нулевые значения\n",
    "data[pd.isnull(data['Cuisine Style'])]"
   ]
  },
  {
   "cell_type": "code",
   "execution_count": null,
   "metadata": {},
   "outputs": [],
   "source": [
    "# пробуем заменить все нулевые значения на none\n",
    "data['Cuisine Style'].fillna(\"['none']\", inplace=True)"
   ]
  },
  {
   "cell_type": "markdown",
   "metadata": {},
   "source": [
    "Затем я хочу поместить каждое значение в поле 'Cuisine Style' в отдельную строку, соответсвующую ресторано. Преобразуем."
   ]
  },
  {
   "cell_type": "code",
   "execution_count": null,
   "metadata": {},
   "outputs": [],
   "source": [
    "prepared_data = data['Cuisine Style'].apply(lambda x: x.strip('][').split(', ')).apply(pd.Series).merge(data, left_index=True, right_index=True) \\\n",
    "    .drop(['Cuisine Style'], axis=1)"
   ]
  },
  {
   "cell_type": "code",
   "execution_count": null,
   "metadata": {},
   "outputs": [],
   "source": [
    "cusine_data = prepared_data.melt(id_vars=['Restaurant_id', 'City', 'Ranking', 'Price Range',\n",
    "                                          'Number of Reviews', 'Reviews', 'URL_TA', 'ID_TA', 'sample', 'Rating'], value_name='cusine') \\\n",
    "    .drop(['variable'], axis=1) \\\n",
    "    .dropna(subset=['cusine'])"
   ]
  },
  {
   "cell_type": "code",
   "execution_count": null,
   "metadata": {},
   "outputs": [],
   "source": [
    "cusine_data.shape"
   ]
  },
  {
   "cell_type": "markdown",
   "metadata": {},
   "source": [
    "После преобразований у нас осталось такое же количество столбцов, но количество строчек стало 131266."
   ]
  },
  {
   "cell_type": "code",
   "execution_count": null,
   "metadata": {},
   "outputs": [],
   "source": [
    "cusine_data.cusine.value_counts()"
   ]
  },
  {
   "cell_type": "markdown",
   "metadata": {},
   "source": [
    "Всего в поле 'Cuisine Style' было представлено 126 уникальных значений, включая рестораны со значением 'none'. Не совсем понимаю, как их лучше преобразовать для модели, попробую объединить кухни, которые встречаются в 10% ресторанов или как-то сгруппировать их."
   ]
  },
  {
   "cell_type": "code",
   "execution_count": null,
   "metadata": {},
   "outputs": [],
   "source": [
    "European = ['European', 'Dutch', 'French', 'Central European', 'Italian', 'Irish',\n",
    "            'German', 'Belgian', 'British', 'Spanish', 'Swiss', 'Scandinavian Middle']\n",
    "Middle_Eastern = ['Mediterranean', 'Lebanese', 'Arabic',\n",
    "                  'Turkish', 'Moroccan', 'Tunisian', 'Persian']\n",
    "Asian = ['Asian', 'Indonesian', 'Japanese',\n",
    "         'Chinese', 'Indian', 'Tibetan', 'Nepali', 'Thai']\n",
    "Others = ['International', 'New Zealand', 'American',\n",
    "          'Argentinean', 'South American', 'Latin']\n",
    "Healthy_Options = ['Vegetarian Friendly',\n",
    "                   'Vegan Options', 'Gluten Free Options', 'Healthy']\n",
    "Bars = ['Bar', 'Pub', 'Wine Bar']\n",
    "Specific = ['Diner', 'Cafe', 'Fast Food', 'Pizza', 'Seafood', 'Sushi', 'Soups',\n",
    "            'Delicatessen', 'Contemporary', 'Halal', 'Grill', 'Barbecue', 'Steakhouse']\n",
    "\n",
    "\n",
    "def cuisine_group(cuisines, cuisines_type):\n",
    "    flag = 0\n",
    "    if not isinstance(cuisines, float):\n",
    "        for cuisine in ast.literal_eval(cuisines):\n",
    "            if cuisine in cuisines_type:\n",
    "                flag = 1\n",
    "    return flag\n",
    "\n",
    "\n",
    "data['european_group'] = data['Cuisine Style'].apply(\n",
    "    cuisine_group, args=(European,))\n",
    "data['middle_eastern_group'] = data['Cuisine Style'].apply(\n",
    "    cuisine_group, args=(Middle_Eastern,))\n",
    "data['asian_group'] = data['Cuisine Style'].apply(cuisine_group, args=(Asian,))\n",
    "data['others_group'] = data['Cuisine Style'].apply(\n",
    "    cuisine_group, args=(Others,))\n",
    "data['healthy_options_group'] = data['Cuisine Style'].apply(\n",
    "    cuisine_group, args=(Healthy_Options,))\n",
    "data['bars_group'] = data['Cuisine Style'].apply(cuisine_group, args=(Bars,))\n",
    "data['specific_group'] = data['Cuisine Style'].apply(\n",
    "    cuisine_group, args=(Specific,))"
   ]
  },
  {
   "cell_type": "code",
   "execution_count": null,
   "metadata": {},
   "outputs": [],
   "source": [
    "data"
   ]
  },
  {
   "cell_type": "markdown",
   "metadata": {},
   "source": [
    "Посмотрим какое количество кухонь в представлено в среднем в ресторане."
   ]
  },
  {
   "cell_type": "code",
   "execution_count": null,
   "metadata": {},
   "outputs": [],
   "source": [
    "print(cusine_data.groupby(['ID_TA'])['cusine'].count().mean())"
   ]
  },
  {
   "cell_type": "markdown",
   "metadata": {},
   "source": [
    "## **Reviews**"
   ]
  },
  {
   "cell_type": "code",
   "execution_count": null,
   "metadata": {},
   "outputs": [],
   "source": [
    "#в столбце 'Reviews' находится 2 последних отзыва и даты этих отзывов\n",
    "data['Reviews'][1]"
   ]
  },
  {
   "cell_type": "code",
   "execution_count": null,
   "metadata": {},
   "outputs": [],
   "source": [
    "# посмотрим на нулевые значения в столбце Reviews\n",
    "data[pd.isnull(data['Reviews'])]"
   ]
  },
  {
   "cell_type": "code",
   "execution_count": null,
   "metadata": {},
   "outputs": [],
   "source": [
    "#фактически только два пропуска, но еще в таблице мы можем увидеть пустые значения в квадратных скобках []\n",
    "#посмотрим сколько таких значенй\n",
    "data.Reviews.value_counts()"
   ]
  },
  {
   "cell_type": "code",
   "execution_count": null,
   "metadata": {},
   "outputs": [],
   "source": [
    "# применим функцию для обработки пропусков\n",
    "def make_list(list_string):\n",
    "    list_string = list_string.replace('nan]', \"'This is Nan']\")\n",
    "    list_string = list_string.replace('[nan', \"['This is Nan'\")\n",
    "    result_list = ast.literal_eval(list_string)\n",
    "    return result_list\n",
    "\n",
    "\n",
    "data['Reviews'] = data['Reviews'].fillna(\"[[], []]\")\n",
    "data['Reviews'] = data['Reviews'].apply(make_list)"
   ]
  },
  {
   "cell_type": "code",
   "execution_count": null,
   "metadata": {},
   "outputs": [],
   "source": [
    "# создадим отдельный столбец для количества дней между отзывами\n",
    "def delta_date(row):\n",
    "    if len(row[1]) == 0 or len(row[1]) == 1:\n",
    "        return 0\n",
    "\n",
    "    elif len(row[1]) == 2:\n",
    "        date1 = datetime.strptime(row[1][0], '%m/%d/%Y')\n",
    "        date2 = datetime.strptime(row[1][1], '%m/%d/%Y')\n",
    "        return abs(date1 - date2).days\n",
    "\n",
    "\n",
    "data['Days between reviews'] = data['Reviews'].apply(delta_date)"
   ]
  },
  {
   "cell_type": "code",
   "execution_count": null,
   "metadata": {},
   "outputs": [],
   "source": [
    "current_date_dt = datetime.strptime('07/26/2020', '%m/%d/%Y')\n",
    "\n",
    "\n",
    "def since_last_days(row):\n",
    "    if len(row[1]) == 0:\n",
    "        date = datetime.strptime('01/01/2000', '%m/%d/%Y')\n",
    "\n",
    "    elif len(row[1]) == 1:\n",
    "        date = datetime.strptime(row[1][0], '%m/%d/%Y')\n",
    "\n",
    "    else:\n",
    "        date1 = datetime.strptime(row[1][0], '%m/%d/%Y')\n",
    "        date2 = datetime.strptime(row[1][1], '%m/%d/%Y')\n",
    "        date = max(date1, date2)\n",
    "\n",
    "    return (current_date_dt - date).days\n",
    "\n",
    "\n",
    "data['Days since last review'] = data['Reviews'].apply(since_last_days)"
   ]
  },
  {
   "cell_type": "markdown",
   "metadata": {},
   "source": [
    "Также попробоавал создать отдельный столбец с датами, но предыдущий вариант оказался эффективнее."
   ]
  },
  {
   "cell_type": "code",
   "execution_count": null,
   "metadata": {},
   "outputs": [],
   "source": [
    "# заменим их\n",
    "data['Reviews'].fillna(\"[[],[]]\", inplace=True)"
   ]
  },
  {
   "cell_type": "code",
   "execution_count": null,
   "metadata": {},
   "outputs": [],
   "source": [
    "# вытащим дату отзывов в отдельный столбец\n",
    "prep_data = data['Reviews'].apply(lambda x: x.strip(\n",
    "    '][').partition('], [')[2].split(', ')).apply(pd.Series)"
   ]
  },
  {
   "cell_type": "code",
   "execution_count": null,
   "metadata": {},
   "outputs": [],
   "source": [
    "prep_data = prep_data.merge(data, left_index=True, right_index=True)"
   ]
  },
  {
   "cell_type": "code",
   "execution_count": null,
   "metadata": {},
   "outputs": [],
   "source": [
    "todatetime_data = prep_data.melt(id_vars=['Restaurant_id', 'City', 'Cuisine Style', 'Ranking', 'Price Range',\n",
    "                                          'Number of Reviews', 'Reviews', 'URL_TA', 'ID_TA', 'sample', 'Rating'], value_name='date') \\\n",
    "    .drop(['variable'], axis=1) \\\n",
    "    .dropna(subset=['date'])"
   ]
  },
  {
   "cell_type": "code",
   "execution_count": null,
   "metadata": {},
   "outputs": [],
   "source": [
    "# преобразуем значения в дату\n",
    "todatetime_data['date'] = pd.to_datetime(todatetime_data['date']).astype(int)"
   ]
  },
  {
   "cell_type": "code",
   "execution_count": null,
   "metadata": {},
   "outputs": [],
   "source": [
    "todatetime_data['date'] = todatetime_data['date'].apply(lambda x: if type(x) == 'datetime' int(x.timestamp() * 1000))"
   ]
  },
  {
   "cell_type": "markdown",
   "metadata": {},
   "source": [
    "## **Price Range**"
   ]
  },
  {
   "cell_type": "code",
   "execution_count": null,
   "metadata": {},
   "outputs": [],
   "source": [
    "# Цены в ресторане представлены в 3 категориях\n",
    "data['Price Range']"
   ]
  },
  {
   "cell_type": "markdown",
   "metadata": {},
   "source": [
    "Предположим, что чем дороже ресторан, тем выше у него рейтинг. "
   ]
  },
  {
   "cell_type": "code",
   "execution_count": null,
   "metadata": {},
   "outputs": [],
   "source": [
    "data['Price Range'].value_counts(dropna=False, normalize=True)"
   ]
  },
  {
   "cell_type": "code",
   "execution_count": null,
   "metadata": {},
   "outputs": [],
   "source": [
    "print(data.groupby(['Price Range'])['Rating'].count())\n",
    "print(data.groupby(['Price Range'])['Rating'].mean())\n",
    "print(data.groupby(['Price Range'])['Rating'].std())"
   ]
  },
  {
   "cell_type": "markdown",
   "metadata": {},
   "source": [
    "Больше всего ресторанов представлено в среднем ценовом сегменте. Среднее и среднее квадратическое отклонение целевой переменной составляют около 3.3 и 1.7, вне зависимости от ценового сегмента. Поэтому предположение о связи рейтинга и стоимости меню в ресторане не подтвердилось. "
   ]
  },
  {
   "cell_type": "code",
   "execution_count": null,
   "metadata": {},
   "outputs": [],
   "source": [
    "data[pd.isnull(data['Price Range'])]"
   ]
  },
  {
   "cell_type": "code",
   "execution_count": null,
   "metadata": {},
   "outputs": [],
   "source": [
    "# попробуем заполнить пропуски на наиболее частотное значение\n",
    "data['Price Range'].fillna(\"$$ - $$$\", inplace=True)"
   ]
  },
  {
   "cell_type": "markdown",
   "metadata": {},
   "source": [
    "Далее перекодируем переменную в числовой вид и посмотрим боксплот."
   ]
  },
  {
   "cell_type": "markdown",
   "metadata": {},
   "source": [
    "## **URL_TA и ID_TA**"
   ]
  },
  {
   "cell_type": "code",
   "execution_count": null,
   "metadata": {},
   "outputs": [],
   "source": [
    "# страница ресторана на 'www.tripadvisor.com'\n",
    "data['URL_TA'][0]"
   ]
  },
  {
   "cell_type": "markdown",
   "metadata": {},
   "source": [
    "Не уверена, что этот столбец нужен, но можно попробовать вытащить из ссылки название ресторана и предположить, что чем больше букв в названии, тем выше рейтинг."
   ]
  },
  {
   "cell_type": "code",
   "execution_count": null,
   "metadata": {},
   "outputs": [],
   "source": [
    "# ID ресторана в TripAdvisor\n",
    "data['ID_TA']"
   ]
  },
  {
   "cell_type": "code",
   "execution_count": null,
   "metadata": {},
   "outputs": [],
   "source": [
    "# уберем первый символ, чтобы осталось только числовое значение\n",
    "data['ID_TA'] = data['ID_TA'].apply(lambda x: int(x[1:]))"
   ]
  },
  {
   "cell_type": "code",
   "execution_count": null,
   "metadata": {},
   "outputs": [],
   "source": [
    "data['ID_TA'].value_counts()"
   ]
  },
  {
   "cell_type": "markdown",
   "metadata": {},
   "source": [
    "## **Ranking**"
   ]
  },
  {
   "cell_type": "code",
   "execution_count": null,
   "metadata": {},
   "outputs": [],
   "source": [
    "# Ранг ресторана относительно других ресторанов в этом городе\n",
    "data['Ranking'].describe()"
   ]
  },
  {
   "cell_type": "code",
   "execution_count": null,
   "metadata": {},
   "outputs": [],
   "source": [
    "print(data.groupby(['Ranking'])['Rating'].count())\n",
    "print(data.groupby(['Ranking'])['Rating'].mean())\n",
    "print(data.groupby(['Ranking'])['Rating'].std())"
   ]
  },
  {
   "cell_type": "code",
   "execution_count": null,
   "metadata": {},
   "outputs": [],
   "source": [
    "data['Ranking'].value_counts(dropna=False, normalize=True)"
   ]
  },
  {
   "cell_type": "code",
   "execution_count": null,
   "metadata": {},
   "outputs": [],
   "source": [
    "sns.boxplot(data['Ranking'])"
   ]
  },
  {
   "cell_type": "markdown",
   "metadata": {},
   "source": [
    "Если я правильно поняла, то чем выше ранг ресторана, тем лучше. По боксплоту видим, что большинство ресторанов занимают позицию от 1000 до 5200, а максимально возможная - 16444."
   ]
  },
  {
   "cell_type": "markdown",
   "metadata": {},
   "source": [
    "## **Rating**"
   ]
  },
  {
   "cell_type": "code",
   "execution_count": null,
   "metadata": {},
   "outputs": [],
   "source": [
    "# целевая переменная\n",
    "data['Rating']"
   ]
  },
  {
   "cell_type": "code",
   "execution_count": null,
   "metadata": {},
   "outputs": [],
   "source": [
    "data['Rating'].value_counts(dropna=False, normalize=True)"
   ]
  },
  {
   "cell_type": "code",
   "execution_count": null,
   "metadata": {},
   "outputs": [],
   "source": [
    "sns.boxplot(data['Rating'])"
   ]
  },
  {
   "cell_type": "markdown",
   "metadata": {},
   "source": [
    "Целевая перемення представлена из двух наборов данных - тест и трейн. В учебном наборе преобладают рестораны с отзывами 3.5, 4.5, 4.0."
   ]
  },
  {
   "cell_type": "markdown",
   "metadata": {},
   "source": [
    "## **Number of Reviews**"
   ]
  },
  {
   "cell_type": "code",
   "execution_count": null,
   "metadata": {},
   "outputs": [],
   "source": [
    "# Количество отзывов\n",
    "data['Number of Reviews']"
   ]
  },
  {
   "cell_type": "code",
   "execution_count": null,
   "metadata": {},
   "outputs": [],
   "source": [
    "data['Number of Reviews'].value_counts(dropna=False, normalize=True)"
   ]
  },
  {
   "cell_type": "code",
   "execution_count": null,
   "metadata": {},
   "outputs": [],
   "source": [
    "print(data.groupby(['Number of Reviews'])['Rating'].count())\n",
    "print(data.groupby(['Number of Reviews'])['Rating'].mean())\n",
    "print(data.groupby(['Number of Reviews'])['Rating'].std())"
   ]
  },
  {
   "cell_type": "code",
   "execution_count": null,
   "metadata": {},
   "outputs": [],
   "source": [
    "data[pd.isnull(data['Number of Reviews'])]"
   ]
  },
  {
   "cell_type": "code",
   "execution_count": null,
   "metadata": {},
   "outputs": [],
   "source": [
    "data.groupby('Rating')['Number of Reviews'].describe()"
   ]
  },
  {
   "cell_type": "markdown",
   "metadata": {},
   "source": [
    "Похоже, что больше всео отзывов у ресторанов, которым ставят оценку 3.5, 4.0 и 4.5"
   ]
  },
  {
   "cell_type": "code",
   "execution_count": null,
   "metadata": {},
   "outputs": [],
   "source": [
    "# заполним пропуски средним по городу\n",
    "data['Number of Reviews'] = data.apply(lambda row: data[data.City == row.City]\n",
    "                                       ['Number of Reviews'].median() if pd.isna(row['Number of Reviews']) else row['Number of Reviews'], axis=1)"
   ]
  },
  {
   "cell_type": "code",
   "execution_count": null,
   "metadata": {},
   "outputs": [],
   "source": [
    "data.groupby('Number of Reviews')['Rating'].count().hist(bins=15)"
   ]
  },
  {
   "cell_type": "code",
   "execution_count": null,
   "metadata": {},
   "outputs": [],
   "source": [
    "sns.boxplot(data['Number of Reviews'])"
   ]
  },
  {
   "cell_type": "markdown",
   "metadata": {},
   "source": [
    "Что по боксплоту, что по гистограмме - можно сделать предположение, что чаще всего клиенты не оставляют отзывы. Предположим, что чем лучше ресторан, тем больше у него отзывов."
   ]
  },
  {
   "cell_type": "code",
   "execution_count": null,
   "metadata": {},
   "outputs": [],
   "source": [
    "# здесь подбирала такое количество отзывов, чтобы построить более\n",
    "# показательную гистограмму и посмотреть распределение, вместе с\n",
    "# тестовым набором\n",
    "is_reviews = data.loc[data['Number of Reviews'] > 1000]"
   ]
  },
  {
   "cell_type": "code",
   "execution_count": null,
   "metadata": {},
   "outputs": [],
   "source": [
    "is_reviews"
   ]
  },
  {
   "cell_type": "code",
   "execution_count": null,
   "metadata": {},
   "outputs": [],
   "source": [
    "is_reviews['Number of Reviews'].hist(bins=100)"
   ]
  },
  {
   "cell_type": "code",
   "execution_count": null,
   "metadata": {},
   "outputs": [],
   "source": [
    "is_reviews.groupby('Number of Reviews')['Rating'].count().hist(bins=15)"
   ]
  },
  {
   "cell_type": "code",
   "execution_count": null,
   "metadata": {},
   "outputs": [],
   "source": [
    "is_rating = data.loc[data['Rating'] > 0]"
   ]
  },
  {
   "cell_type": "code",
   "execution_count": null,
   "metadata": {},
   "outputs": [],
   "source": [
    "is_rating['Rating'].hist(bins=100)"
   ]
  },
  {
   "cell_type": "code",
   "execution_count": null,
   "metadata": {},
   "outputs": [],
   "source": [
    "is_rating.groupby('Number of Reviews')['Rating'].count().hist(bins=15)"
   ]
  },
  {
   "cell_type": "markdown",
   "metadata": {},
   "source": [
    "Ощущаю, что я запуталась. Пыталась посмотреть связь количества отзывов и оценки у ресторана. Похоже, что предположение о том, что чем больше рейтинг у ресторана, тем больше отзывов не подтвердилось. "
   ]
  },
  {
   "cell_type": "code",
   "execution_count": null,
   "metadata": {},
   "outputs": [],
   "source": [
    "#data.pivot_table(index='City', columns='Number of Reviews', стр 213)"
   ]
  },
  {
   "cell_type": "markdown",
   "metadata": {},
   "source": [
    "# Добавляем новые признаки"
   ]
  },
  {
   "cell_type": "code",
   "execution_count": null,
   "metadata": {},
   "outputs": [],
   "source": [
    "# Add capital sity 0 or 1, 'Edinburgh' is not capital\n",
    "\n",
    "capitals = ['Paris', 'Stockholm', 'London', 'Berlin',\n",
    "            'Bratislava', 'Vienna', 'Rome', 'Madrid',\n",
    "            'Dublin', 'Brussels', 'Warsaw', 'Budapest', 'Copenhagen',\n",
    "            'Amsterdam', 'Lisbon', 'Prague', 'Oslo',\n",
    "            'Helsinki', 'Ljubljana', 'Athens', 'Luxembourg', ]\n",
    "\n",
    "\n",
    "def is_capital(city):\n",
    "    if city in capitals:\n",
    "        return 1\n",
    "    else:\n",
    "        return 0\n",
    "\n",
    "\n",
    "data['is_capital'] = data['City'].apply(is_capital)"
   ]
  },
  {
   "cell_type": "code",
   "execution_count": null,
   "metadata": {},
   "outputs": [],
   "source": [
    "# население\n",
    "cities = {\n",
    "    'London': 8567000,\n",
    "    'Paris': 9904000,\n",
    "    'Madrid': 5567000,\n",
    "    'Barcelona': 4920000,\n",
    "    'Berlin': 3406000,\n",
    "    'Milan': 2945000,\n",
    "    'Rome': 3339000,\n",
    "    'Prague': 1162000,\n",
    "    'Lisbon': 2812000,\n",
    "    'Vienna': 2400000,\n",
    "    'Amsterdam': 1031000,\n",
    "    'Brussels': 1743000,\n",
    "    'Hamburg': 1757000,\n",
    "    'Munich': 1275000,\n",
    "    'Lyon': 1423000,\n",
    "    'Stockholm': 1264000,\n",
    "    'Budapest': 1679000,\n",
    "    'Warsaw': 1707000,\n",
    "    'Dublin': 1059000,\n",
    "    'Copenhagen': 1085000,\n",
    "    'Athens': 3242000,\n",
    "    'Edinburgh': 504966,\n",
    "    'Zurich': 1108000,\n",
    "    'Oporto': 1337000,\n",
    "    'Geneva': 1240000,\n",
    "    'Krakow': 756000,\n",
    "    'Oslo': 835000,\n",
    "    'Helsinki': 1115000,\n",
    "    'Bratislava': 423737,\n",
    "    'Luxembourg': 107260,\n",
    "    'Ljubljana': 314807,\n",
    "}\n",
    "\n",
    "data['Population'] = data['City'].map(cities)"
   ]
  },
  {
   "cell_type": "code",
   "execution_count": null,
   "metadata": {},
   "outputs": [],
   "source": [
    "rest_count = data.groupby('City')['Restaurant_id'].count().to_dict()\n",
    "data['Total count of restaurants'] = data['City'].map(rest_count)\n",
    "data['People per restaurant'] = data['Population'] / \\\n",
    "    data['Total count of restaurants']"
   ]
  },
  {
   "cell_type": "code",
   "execution_count": null,
   "metadata": {},
   "outputs": [],
   "source": [
    "data"
   ]
  },
  {
   "cell_type": "code",
   "execution_count": null,
   "metadata": {},
   "outputs": [],
   "source": [
    "countries = {\n",
    "    'London': 'GB',\n",
    "    'Paris': 'FR',\n",
    "    'Madrid': 'ES',\n",
    "    'Barcelona': 'ES',\n",
    "    'Berlin': 'DE',\n",
    "    'Milan': 'IT',\n",
    "    'Rome': 'IT',\n",
    "    'Prague': 'CZ',\n",
    "    'Lisbon': 'PT',\n",
    "    'Vienna': 'AT',\n",
    "    'Amsterdam': 'NL',\n",
    "    'Brussels': 'BE',\n",
    "    'Hamburg': 'DE',\n",
    "    'Munich': 'DE',\n",
    "    'Lyon': 'FR',\n",
    "    'Stockholm': 'SE',\n",
    "    'Budapest': 'HU',\n",
    "    'Warsaw': 'PL',\n",
    "    'Dublin': 'IE',\n",
    "    'Copenhagen': 'DK',\n",
    "    'Athens': 'GR',\n",
    "    'Edinburgh': 'GB',\n",
    "    'Zurich': 'CH',\n",
    "    'Oporto': 'PT',\n",
    "    'Geneva': 'CH',\n",
    "    'Krakow': 'PL',\n",
    "    'Oslo': 'NO',\n",
    "    'Helsinki': 'FI',\n",
    "    'Bratislava': 'SK',\n",
    "    'Luxembourg': 'LU',\n",
    "    'Ljubljana': 'SI',\n",
    "}\n",
    "\n",
    "data['Country'] = data['City'].map(countries)"
   ]
  },
  {
   "cell_type": "code",
   "execution_count": null,
   "metadata": {},
   "outputs": [],
   "source": [
    "data['Country'].value_counts()"
   ]
  },
  {
   "cell_type": "code",
   "execution_count": null,
   "metadata": {},
   "outputs": [],
   "source": [
    "restaurant_chain = set()\n",
    "for chain in data['Restaurant_id']:\n",
    "    restaurant_chain.update(chain)\n",
    "\n",
    "\n",
    "def find_item1(cell):\n",
    "    if item in cell:\n",
    "        return 1\n",
    "    return 0\n",
    "\n",
    "\n",
    "for item in restaurant_chain:\n",
    "    data['Restaurant chain'] = data['Restaurant_id'].apply(find_item1)"
   ]
  },
  {
   "cell_type": "markdown",
   "metadata": {},
   "source": [
    "## Обработка признаков\n",
    "Для начала посмотрим какие признаки у нас могут быть категориальными."
   ]
  },
  {
   "cell_type": "code",
   "execution_count": null,
   "metadata": {},
   "outputs": [],
   "source": [
    "data.nunique(dropna=False)"
   ]
  },
  {
   "cell_type": "code",
   "execution_count": null,
   "metadata": {},
   "outputs": [],
   "source": [
    "# для One-Hot Encoding в pandas есть готовая функция - get_dummies. Особенно радует параметр dummy_na\n",
    "data = pd.get_dummies(data, columns=['City', ], dummy_na=True)"
   ]
  },
  {
   "cell_type": "code",
   "execution_count": null,
   "metadata": {},
   "outputs": [],
   "source": [
    "data.head(5)"
   ]
  },
  {
   "cell_type": "code",
   "execution_count": null,
   "metadata": {},
   "outputs": [],
   "source": [
    "data.sample(5)"
   ]
  },
  {
   "cell_type": "markdown",
   "metadata": {},
   "source": [
    "## Возьмем следующий признак \"Price Range\"."
   ]
  },
  {
   "cell_type": "code",
   "execution_count": null,
   "metadata": {},
   "outputs": [],
   "source": [
    "data['Price Range'].value_counts()"
   ]
  },
  {
   "cell_type": "code",
   "execution_count": null,
   "metadata": {},
   "outputs": [],
   "source": [
    "from sklearn.preprocessing import LabelEncoder, OneHotEncoder\n",
    "label_encoder = LabelEncoder()"
   ]
  },
  {
   "cell_type": "code",
   "execution_count": null,
   "metadata": {},
   "outputs": [],
   "source": [
    "data['pr_range'] = pd.Series(label_encoder.fit_transform(data['Price Range']))\n",
    "data.value_counts().plot.barh()\n",
    "print(dict(enumerate(label_encoder.classes_)))"
   ]
  },
  {
   "cell_type": "markdown",
   "metadata": {},
   "source": [
    "Не могу понять почему не срабатывает LabelEncoder, в общей функции ниже новая колонка создается. "
   ]
  },
  {
   "cell_type": "markdown",
   "metadata": {},
   "source": [
    "Предположим, что чем дороже ресторан, тем выше у него рейтинг."
   ]
  },
  {
   "cell_type": "code",
   "execution_count": null,
   "metadata": {},
   "outputs": [],
   "source": [
    "data.loc[data['Price Range'] == '$', 'Price Range'] = 1\n",
    "data.loc[data['Price Range'] == '$$ - $$$', 'Price Range'] = 2\n",
    "data.loc[data['Price Range'] == '$$$$', 'Price Range'] = 3"
   ]
  },
  {
   "cell_type": "code",
   "execution_count": null,
   "metadata": {},
   "outputs": [],
   "source": [
    "data['Price Range'].fillna(2, inplace=True)"
   ]
  },
  {
   "cell_type": "code",
   "execution_count": null,
   "metadata": {},
   "outputs": [],
   "source": [
    "data.groupby('Price Range')['Rating'].count().hist()"
   ]
  },
  {
   "cell_type": "code",
   "execution_count": null,
   "metadata": {},
   "outputs": [],
   "source": [
    "data.groupby('Rating')['Price Range'].count().hist()"
   ]
  },
  {
   "cell_type": "code",
   "execution_count": null,
   "metadata": {},
   "outputs": [],
   "source": [
    "# также трансформируем столбец со значением Country\n",
    "countries_le = LabelEncoder()\n",
    "countries_le.fit(data['Country'])\n",
    "data['Country Code'] = countries_le.transform(data['Country'])"
   ]
  },
  {
   "cell_type": "code",
   "execution_count": null,
   "metadata": {},
   "outputs": [],
   "source": [
    "data"
   ]
  },
  {
   "cell_type": "markdown",
   "metadata": {},
   "source": [
    "# EDA \n",
    "[Exploratory Data Analysis](https://ru.wikipedia.org/wiki/Разведочный_анализ_данных) - Анализ данных\n",
    "На этом этапе мы строим графики, ищем закономерности, аномалии, выбросы или связи между признаками.\n",
    "В общем цель этого этапа понять, что эти данные могут нам дать и как признаки могут быть взаимосвязаны между собой.\n",
    "Понимание изначальных признаков позволит сгенерировать новые, более сильные и, тем самым, сделать нашу модель лучше."
   ]
  },
  {
   "cell_type": "markdown",
   "metadata": {},
   "source": [
    "## Посмотрим распределение признака"
   ]
  },
  {
   "cell_type": "code",
   "execution_count": null,
   "metadata": {},
   "outputs": [],
   "source": [
    "plt.rcParams['figure.figsize'] = (10, 7)\n",
    "df_train['Ranking'].hist(bins=100)"
   ]
  },
  {
   "cell_type": "markdown",
   "metadata": {},
   "source": [
    "У нас много ресторанов, которые не дотягивают и до 2500 места в своем городе, а что там по городам?"
   ]
  },
  {
   "cell_type": "code",
   "execution_count": null,
   "metadata": {},
   "outputs": [],
   "source": [
    "df_train['City'].value_counts(ascending=True).plot(kind='barh')"
   ]
  },
  {
   "cell_type": "markdown",
   "metadata": {},
   "source": [
    "А кто-то говорил, что французы любят поесть=) Посмотрим, как изменится распределение в большом городе:"
   ]
  },
  {
   "cell_type": "code",
   "execution_count": null,
   "metadata": {},
   "outputs": [],
   "source": [
    "df_train['Ranking'][df_train['City'] == 'London'].hist(bins=100)"
   ]
  },
  {
   "cell_type": "code",
   "execution_count": null,
   "metadata": {},
   "outputs": [],
   "source": [
    "# посмотрим на топ 10 городов\n",
    "for x in (df_train['City'].value_counts())[0:10].index:\n",
    "    df_train['Ranking'][df_train['City'] == x].hist(bins=100)\n",
    "plt.show()"
   ]
  },
  {
   "cell_type": "markdown",
   "metadata": {},
   "source": [
    "Получается, что Ranking имеет нормальное распределение, просто в больших городах больше ресторанов, из-за мы этого имеем смещение.\n",
    "\n",
    ">Подумайте как из этого можно сделать признак для вашей модели. Я покажу вам пример, как визуализация помогает находить взаимосвязи. А далее действуйте без подсказок =) \n"
   ]
  },
  {
   "cell_type": "markdown",
   "metadata": {},
   "source": [
    "## Посмотрим распределение целевой переменной"
   ]
  },
  {
   "cell_type": "code",
   "execution_count": null,
   "metadata": {},
   "outputs": [],
   "source": [
    "df_train['Rating'].value_counts(ascending=True).plot(kind='barh')"
   ]
  },
  {
   "cell_type": "markdown",
   "metadata": {},
   "source": [
    "## Посмотрим распределение целевой переменной относительно признака"
   ]
  },
  {
   "cell_type": "code",
   "execution_count": null,
   "metadata": {},
   "outputs": [],
   "source": [
    "df_train['Ranking'][df_train['Rating'] == 5].hist(bins=100)"
   ]
  },
  {
   "cell_type": "code",
   "execution_count": null,
   "metadata": {},
   "outputs": [],
   "source": [
    "df_train['Ranking'][df_train['Rating'] < 4].hist(bins=100)"
   ]
  },
  {
   "cell_type": "markdown",
   "metadata": {},
   "source": [
    "## И один из моих любимых - [корреляция признаков](https://ru.wikipedia.org/wiki/Корреляция)\n",
    "На этом графике уже сейчас вы сможете заметить, как признаки связаны между собой и с целевой переменной."
   ]
  },
  {
   "cell_type": "code",
   "execution_count": null,
   "metadata": {},
   "outputs": [],
   "source": [
    "plt.rcParams['figure.figsize'] = (15, 10)\n",
    "sns.heatmap(data.drop(['sample'], axis=1).corr(),)"
   ]
  },
  {
   "cell_type": "markdown",
   "metadata": {},
   "source": [
    "# Data Preprocessing\n",
    "Теперь, для удобства и воспроизводимости кода, завернем всю обработку в одну большую функцию."
   ]
  },
  {
   "cell_type": "code",
   "execution_count": null,
   "metadata": {},
   "outputs": [],
   "source": [
    "# функция для примера\n",
    "# МАЕ - 0.43\n",
    "def preproc_data_0(df_input):\n",
    "    '''includes several functions to pre-process the predictor data.'''\n",
    "    \n",
    "    df_output = df_input.copy()\n",
    "    \n",
    "    # ################### 1. Предобработка ############################################################## \n",
    "    # убираем не нужные для модели признаки\n",
    "    df_output.drop(['Restaurant_id','ID_TA',], axis = 1, inplace=True)\n",
    "    \n",
    "    \n",
    "    # ################### 2. NAN ############################################################## \n",
    "    # Далее заполняем пропуски, вы можете попробовать заполнением средним или средним по городу и тд...\n",
    "    df_output['Number of Reviews'].fillna(0, inplace=True)\n",
    "    # тут ваш код по обработке NAN\n",
    "    # ....\n",
    "    \n",
    "    \n",
    "    # ################### 3. Encoding ############################################################## \n",
    "    # для One-Hot Encoding в pandas есть готовая функция - get_dummies. Особенно радует параметр dummy_na\n",
    "    df_output = pd.get_dummies(df_output, columns=[ 'City',], dummy_na=True)\n",
    "    # тут ваш код не Encoding фитчей\n",
    "    # ....\n",
    "    \n",
    "    \n",
    "    # ################### 4. Feature Engineering ####################################################\n",
    "    # тут ваш код не генерацию новых фитчей\n",
    "    # ....\n",
    "    \n",
    "    \n",
    "    # ################### 5. Clean #################################################### \n",
    "    # убираем признаки которые еще не успели обработать, \n",
    "    # модель на признаках с dtypes \"object\" обучаться не будет, просто выберим их и удалим\n",
    "    object_columns = [s for s in df_output.columns if df_output[s].dtypes == 'object']\n",
    "    df_output.drop(object_columns, axis = 1, inplace=True)\n",
    "    \n",
    "    return df_output"
   ]
  },
  {
   "cell_type": "code",
   "execution_count": null,
   "metadata": {},
   "outputs": [],
   "source": [
    "# Участвую столбцы 'Ranking', 'Number of Reviews', 'sample', 'Rating',\n",
    "#        'pr_range', 'City_-all-'\n",
    "# MAE - 0.026\n",
    "def preproc_data_1(df_input, row_count = None):\n",
    "    '''includes several functions to pre-process the predictor data.'''\n",
    "    \n",
    "    if row_count is not None:\n",
    "        df_output = df_input.head(row_count).copy()\n",
    "    else:\n",
    "        df_output = df_input.copy()\n",
    "    \n",
    "    # ################### 1. Предобработка ############################################################## \n",
    "    # убираем не нужные для модели признаки\n",
    "#   df_output.drop(['Restaurant_id','ID_TA',], axis = 1, inplace=True)\n",
    "    \n",
    "    \n",
    "    # ################### 2. NAN ############################################################## \n",
    "    # Далее заполняем пропуски, вы можете попробовать заполнением средним или средним по городу и тд...\n",
    "#     df_output['Number of Reviews'].fillna(0, inplace=True)\n",
    "    # тут ваш код по обработке NAN\n",
    "    # ....\n",
    "    df_output['Cuisine Style'].fillna(\"['none']\", inplace=True)\n",
    "    df_output['Reviews'].fillna(\"[[],[]]\", inplace=True)\n",
    "    df_output['Restaurant_id'] = df_output['Restaurant_id'].apply(lambda x: x[3:])\n",
    "    \n",
    "    \n",
    "#     Price range\n",
    "    df_output['Price Range'].fillna(\"$$ - $$$\", inplace=True)\n",
    "    df_output['pr_range'] = pd.Series(label_encoder.fit_transform(df_output['Price Range']))\n",
    "    \n",
    "#     Number of reviews\n",
    "    df_output['Number of Reviews'] = df_output \\\n",
    "     .apply(lambda row: df_output[df_output.City==row.City] \\\n",
    "            ['Number of Reviews'].median() if pd.isna(row['Number of Reviews']) else row['Number of Reviews'], axis=1)\n",
    "    \n",
    "#     Cusine style\n",
    "    prepared_data=df_output['Cuisine Style'].apply(lambda x: x.strip('][').split(', ')) \\\n",
    "      .apply(pd.Series) \\\n",
    "      .merge(df_output, left_index = True, right_index = True) \\\n",
    "      .drop(['Cuisine Style'], axis=1)\n",
    "    \n",
    "    df_output = prepared_data.melt(id_vars = ['Restaurant_id', 'City', 'Ranking', 'Price Range',\n",
    "       'Number of Reviews', 'Reviews', 'URL_TA', 'ID_TA', 'sample', 'Rating', 'pr_range'], value_name = 'cusine') \\\n",
    "      .drop(['variable'], axis=1) \\\n",
    "      .dropna(subset=['cusine'])\n",
    "    \n",
    "#     Reviews\n",
    "    prepared_data=df_output['Reviews'].apply(lambda x: x.strip('][').partition('], [')[2].split(', ')) \\\n",
    "      .apply(pd.Series) \\\n",
    "      .merge(df_output, left_index = True, right_index = True) \\\n",
    "      .drop(['Reviews'], axis=1)\n",
    "\n",
    "    df_output = prepared_data.melt(id_vars = ['Restaurant_id', 'City', 'Ranking', 'Price Range',\n",
    "       'Number of Reviews', 'URL_TA', 'ID_TA', 'sample', 'Rating', 'cusine', 'pr_range'], value_name = 'date') \\\n",
    "    .drop(['variable'], axis=1) \\\n",
    "    .dropna(subset=['date'])\n",
    "\n",
    "    df_output['date'] = pd.to_datetime(df_output['date'])\n",
    "    \n",
    "    #df_output['cusine_1'] = pd.Series(label_encoder.fit_transform(df_output['cusine']))\n",
    "    \n",
    "\n",
    "    \n",
    "    # ################### 3. Encoding ############################################################## \n",
    "    # для One-Hot Encoding в pandas есть готовая функция - get_dummies. Особенно радует параметр dummy_na\n",
    "    df_output = pd.get_dummies(df_output, columns=[ 'City',], dummy_na=True)\n",
    "\n",
    "    \n",
    "    \n",
    "    \n",
    "    \n",
    "    # ################### 4. Feature Engineering ####################################################\n",
    "    # тут ваш код не генерацию новых фитчей\n",
    "    # ....\n",
    "    \n",
    "    \n",
    "    # ################### 5. Clean #################################################### \n",
    "    # убираем признаки которые еще не успели обработать, \n",
    "    # модель на признаках с dtypes \"object\" обучаться не будет, просто выберим их и удалим\n",
    "    \n",
    "    object_columns = [s for s in df_output.columns if df_output[s].dtypes == 'object']\n",
    "    df_output.drop(object_columns, axis = 1, inplace=True)\n",
    "    df_output.drop(['date'], axis = 1, inplace=True)\n",
    "    \n",
    "    return df_output"
   ]
  },
  {
   "cell_type": "code",
   "execution_count": null,
   "metadata": {},
   "outputs": [],
   "source": [
    "# Участвую столбцы 'Ranking', 'Number of Reviews', 'sample', 'Rating', 'pr_range',\n",
    "#        'City_','cusine_'''\n",
    "# MAE = 0.044 (добавленные через даммис без какой-либо обработки кухни ухудшили результат и не одна из кухонь не была определена, как важная)\n",
    "def preproc_data_2(df_input, row_count = None):\n",
    "    '''includes several functions to pre-process the predictor data.'''\n",
    "    \n",
    "    if row_count is not None:\n",
    "        df_output = df_input.head(row_count).copy()\n",
    "    else:\n",
    "        df_output = df_input.copy()\n",
    "    \n",
    "    # ################### 1. Предобработка ############################################################## \n",
    "    # убираем не нужные для модели признаки\n",
    "#   df_output.drop(['Restaurant_id','ID_TA',], axis = 1, inplace=True)\n",
    "    \n",
    "    \n",
    "    # ################### 2. NAN ############################################################## \n",
    "    # Далее заполняем пропуски, вы можете попробовать заполнением средним или средним по городу и тд...\n",
    "#     df_output['Number of Reviews'].fillna(0, inplace=True)\n",
    "    # тут ваш код по обработке NAN\n",
    "    # ....\n",
    "    df_output['Cuisine Style'].fillna(\"['none']\", inplace=True)\n",
    "    df_output['Reviews'].fillna(\"[[],[]]\", inplace=True)\n",
    "    df_output['Restaurant_id'] = df_output['Restaurant_id'].apply(lambda x: x[3:])\n",
    "    \n",
    "    \n",
    "#     Price range\n",
    "    df_output['Price Range'].fillna(\"$$ - $$$\", inplace=True)\n",
    "    df_output['pr_range'] = pd.Series(label_encoder.fit_transform(df_output['Price Range']))\n",
    "    \n",
    "#     Number of reviews\n",
    "    df_output['Number of Reviews'] = df_output \\\n",
    "     .apply(lambda row: df_output[df_output.City==row.City] \\\n",
    "            ['Number of Reviews'].median() if pd.isna(row['Number of Reviews']) else row['Number of Reviews'], axis=1)\n",
    "    \n",
    "#     Cusine style\n",
    "    prepared_data=df_output['Cuisine Style'].apply(lambda x: x.strip('][').split(', ')) \\\n",
    "      .apply(pd.Series) \\\n",
    "      .merge(df_output, left_index = True, right_index = True) \\\n",
    "      .drop(['Cuisine Style'], axis=1)\n",
    "    \n",
    "    df_output = prepared_data.melt(id_vars = ['Restaurant_id', 'City', 'Ranking', 'Price Range',\n",
    "       'Number of Reviews', 'Reviews', 'URL_TA', 'ID_TA', 'sample', 'Rating', 'pr_range'], value_name = 'cusine') \\\n",
    "      .drop(['variable'], axis=1) \\\n",
    "      .dropna(subset=['cusine'])\n",
    "    \n",
    "#     Reviews\n",
    "    prepared_data=df_output['Reviews'].apply(lambda x: x.strip('][').partition('], [')[2].split(', ')) \\\n",
    "      .apply(pd.Series) \\\n",
    "      .merge(df_output, left_index = True, right_index = True) \\\n",
    "      .drop(['Reviews'], axis=1)\n",
    "\n",
    "    df_output = prepared_data.melt(id_vars = ['Restaurant_id', 'City', 'Ranking', 'Price Range',\n",
    "       'Number of Reviews', 'URL_TA', 'ID_TA', 'sample', 'Rating', 'cusine', 'pr_range'], value_name = 'date') \\\n",
    "    .drop(['variable'], axis=1) \\\n",
    "    .dropna(subset=['date'])\n",
    "\n",
    "    df_output['date'] = pd.to_datetime(df_output['date'])\n",
    "    \n",
    "    #df_output['cusine_1'] = pd.Series(label_encoder.fit_transform(df_output['cusine']))\n",
    "    \n",
    "\n",
    "    # ################### 3. Encoding ############################################################## \n",
    "    # для One-Hot Encoding в pandas есть готовая функция - get_dummies. Особенно радует параметр dummy_na\n",
    "    df_output = pd.get_dummies(df_output, columns=[ 'City',], dummy_na=True)\n",
    "    df_output = pd.get_dummies(df_output, columns=[ 'cusine',], dummy_na=True)\n",
    "\n",
    "    \n",
    "    # ################### 4. Feature Engineering ####################################################\n",
    "    # тут ваш код не генерацию новых фитчей\n",
    "    # ....\n",
    "    \n",
    "    \n",
    "    # ################### 5. Clean #################################################### \n",
    "    # убираем признаки которые еще не успели обработать, \n",
    "    # модель на признаках с dtypes \"object\" обучаться не будет, просто выберим их и удалим\n",
    "    \n",
    "    object_columns = [s for s in df_output.columns if df_output[s].dtypes == 'object']\n",
    "    df_output.drop(object_columns, axis = 1, inplace=True)\n",
    "    df_output.drop(['date'], axis = 1, inplace=True)\n",
    "    \n",
    "    return df_output"
   ]
  },
  {
   "cell_type": "code",
   "execution_count": null,
   "metadata": {},
   "outputs": [],
   "source": [
    "# Участвую столбцы 'Number of Reviews', 'sample', 'Rating', 'pr_range',\n",
    "#        'City_'\n",
    "# MAE = 0.276 (убрала столбец Ranking, повысилась важность Number of Reviews и pr_range)\n",
    "def preproc_data_3(df_input, row_count = None):\n",
    "    '''includes several functions to pre-process the predictor data.'''\n",
    "    \n",
    "    if row_count is not None:\n",
    "        df_output = df_input.head(row_count).copy()\n",
    "    else:\n",
    "        df_output = df_input.copy()\n",
    "    \n",
    "    # ################### 1. Предобработка ############################################################## \n",
    "    # убираем не нужные для модели признаки\n",
    "#   df_output.drop(['Restaurant_id','ID_TA',], axis = 1, inplace=True)\n",
    "    \n",
    "    \n",
    "    # ################### 2. NAN ############################################################## \n",
    "    # Далее заполняем пропуски, вы можете попробовать заполнением средним или средним по городу и тд...\n",
    "#     df_output['Number of Reviews'].fillna(0, inplace=True)\n",
    "    # тут ваш код по обработке NAN\n",
    "    # ....\n",
    "    df_output['Cuisine Style'].fillna(\"['none']\", inplace=True)\n",
    "    df_output['Reviews'].fillna(\"[[],[]]\", inplace=True)\n",
    "    df_output['Restaurant_id'] = df_output['Restaurant_id'].apply(lambda x: x[3:])\n",
    "    \n",
    "    \n",
    "#     Price range\n",
    "    df_output['Price Range'].fillna(\"$$ - $$$\", inplace=True)\n",
    "    df_output['pr_range'] = pd.Series(label_encoder.fit_transform(df_output['Price Range']))\n",
    "    \n",
    "#     Number of reviews\n",
    "    df_output['Number of Reviews'] = df_output \\\n",
    "     .apply(lambda row: df_output[df_output.City==row.City] \\\n",
    "            ['Number of Reviews'].median() if pd.isna(row['Number of Reviews']) else row['Number of Reviews'], axis=1)\n",
    "    \n",
    "#     Cusine style\n",
    "    prepared_data=df_output['Cuisine Style'].apply(lambda x: x.strip('][').split(', ')) \\\n",
    "      .apply(pd.Series) \\\n",
    "      .merge(df_output, left_index = True, right_index = True) \\\n",
    "      .drop(['Cuisine Style'], axis=1)\n",
    "    \n",
    "    df_output = prepared_data.melt(id_vars = ['Restaurant_id', 'City', 'Ranking', 'Price Range',\n",
    "       'Number of Reviews', 'Reviews', 'URL_TA', 'ID_TA', 'sample', 'Rating', 'pr_range'], value_name = 'cusine') \\\n",
    "      .drop(['variable'], axis=1) \\\n",
    "      .dropna(subset=['cusine'])\n",
    "    \n",
    "#     Reviews\n",
    "    prepared_data=df_output['Reviews'].apply(lambda x: x.strip('][').partition('], [')[2].split(', ')) \\\n",
    "      .apply(pd.Series) \\\n",
    "      .merge(df_output, left_index = True, right_index = True) \\\n",
    "      .drop(['Reviews'], axis=1)\n",
    "\n",
    "    df_output = prepared_data.melt(id_vars = ['Restaurant_id', 'City', 'Ranking', 'Price Range',\n",
    "       'Number of Reviews', 'URL_TA', 'ID_TA', 'sample', 'Rating', 'cusine', 'pr_range'], value_name = 'date') \\\n",
    "    .drop(['variable'], axis=1) \\\n",
    "    .dropna(subset=['date'])\n",
    "\n",
    "    df_output['date'] = pd.to_datetime(df_output['date'])\n",
    "    \n",
    "    #df_output['cusine_1'] = pd.Series(label_encoder.fit_transform(df_output['cusine']))\n",
    "    \n",
    "\n",
    "    # ################### 3. Encoding ############################################################## \n",
    "    # для One-Hot Encoding в pandas есть готовая функция - get_dummies. Особенно радует параметр dummy_na\n",
    "    df_output = pd.get_dummies(df_output, columns=[ 'City',], dummy_na=True)\n",
    "    \n",
    "    # ################### 4. Feature Engineering ####################################################\n",
    "    # тут ваш код не генерацию новых фитчей\n",
    "    # ....\n",
    "    \n",
    "    # ################### 5. Clean #################################################### \n",
    "    # убираем признаки которые еще не успели обработать, \n",
    "    # модель на признаках с dtypes \"object\" обучаться не будет, просто выберим их и удалим\n",
    "    \n",
    "    object_columns = [s for s in df_output.columns if df_output[s].dtypes == 'object']\n",
    "    df_output.drop(object_columns, axis = 1, inplace=True)\n",
    "    df_output.drop(['date', 'Ranking'], axis = 1, inplace=True)\n",
    "    \n",
    "    return df_output"
   ]
  },
  {
   "cell_type": "code",
   "execution_count": null,
   "metadata": {},
   "outputs": [],
   "source": [
    "# Участвую столбцы 'Restaurant_id', 'Number of Reviews', 'sample', 'Rating', 'pr_range',\n",
    "#        'City_'\n",
    "# MAE = 0.0269 (Restaurant_id добавила - оказался значимым столбцом, 'Ranking' так и не добавляла)\n",
    "def preproc_data_4(df_input, row_count = None):\n",
    "    '''includes several functions to pre-process the predictor data.'''\n",
    "    \n",
    "    if row_count is not None:\n",
    "        df_output = df_input.head(row_count).copy()\n",
    "    else:\n",
    "        df_output = df_input.copy()\n",
    "    \n",
    "    # ################### 1. Предобработка ############################################################## \n",
    "    # убираем не нужные для модели признаки\n",
    "#   df_output.drop(['Restaurant_id','ID_TA',], axis = 1, inplace=True)\n",
    "    \n",
    "    \n",
    "    # ################### 2. NAN ############################################################## \n",
    "    # Далее заполняем пропуски, вы можете попробовать заполнением средним или средним по городу и тд...\n",
    "#     df_output['Number of Reviews'].fillna(0, inplace=True)\n",
    "    # тут ваш код по обработке NAN\n",
    "    # ....\n",
    "    df_output['Cuisine Style'].fillna(\"['none']\", inplace=True)\n",
    "    df_output['Reviews'].fillna(\"[[],[]]\", inplace=True)\n",
    "    df_output['Restaurant_id'] = df_output['Restaurant_id'].apply(lambda x: x[3:])\n",
    "    \n",
    "    df_output['Restaurant_id'] = pd.to_numeric(df_output['Restaurant_id'], errors='coerce').fillna(0, downcast='infer')\n",
    "    \n",
    "    \n",
    "#     Price range\n",
    "    df_output['Price Range'].fillna(\"$$ - $$$\", inplace=True)\n",
    "    df_output['pr_range'] = pd.Series(label_encoder.fit_transform(df_output['Price Range']))\n",
    "    \n",
    "#     Number of reviews\n",
    "    df_output['Number of Reviews'] = df_output \\\n",
    "     .apply(lambda row: df_output[df_output.City==row.City] \\\n",
    "            ['Number of Reviews'].median() if pd.isna(row['Number of Reviews']) else row['Number of Reviews'], axis=1)\n",
    "    \n",
    "#     Cusine style\n",
    "    prepared_data=df_output['Cuisine Style'].apply(lambda x: x.strip('][').split(', ')) \\\n",
    "      .apply(pd.Series) \\\n",
    "      .merge(df_output, left_index = True, right_index = True) \\\n",
    "      .drop(['Cuisine Style'], axis=1)\n",
    "    \n",
    "    df_output = prepared_data.melt(id_vars = ['Restaurant_id', 'City', 'Ranking', 'Price Range',\n",
    "       'Number of Reviews', 'Reviews', 'URL_TA', 'ID_TA', 'sample', 'Rating', 'pr_range'], value_name = 'cusine') \\\n",
    "      .drop(['variable'], axis=1) \\\n",
    "      .dropna(subset=['cusine'])\n",
    "    \n",
    "#     Reviews\n",
    "    prepared_data=df_output['Reviews'].apply(lambda x: x.strip('][').partition('], [')[2].split(', ')) \\\n",
    "      .apply(pd.Series) \\\n",
    "      .merge(df_output, left_index = True, right_index = True) \\\n",
    "      .drop(['Reviews'], axis=1)\n",
    "\n",
    "    df_output = prepared_data.melt(id_vars = ['Restaurant_id', 'City', 'Ranking', 'Price Range',\n",
    "       'Number of Reviews', 'URL_TA', 'ID_TA', 'sample', 'Rating', 'cusine', 'pr_range'], value_name = 'date') \\\n",
    "    .drop(['variable'], axis=1) \\\n",
    "    .dropna(subset=['date'])\n",
    "\n",
    "    df_output['date'] = pd.to_datetime(df_output['date'])\n",
    "    \n",
    "    #df_output['cusine_1'] = pd.Series(label_encoder.fit_transform(df_output['cusine']))\n",
    "    \n",
    "\n",
    "    # ################### 3. Encoding ############################################################## \n",
    "    # для One-Hot Encoding в pandas есть готовая функция - get_dummies. Особенно радует параметр dummy_na\n",
    "    df_output = pd.get_dummies(df_output, columns=[ 'City',], dummy_na=True)\n",
    "    \n",
    "    # ################### 4. Feature Engineering ####################################################\n",
    "    # тут ваш код не генерацию новых фитчей\n",
    "    # ....\n",
    "    \n",
    "    # ################### 5. Clean #################################################### \n",
    "    # убираем признаки которые еще не успели обработать, \n",
    "    # модель на признаках с dtypes \"object\" обучаться не будет, просто выберим их и удалим\n",
    "    \n",
    "    object_columns = [s for s in df_output.columns if df_output[s].dtypes == 'object']\n",
    "    df_output.drop(object_columns, axis = 1, inplace=True)\n",
    "    df_output.drop(['date', 'Ranking'], axis = 1, inplace=True)\n",
    "    \n",
    "    return df_output"
   ]
  },
  {
   "cell_type": "code",
   "execution_count": null,
   "metadata": {},
   "outputs": [],
   "source": [
    "# Участвую столбцы 'Restaurant_id', 'Number of Reviews', 'sample', 'Rating', 'pr_range', \n",
    "#        'City_', 'Ranking'\n",
    "# MAE = 0.269 (Restaurant_id добавила - оказался значимым столбцом, 'Ranking' тоже значимый)\n",
    "def preproc_data_5(df_input, row_count = None):\n",
    "    '''includes several functions to pre-process the predictor data.'''\n",
    "    \n",
    "    if row_count is not None:\n",
    "        df_output = df_input.head(row_count).copy()\n",
    "    else:\n",
    "        df_output = df_input.copy()\n",
    "    \n",
    "    # ################### 1. Предобработка ############################################################## \n",
    "    # убираем не нужные для модели признаки\n",
    "#   df_output.drop(['Restaurant_id','ID_TA',], axis = 1, inplace=True)\n",
    "    \n",
    "    \n",
    "    # ################### 2. NAN ############################################################## \n",
    "    # Далее заполняем пропуски, вы можете попробовать заполнением средним или средним по городу и тд...\n",
    "#     df_output['Number of Reviews'].fillna(0, inplace=True)\n",
    "    # тут ваш код по обработке NAN\n",
    "    # ....\n",
    "    df_output['Cuisine Style'].fillna(\"['none']\", inplace=True)\n",
    "    df_output['Reviews'].fillna(\"[[],[]]\", inplace=True)\n",
    "    df_output['Restaurant_id'] = df_output['Restaurant_id'].apply(lambda x: x[3:])\n",
    "    \n",
    "    df_output['Restaurant_id'] = pd.to_numeric(df_output['Restaurant_id'], errors='coerce').fillna(0, downcast='infer')\n",
    "    \n",
    "    \n",
    "#     Price range\n",
    "    df_output['Price Range'].fillna(\"$$ - $$$\", inplace=True)\n",
    "    df_output['pr_range'] = pd.Series(label_encoder.fit_transform(df_output['Price Range']))\n",
    "    \n",
    "#     Number of reviews\n",
    "    df_output['Number of Reviews'] = df_output \\\n",
    "     .apply(lambda row: df_output[df_output.City==row.City] \\\n",
    "            ['Number of Reviews'].median() if pd.isna(row['Number of Reviews']) else row['Number of Reviews'], axis=1)\n",
    "    \n",
    "#     Cusine style\n",
    "    prepared_data=df_output['Cuisine Style'].apply(lambda x: x.strip('][').split(', ')) \\\n",
    "      .apply(pd.Series) \\\n",
    "      .merge(df_output, left_index = True, right_index = True) \\\n",
    "      .drop(['Cuisine Style'], axis=1)\n",
    "    \n",
    "    df_output = prepared_data.melt(id_vars = ['Restaurant_id', 'City', 'Ranking', 'Price Range',\n",
    "       'Number of Reviews', 'Reviews', 'URL_TA', 'ID_TA', 'sample', 'Rating', 'pr_range'], value_name = 'cusine') \\\n",
    "      .drop(['variable'], axis=1) \\\n",
    "      .dropna(subset=['cusine'])\n",
    "    \n",
    "#     Reviews\n",
    "    prepared_data=df_output['Reviews'].apply(lambda x: x.strip('][').partition('], [')[2].split(', ')) \\\n",
    "      .apply(pd.Series) \\\n",
    "      .merge(df_output, left_index = True, right_index = True) \\\n",
    "      .drop(['Reviews'], axis=1)\n",
    "\n",
    "    df_output = prepared_data.melt(id_vars = ['Restaurant_id', 'City', 'Ranking', 'Price Range',\n",
    "       'Number of Reviews', 'URL_TA', 'ID_TA', 'sample', 'Rating', 'cusine', 'pr_range'], value_name = 'date') \\\n",
    "    .drop(['variable'], axis=1) \\\n",
    "    .dropna(subset=['date'])\n",
    "\n",
    "    df_output['date'] = pd.to_datetime(df_output['date'])\n",
    "    \n",
    "    #df_output['cusine_1'] = pd.Series(label_encoder.fit_transform(df_output['cusine']))\n",
    "    \n",
    "\n",
    "    # ################### 3. Encoding ############################################################## \n",
    "    # для One-Hot Encoding в pandas есть готовая функция - get_dummies. Особенно радует параметр dummy_na\n",
    "    df_output = pd.get_dummies(df_output, columns=[ 'City',], dummy_na=True)\n",
    "    \n",
    "    # ################### 4. Feature Engineering ####################################################\n",
    "    # тут ваш код не генерацию новых фитчей\n",
    "    # ....\n",
    "    \n",
    "    # ################### 5. Clean #################################################### \n",
    "    # убираем признаки которые еще не успели обработать, \n",
    "    # модель на признаках с dtypes \"object\" обучаться не будет, просто выберим их и удалим\n",
    "    \n",
    "    object_columns = [s for s in df_output.columns if df_output[s].dtypes == 'object']\n",
    "    df_output.drop(object_columns, axis = 1, inplace=True)\n",
    "    df_output.drop(['date'], axis = 1, inplace=True)\n",
    "    \n",
    "    return df_output"
   ]
  },
  {
   "cell_type": "code",
   "execution_count": 62,
   "metadata": {},
   "outputs": [],
   "source": [
    "# собираем в одну функцию\n",
    "def preproc_data_6(df_input, row_count=None):\n",
    "    '''includes several functions to pre-process the predictor data.'''\n",
    "\n",
    "    if row_count is not None:\n",
    "        df_output = df_input.head(row_count).copy()\n",
    "    else:\n",
    "        df_output = df_input.copy()\n",
    "\n",
    "    # ################### 1. Предобработка ##############################################################\n",
    "    # убираем не нужные для модели признаки\n",
    "#   df_output.drop(['Restaurant_id','ID_TA',], axis = 1, inplace=True)\n",
    "\n",
    "    # ################### 2. NAN ##############################################################\n",
    "    # Далее заполняем пропуски, вы можете попробовать заполнением средним или средним по городу и тд...\n",
    "#     df_output['Number of Reviews'].fillna(0, inplace=True)\n",
    "    # тут ваш код по обработке NAN\n",
    "    # ....\n",
    "    df_output['Number_of_Reviews_isNAN'] = pd.isna(\n",
    "        df_output['Number of Reviews']).astype('uint8')\n",
    "    df_output['Cuisine_Style_isNAN'] = pd.isna(\n",
    "        df_output['Cuisine Style']).astype('uint8')\n",
    "    df_output['Price_Range_isNAN'] = pd.isna(\n",
    "        df_output['Price Range']).astype('uint8')\n",
    "\n",
    "    df_output['Cuisine Style'].fillna(\"['none']\", inplace=True)\n",
    "    df_output['Reviews'].fillna(\"[[],[]]\", inplace=True)\n",
    "\n",
    "    European = ['European', 'Dutch', 'French', 'Central European', 'Italian', 'Irish',\n",
    "                'German', 'Belgian', 'British', 'Spanish', 'Swiss', 'Scandinavian Middle']\n",
    "    Middle_Eastern = ['Mediterranean', 'Lebanese', 'Arabic',\n",
    "                      'Turkish', 'Moroccan', 'Tunisian', 'Persian']\n",
    "    Asian = ['Asian', 'Indonesian', 'Japanese',\n",
    "             'Chinese', 'Indian', 'Tibetan', 'Nepali', 'Thai']\n",
    "    Others = ['International', 'New Zealand', 'American',\n",
    "              'Argentinean', 'South American', 'Latin']\n",
    "    Healthy_Options = ['Vegetarian Friendly',\n",
    "                       'Vegan Options', 'Gluten Free Options', 'Healthy']\n",
    "    Bars = ['Bar', 'Pub', 'Wine Bar']\n",
    "    Specific = ['Diner', 'Cafe', 'Fast Food', 'Pizza', 'Seafood', 'Sushi', 'Soups',\n",
    "                'Delicatessen', 'Contemporary', 'Halal', 'Grill', 'Barbecue', 'Steakhouse']\n",
    "\n",
    "    def cuisine_group(cuisines, cuisines_type):\n",
    "        flag = 0\n",
    "        if not isinstance(cuisines, float):\n",
    "            for cuisine in ast.literal_eval(cuisines):\n",
    "                if cuisine in cuisines_type:\n",
    "                    flag = 1\n",
    "        return flag\n",
    "\n",
    "    df_output['european_group'] = df_output['Cuisine Style'].apply(\n",
    "        cuisine_group, args=(European,))\n",
    "    df_output['middle_eastern_group'] = df_output['Cuisine Style'].apply(\n",
    "        cuisine_group, args=(Middle_Eastern,))\n",
    "    df_output['asian_group'] = df_output['Cuisine Style'].apply(\n",
    "        cuisine_group, args=(Asian,))\n",
    "    df_output['others_group'] = df_output['Cuisine Style'].apply(\n",
    "        cuisine_group, args=(Others,))\n",
    "    df_output['healthy_options_group'] = df_output['Cuisine Style'].apply(\n",
    "        cuisine_group, args=(Healthy_Options,))\n",
    "    df_output['bars_group'] = df_output['Cuisine Style'].apply(\n",
    "        cuisine_group, args=(Bars,))\n",
    "    df_output['specific_group'] = df_output['Cuisine Style'].apply(\n",
    "        cuisine_group, args=(Specific,))\n",
    "\n",
    "    df_output['Cuisine Style'] = df_output['Cuisine Style'].str[2:-\n",
    "                                                                2].str.split(\"', '\")\n",
    "    df_output['Cuisine count'] = df_output['Cuisine Style'].str.len()\n",
    "\n",
    "#     Price range\n",
    "    df_output['Price Range'].fillna(\"$$ - $$$\", inplace=True)\n",
    "    df_output['pr_range'] = pd.Series(\n",
    "        label_encoder.fit_transform(df_output['Price Range']))\n",
    "\n",
    "#     Number of reviews\n",
    "    df_output['Number of Reviews'] = df_output \\\n",
    "        .apply(lambda row: df_output[df_output.City == row.City]\n",
    "               ['Number of Reviews'].median() if pd.isna(row['Number of Reviews']) else row['Number of Reviews'], axis=1)\n",
    "\n",
    "# #     Cusine style\n",
    "#     prepared_data=df_output['Cuisine Style'].apply(lambda x: x.strip('][').split(', ')) \\\n",
    "#       .apply(pd.Series) \\\n",
    "#       .merge(df_output, left_index = True, right_index = True) \\\n",
    "#       .drop(['Cuisine Style'], axis=1)\n",
    "\n",
    "#     df_output = prepared_data.melt(id_vars = ['Restaurant_id', 'City', 'Ranking', 'Price Range',\n",
    "#        'Number of Reviews', 'Reviews', 'URL_TA', 'ID_TA', 'sample', 'Rating', 'pr_range', 'Number_of_Reviews_isNAN',\n",
    "#                                          'Price_Range_isNAN', 'Cuisine_Style_isNAN', ], value_name = 'cusine') \\\n",
    "#       .drop(['variable'], axis=1) \\\n",
    "#       .dropna(subset=['cusine'])\n",
    "\n",
    "# #     Reviews\n",
    "#     prepared_data=df_output['Reviews'].apply(lambda x: x.strip('][').partition('], [')[2].split(', ')) \\\n",
    "#       .apply(pd.Series) \\\n",
    "#       .merge(df_output, left_index = True, right_index = True) \\\n",
    "#       .drop(['Reviews'], axis=1)\n",
    "# #    Date\n",
    "#     df_output = prepared_data.melt(id_vars = ['Restaurant_id', 'City', 'Ranking', 'Price Range',\n",
    "#        'Number of Reviews', 'URL_TA', 'ID_TA', 'sample', 'Rating', 'cusine', 'pr_range'], value_name = 'date') \\\n",
    "#     .drop(['variable'], axis=1) \\\n",
    "#     .dropna(subset=['date'])\n",
    "\n",
    "#     df_output['date'] = pd.to_datetime(df_output['date'])\n",
    "\n",
    "    #df_output['cusine_1'] = pd.Series(label_encoder.fit_transform(df_output['cusine']))\n",
    "\n",
    "#     Capitals\n",
    "    capitals = ['Paris', 'Stockholm', 'London', 'Berlin',\n",
    "                'Bratislava', 'Vienna', 'Rome', 'Madrid',\n",
    "                'Dublin', 'Brussels', 'Warsaw', 'Budapest', 'Copenhagen',\n",
    "                'Amsterdam', 'Lisbon', 'Prague', 'Oslo',\n",
    "                'Helsinki', 'Ljubljana', 'Athens', 'Luxembourg', ]\n",
    "\n",
    "    def is_capital(city):\n",
    "        if city in capitals:\n",
    "            return 1\n",
    "        else:\n",
    "            return 0\n",
    "\n",
    "    df_output['is_capital'] = df_output['City'].apply(is_capital)\n",
    "\n",
    "#     Population\n",
    "    cities = {\n",
    "        'London': 8567000, 'Paris': 9904000, 'Madrid': 5567000, 'Barcelona': 4920000, 'Berlin': 3406000, 'Milan': 2945000,\n",
    "        'Rome': 3339000, 'Prague': 1162000, 'Lisbon': 2812000, 'Vienna': 2400000, 'Amsterdam': 1031000, 'Brussels': 1743000,\n",
    "        'Hamburg': 1757000, 'Munich': 1275000, 'Lyon': 1423000,\n",
    "        'Stockholm': 1264000, 'Budapest': 1679000, 'Warsaw': 1707000, 'Dublin': 1059000,\n",
    "        'Copenhagen': 1085000, 'Athens': 3242000, 'Edinburgh': 504966, 'Zurich': 1108000,\n",
    "        'Oporto': 1337000, 'Geneva': 1240000, 'Krakow': 756000, 'Oslo': 835000, 'Helsinki': 1115000,\n",
    "        'Bratislava': 423737, 'Luxembourg': 107260, 'Ljubljana': 314807,\n",
    "    }\n",
    "\n",
    "    df_output['Population'] = df_output['City'].map(cities)\n",
    "\n",
    "    rest_count = df_output.groupby('City')['Restaurant_id'].count().to_dict()\n",
    "    df_output['Total count of restaurants'] = df_output['City'].map(rest_count)\n",
    "    df_output['People per restaurant'] = df_output['Population'] / \\\n",
    "        df_output['Total count of restaurants']\n",
    "\n",
    "#     Countries\n",
    "    countries = {\n",
    "        'London': 'GB', 'Paris': 'FR', 'Madrid': 'ES', 'Barcelona': 'ES', 'Berlin': 'DE', 'Milan': 'IT',\n",
    "        'Rome': 'IT', 'Prague': 'CZ', 'Lisbon': 'PT', 'Vienna': 'AT', 'Amsterdam': 'NL', 'Brussels': 'BE',\n",
    "        'Hamburg': 'DE', 'Munich': 'DE', 'Lyon': 'FR', 'Stockholm': 'SE', 'Budapest': 'HU', 'Warsaw': 'PL',\n",
    "        'Dublin': 'IE', 'Copenhagen': 'DK', 'Athens': 'GR', 'Edinburgh': 'GB', 'Zurich': 'CH', 'Oporto': 'PT',\n",
    "        'Geneva': 'CH', 'Krakow': 'PL', 'Oslo': 'NO', 'Helsinki': 'FI', 'Bratislava': 'SK', 'Luxembourg': 'LU',\n",
    "        'Ljubljana': 'SI',\n",
    "    }\n",
    "\n",
    "    df_output['Country'] = df_output['City'].map(countries)\n",
    "    countries_le = LabelEncoder()\n",
    "    countries_le.fit(df_output['Country'])\n",
    "    df_output['Country Code'] = countries_le.transform(df_output['Country'])\n",
    "\n",
    "    df_output['ID_TA'] = df_output['ID_TA'].apply(lambda x: int(x[1:]))\n",
    "\n",
    "#     Restaurant chain\n",
    "    restaurant_chain = set()\n",
    "    for chain in df_output['Restaurant_id']:\n",
    "        restaurant_chain.update(chain)\n",
    "\n",
    "    def find_item1(cell):\n",
    "        if item in cell:\n",
    "            return 1\n",
    "        return 0\n",
    "\n",
    "    for item in restaurant_chain:\n",
    "        df_output['Restaurant chain'] = df_output['Restaurant_id'].apply(\n",
    "            find_item1)\n",
    "\n",
    "#        id\n",
    "    df_output['Restaurant_id'] = df_output['Restaurant_id'].apply(\n",
    "        lambda x: x[3:])\n",
    "    df_output['Restaurant_id'] = pd.to_numeric(\n",
    "        df_output['Restaurant_id'], errors='coerce').fillna(0, downcast='infer')\n",
    "\n",
    "#     Reviews\n",
    "    def make_list(list_string):\n",
    "        list_string = list_string.replace('nan]', \"'This is Nan']\")\n",
    "        list_string = list_string.replace('[nan', \"['This is Nan'\")\n",
    "        result_list = ast.literal_eval(list_string)\n",
    "        return result_list\n",
    "\n",
    "    df_output['Reviews'] = df_output['Reviews'].fillna(\"[[], []]\")\n",
    "    df_output['Reviews'] = df_output['Reviews'].apply(make_list)\n",
    "\n",
    "#     Date\n",
    "    def delta_date(row):\n",
    "        if len(row[1]) == 0 or len(row[1]) == 1:\n",
    "            return 0\n",
    "\n",
    "        elif len(row[1]) == 2:\n",
    "            date1 = datetime.strptime(row[1][0], '%m/%d/%Y')\n",
    "            date2 = datetime.strptime(row[1][1], '%m/%d/%Y')\n",
    "        return abs(date1 - date2).days\n",
    "\n",
    "    df_output['Days between reviews'] = df_output['Reviews'].apply(delta_date)\n",
    "\n",
    "#     current_date_dt = datetime.strptime('07/26/2020','%m/%d/%Y')\n",
    "\n",
    "#     def since_last_days(row):\n",
    "#         if len(row[1]) == 0:\n",
    "#             date = datetime.strptime('01/01/2000','%m/%d/%Y')\n",
    "\n",
    "#         elif len(row[1]) == 1:\n",
    "#             date = datetime.strptime(row[1][0],'%m/%d/%Y')\n",
    "\n",
    "#         else:\n",
    "#             date1 = datetime.strptime(row[1][0],'%m/%d/%Y')\n",
    "#             date2 = datetime.strptime(row[1][1],'%m/%d/%Y')\n",
    "#             date = max(date1, date2)\n",
    "\n",
    "#         return (current_date_dt - date).days\n",
    "\n",
    "#     data['Days since last review'] = df_output['Reviews'].apply(since_last_days)\n",
    "\n",
    "    # ################### 3. Encoding ##############################################################\n",
    "    # для One-Hot Encoding в pandas есть готовая функция - get_dummies. Особенно радует параметр dummy_na\n",
    "#     df_output = pd.get_dummies(df_output, columns=[ 'City',], dummy_na=True)\n",
    "\n",
    "    # ################### 5. Clean ####################################################\n",
    "    # убираем признаки которые еще не успели обработать,\n",
    "    # модель на признаках с dtypes \"object\" обучаться не будет, просто выберим их и удалим\n",
    "\n",
    "    object_columns = [\n",
    "        s for s in df_output.columns if df_output[s].dtypes == 'object']\n",
    "    df_output.drop(object_columns, axis=1, inplace=True)\n",
    "    #df_output.drop(['date'], axis = 1, inplace=True)\n",
    "\n",
    "    return df_output"
   ]
  },
  {
   "cell_type": "code",
   "execution_count": 63,
   "metadata": {},
   "outputs": [
    {
     "name": "stdout",
     "output_type": "stream",
     "text": [
      "<class 'pandas.core.frame.DataFrame'>\n",
      "RangeIndex: 50000 entries, 0 to 49999\n",
      "Data columns (total 11 columns):\n",
      "Restaurant_id        50000 non-null object\n",
      "City                 50000 non-null object\n",
      "Cuisine Style        38410 non-null object\n",
      "Ranking              50000 non-null float64\n",
      "Price Range          32639 non-null object\n",
      "Number of Reviews    46800 non-null float64\n",
      "Reviews              49998 non-null object\n",
      "URL_TA               50000 non-null object\n",
      "ID_TA                50000 non-null object\n",
      "sample               50000 non-null int64\n",
      "Rating               50000 non-null float64\n",
      "dtypes: float64(3), int64(1), object(7)\n",
      "memory usage: 4.2+ MB\n"
     ]
    }
   ],
   "source": [
    "# на всякий случай, заново подгружаем данные\n",
    "df_train = pd.read_csv(DATA_DIR+'/main_task.csv')\n",
    "df_test = pd.read_csv(DATA_DIR+'/kaggle_task.csv')\n",
    "df_train['sample'] = 1  # помечаем где у нас трейн\n",
    "df_test['sample'] = 0  # помечаем где у нас тест\n",
    "# в тесте у нас нет значения Rating, мы его должны предсказать, по этому пока просто заполняем нулями\n",
    "df_test['Rating'] = 0\n",
    "\n",
    "data = df_test.append(df_train, sort=False).reset_index(\n",
    "    drop=True)  # объединяем\n",
    "data.info()"
   ]
  },
  {
   "cell_type": "code",
   "execution_count": 64,
   "metadata": {},
   "outputs": [],
   "source": [
    "from sklearn.preprocessing import LabelEncoder, OneHotEncoder\n",
    "import ast\n",
    "from datetime import datetime\n",
    "\n",
    "label_encoder = LabelEncoder()"
   ]
  },
  {
   "cell_type": "markdown",
   "metadata": {},
   "source": [
    "Какие варианты я хочу протестировать?\n",
    "Что будет, если убрать Ranking.\n",
    "Влияет ли как либо Restaurant_id.\n",
    "Если перекодировать cusine без группировки или с группировкой.\n",
    "Если подгрузить доп данные.\n",
    "Если оставить колонку с датой.\n",
    "Если перевести отзывы в числовой вид.\n",
    "\n"
   ]
  },
  {
   "cell_type": "code",
   "execution_count": 65,
   "metadata": {},
   "outputs": [
    {
     "name": "stdout",
     "output_type": "stream",
     "text": [
      "Index(['Restaurant_id', 'Ranking', 'Number of Reviews', 'ID_TA', 'sample',\n",
      "       'Rating', 'Number_of_Reviews_isNAN', 'Cuisine_Style_isNAN',\n",
      "       'Price_Range_isNAN', 'Cuisine count', 'pr_range', 'is_capital',\n",
      "       'Population', 'Total count of restaurants', 'People per restaurant',\n",
      "       'Country Code', 'Restaurant chain', 'Days between reviews'],\n",
      "      dtype='object')\n"
     ]
    },
    {
     "data": {
      "text/html": [
       "<div>\n",
       "<style scoped>\n",
       "    .dataframe tbody tr th:only-of-type {\n",
       "        vertical-align: middle;\n",
       "    }\n",
       "\n",
       "    .dataframe tbody tr th {\n",
       "        vertical-align: top;\n",
       "    }\n",
       "\n",
       "    .dataframe thead th {\n",
       "        text-align: right;\n",
       "    }\n",
       "</style>\n",
       "<table border=\"1\" class=\"dataframe\">\n",
       "  <thead>\n",
       "    <tr style=\"text-align: right;\">\n",
       "      <th></th>\n",
       "      <th>Restaurant_id</th>\n",
       "      <th>Ranking</th>\n",
       "      <th>Number of Reviews</th>\n",
       "      <th>ID_TA</th>\n",
       "      <th>sample</th>\n",
       "      <th>Rating</th>\n",
       "      <th>Number_of_Reviews_isNAN</th>\n",
       "      <th>Cuisine_Style_isNAN</th>\n",
       "      <th>Price_Range_isNAN</th>\n",
       "      <th>Cuisine count</th>\n",
       "      <th>pr_range</th>\n",
       "      <th>is_capital</th>\n",
       "      <th>Population</th>\n",
       "      <th>Total count of restaurants</th>\n",
       "      <th>People per restaurant</th>\n",
       "      <th>Country Code</th>\n",
       "      <th>Restaurant chain</th>\n",
       "      <th>Days between reviews</th>\n",
       "    </tr>\n",
       "  </thead>\n",
       "  <tbody>\n",
       "    <tr>\n",
       "      <th>0</th>\n",
       "      <td>0</td>\n",
       "      <td>12963.0</td>\n",
       "      <td>4.0</td>\n",
       "      <td>10746918</td>\n",
       "      <td>0</td>\n",
       "      <td>0.0</td>\n",
       "      <td>0</td>\n",
       "      <td>0</td>\n",
       "      <td>0</td>\n",
       "      <td>2</td>\n",
       "      <td>0</td>\n",
       "      <td>1</td>\n",
       "      <td>9904000</td>\n",
       "      <td>1</td>\n",
       "      <td>9904000.0</td>\n",
       "      <td>1</td>\n",
       "      <td>0</td>\n",
       "      <td>0</td>\n",
       "    </tr>\n",
       "    <tr>\n",
       "      <th>1</th>\n",
       "      <td>1</td>\n",
       "      <td>106.0</td>\n",
       "      <td>97.0</td>\n",
       "      <td>6674944</td>\n",
       "      <td>0</td>\n",
       "      <td>0.0</td>\n",
       "      <td>0</td>\n",
       "      <td>0</td>\n",
       "      <td>0</td>\n",
       "      <td>5</td>\n",
       "      <td>0</td>\n",
       "      <td>1</td>\n",
       "      <td>1115000</td>\n",
       "      <td>1</td>\n",
       "      <td>1115000.0</td>\n",
       "      <td>0</td>\n",
       "      <td>0</td>\n",
       "      <td>37</td>\n",
       "    </tr>\n",
       "    <tr>\n",
       "      <th>2</th>\n",
       "      <td>2</td>\n",
       "      <td>810.0</td>\n",
       "      <td>28.0</td>\n",
       "      <td>13129638</td>\n",
       "      <td>0</td>\n",
       "      <td>0.0</td>\n",
       "      <td>0</td>\n",
       "      <td>0</td>\n",
       "      <td>0</td>\n",
       "      <td>1</td>\n",
       "      <td>0</td>\n",
       "      <td>0</td>\n",
       "      <td>504966</td>\n",
       "      <td>1</td>\n",
       "      <td>504966.0</td>\n",
       "      <td>2</td>\n",
       "      <td>1</td>\n",
       "      <td>22</td>\n",
       "    </tr>\n",
       "    <tr>\n",
       "      <th>3</th>\n",
       "      <td>3</td>\n",
       "      <td>1669.0</td>\n",
       "      <td>202.0</td>\n",
       "      <td>680417</td>\n",
       "      <td>0</td>\n",
       "      <td>0.0</td>\n",
       "      <td>0</td>\n",
       "      <td>0</td>\n",
       "      <td>0</td>\n",
       "      <td>5</td>\n",
       "      <td>1</td>\n",
       "      <td>1</td>\n",
       "      <td>8567000</td>\n",
       "      <td>1</td>\n",
       "      <td>8567000.0</td>\n",
       "      <td>2</td>\n",
       "      <td>0</td>\n",
       "      <td>14</td>\n",
       "    </tr>\n",
       "    <tr>\n",
       "      <th>4</th>\n",
       "      <td>4</td>\n",
       "      <td>37.0</td>\n",
       "      <td>162.0</td>\n",
       "      <td>1112354</td>\n",
       "      <td>0</td>\n",
       "      <td>0.0</td>\n",
       "      <td>0</td>\n",
       "      <td>0</td>\n",
       "      <td>0</td>\n",
       "      <td>6</td>\n",
       "      <td>1</td>\n",
       "      <td>1</td>\n",
       "      <td>423737</td>\n",
       "      <td>1</td>\n",
       "      <td>423737.0</td>\n",
       "      <td>3</td>\n",
       "      <td>0</td>\n",
       "      <td>15</td>\n",
       "    </tr>\n",
       "  </tbody>\n",
       "</table>\n",
       "</div>"
      ],
      "text/plain": [
       "   Restaurant_id  Ranking  Number of Reviews     ID_TA  sample  Rating  \\\n",
       "0              0  12963.0                4.0  10746918       0     0.0   \n",
       "1              1    106.0               97.0   6674944       0     0.0   \n",
       "2              2    810.0               28.0  13129638       0     0.0   \n",
       "3              3   1669.0              202.0    680417       0     0.0   \n",
       "4              4     37.0              162.0   1112354       0     0.0   \n",
       "\n",
       "   Number_of_Reviews_isNAN  Cuisine_Style_isNAN  Price_Range_isNAN  \\\n",
       "0                        0                    0                  0   \n",
       "1                        0                    0                  0   \n",
       "2                        0                    0                  0   \n",
       "3                        0                    0                  0   \n",
       "4                        0                    0                  0   \n",
       "\n",
       "   Cuisine count  pr_range  is_capital  Population  \\\n",
       "0              2         0           1     9904000   \n",
       "1              5         0           1     1115000   \n",
       "2              1         0           0      504966   \n",
       "3              5         1           1     8567000   \n",
       "4              6         1           1      423737   \n",
       "\n",
       "   Total count of restaurants  People per restaurant  Country Code  \\\n",
       "0                           1              9904000.0             1   \n",
       "1                           1              1115000.0             0   \n",
       "2                           1               504966.0             2   \n",
       "3                           1              8567000.0             2   \n",
       "4                           1               423737.0             3   \n",
       "\n",
       "   Restaurant chain  Days between reviews  \n",
       "0                 0                     0  \n",
       "1                 0                    37  \n",
       "2                 1                    22  \n",
       "3                 0                    14  \n",
       "4                 0                    15  "
      ]
     },
     "execution_count": 65,
     "metadata": {},
     "output_type": "execute_result"
    }
   ],
   "source": [
    "df_preproc = preproc_data_6(data, 5)\n",
    "print(df_preproc.columns)\n",
    "df_preproc.head()"
   ]
  },
  {
   "cell_type": "code",
   "execution_count": 66,
   "metadata": {},
   "outputs": [
    {
     "name": "stdout",
     "output_type": "stream",
     "text": [
      "Index(['Restaurant_id', 'Ranking', 'Number of Reviews', 'ID_TA', 'sample',\n",
      "       'Rating', 'european_group', 'middle_eastern_group', 'asian_group',\n",
      "       'others_group', 'healthy_options_group', 'bars_group', 'specific_group',\n",
      "       'Number_of_Reviews_isNAN', 'Cuisine_Style_isNAN', 'Price_Range_isNAN',\n",
      "       'Cuisine count', 'pr_range', 'is_capital', 'Population',\n",
      "       'Total count of restaurants', 'People per restaurant', 'Country Code',\n",
      "       'Restaurant chain', 'Days between reviews'],\n",
      "      dtype='object')\n"
     ]
    },
    {
     "data": {
      "text/html": [
       "<div>\n",
       "<style scoped>\n",
       "    .dataframe tbody tr th:only-of-type {\n",
       "        vertical-align: middle;\n",
       "    }\n",
       "\n",
       "    .dataframe tbody tr th {\n",
       "        vertical-align: top;\n",
       "    }\n",
       "\n",
       "    .dataframe thead th {\n",
       "        text-align: right;\n",
       "    }\n",
       "</style>\n",
       "<table border=\"1\" class=\"dataframe\">\n",
       "  <thead>\n",
       "    <tr style=\"text-align: right;\">\n",
       "      <th></th>\n",
       "      <th>Restaurant_id</th>\n",
       "      <th>Ranking</th>\n",
       "      <th>Number of Reviews</th>\n",
       "      <th>ID_TA</th>\n",
       "      <th>sample</th>\n",
       "      <th>Rating</th>\n",
       "      <th>european_group</th>\n",
       "      <th>middle_eastern_group</th>\n",
       "      <th>asian_group</th>\n",
       "      <th>others_group</th>\n",
       "      <th>...</th>\n",
       "      <th>Price_Range_isNAN</th>\n",
       "      <th>Cuisine count</th>\n",
       "      <th>pr_range</th>\n",
       "      <th>is_capital</th>\n",
       "      <th>Population</th>\n",
       "      <th>Total count of restaurants</th>\n",
       "      <th>People per restaurant</th>\n",
       "      <th>Country Code</th>\n",
       "      <th>Restaurant chain</th>\n",
       "      <th>Days between reviews</th>\n",
       "    </tr>\n",
       "  </thead>\n",
       "  <tbody>\n",
       "    <tr>\n",
       "      <th>0</th>\n",
       "      <td>0</td>\n",
       "      <td>12963.0</td>\n",
       "      <td>4.0</td>\n",
       "      <td>10746918</td>\n",
       "      <td>0</td>\n",
       "      <td>0.0</td>\n",
       "      <td>0</td>\n",
       "      <td>0</td>\n",
       "      <td>0</td>\n",
       "      <td>0</td>\n",
       "      <td>...</td>\n",
       "      <td>0</td>\n",
       "      <td>2</td>\n",
       "      <td>1</td>\n",
       "      <td>1</td>\n",
       "      <td>9904000</td>\n",
       "      <td>6108</td>\n",
       "      <td>1621.480026</td>\n",
       "      <td>8</td>\n",
       "      <td>0</td>\n",
       "      <td>0</td>\n",
       "    </tr>\n",
       "    <tr>\n",
       "      <th>1</th>\n",
       "      <td>1</td>\n",
       "      <td>106.0</td>\n",
       "      <td>97.0</td>\n",
       "      <td>6674944</td>\n",
       "      <td>0</td>\n",
       "      <td>0.0</td>\n",
       "      <td>1</td>\n",
       "      <td>0</td>\n",
       "      <td>0</td>\n",
       "      <td>0</td>\n",
       "      <td>...</td>\n",
       "      <td>0</td>\n",
       "      <td>5</td>\n",
       "      <td>1</td>\n",
       "      <td>1</td>\n",
       "      <td>1115000</td>\n",
       "      <td>475</td>\n",
       "      <td>2347.368421</td>\n",
       "      <td>7</td>\n",
       "      <td>0</td>\n",
       "      <td>37</td>\n",
       "    </tr>\n",
       "    <tr>\n",
       "      <th>2</th>\n",
       "      <td>2</td>\n",
       "      <td>810.0</td>\n",
       "      <td>28.0</td>\n",
       "      <td>13129638</td>\n",
       "      <td>0</td>\n",
       "      <td>0.0</td>\n",
       "      <td>0</td>\n",
       "      <td>0</td>\n",
       "      <td>0</td>\n",
       "      <td>0</td>\n",
       "      <td>...</td>\n",
       "      <td>0</td>\n",
       "      <td>1</td>\n",
       "      <td>1</td>\n",
       "      <td>0</td>\n",
       "      <td>504966</td>\n",
       "      <td>745</td>\n",
       "      <td>677.806711</td>\n",
       "      <td>9</td>\n",
       "      <td>1</td>\n",
       "      <td>22</td>\n",
       "    </tr>\n",
       "    <tr>\n",
       "      <th>3</th>\n",
       "      <td>3</td>\n",
       "      <td>1669.0</td>\n",
       "      <td>202.0</td>\n",
       "      <td>680417</td>\n",
       "      <td>0</td>\n",
       "      <td>0.0</td>\n",
       "      <td>1</td>\n",
       "      <td>1</td>\n",
       "      <td>0</td>\n",
       "      <td>0</td>\n",
       "      <td>...</td>\n",
       "      <td>0</td>\n",
       "      <td>5</td>\n",
       "      <td>2</td>\n",
       "      <td>1</td>\n",
       "      <td>8567000</td>\n",
       "      <td>7193</td>\n",
       "      <td>1191.019046</td>\n",
       "      <td>9</td>\n",
       "      <td>0</td>\n",
       "      <td>14</td>\n",
       "    </tr>\n",
       "    <tr>\n",
       "      <th>4</th>\n",
       "      <td>4</td>\n",
       "      <td>37.0</td>\n",
       "      <td>162.0</td>\n",
       "      <td>1112354</td>\n",
       "      <td>0</td>\n",
       "      <td>0.0</td>\n",
       "      <td>1</td>\n",
       "      <td>1</td>\n",
       "      <td>0</td>\n",
       "      <td>0</td>\n",
       "      <td>...</td>\n",
       "      <td>0</td>\n",
       "      <td>6</td>\n",
       "      <td>2</td>\n",
       "      <td>1</td>\n",
       "      <td>423737</td>\n",
       "      <td>380</td>\n",
       "      <td>1115.097368</td>\n",
       "      <td>21</td>\n",
       "      <td>0</td>\n",
       "      <td>15</td>\n",
       "    </tr>\n",
       "    <tr>\n",
       "      <th>...</th>\n",
       "      <td>...</td>\n",
       "      <td>...</td>\n",
       "      <td>...</td>\n",
       "      <td>...</td>\n",
       "      <td>...</td>\n",
       "      <td>...</td>\n",
       "      <td>...</td>\n",
       "      <td>...</td>\n",
       "      <td>...</td>\n",
       "      <td>...</td>\n",
       "      <td>...</td>\n",
       "      <td>...</td>\n",
       "      <td>...</td>\n",
       "      <td>...</td>\n",
       "      <td>...</td>\n",
       "      <td>...</td>\n",
       "      <td>...</td>\n",
       "      <td>...</td>\n",
       "      <td>...</td>\n",
       "      <td>...</td>\n",
       "      <td>...</td>\n",
       "    </tr>\n",
       "    <tr>\n",
       "      <th>49995</th>\n",
       "      <td>499</td>\n",
       "      <td>500.0</td>\n",
       "      <td>79.0</td>\n",
       "      <td>2104414</td>\n",
       "      <td>1</td>\n",
       "      <td>4.5</td>\n",
       "      <td>1</td>\n",
       "      <td>0</td>\n",
       "      <td>0</td>\n",
       "      <td>0</td>\n",
       "      <td>...</td>\n",
       "      <td>0</td>\n",
       "      <td>4</td>\n",
       "      <td>1</td>\n",
       "      <td>0</td>\n",
       "      <td>2945000</td>\n",
       "      <td>2694</td>\n",
       "      <td>1093.170007</td>\n",
       "      <td>13</td>\n",
       "      <td>0</td>\n",
       "      <td>34</td>\n",
       "    </tr>\n",
       "    <tr>\n",
       "      <th>49996</th>\n",
       "      <td>6340</td>\n",
       "      <td>6341.0</td>\n",
       "      <td>542.0</td>\n",
       "      <td>1800036</td>\n",
       "      <td>1</td>\n",
       "      <td>3.5</td>\n",
       "      <td>1</td>\n",
       "      <td>0</td>\n",
       "      <td>0</td>\n",
       "      <td>1</td>\n",
       "      <td>...</td>\n",
       "      <td>0</td>\n",
       "      <td>5</td>\n",
       "      <td>1</td>\n",
       "      <td>1</td>\n",
       "      <td>9904000</td>\n",
       "      <td>6108</td>\n",
       "      <td>1621.480026</td>\n",
       "      <td>8</td>\n",
       "      <td>0</td>\n",
       "      <td>9</td>\n",
       "    </tr>\n",
       "    <tr>\n",
       "      <th>49997</th>\n",
       "      <td>1649</td>\n",
       "      <td>1652.0</td>\n",
       "      <td>4.0</td>\n",
       "      <td>947615</td>\n",
       "      <td>1</td>\n",
       "      <td>4.5</td>\n",
       "      <td>0</td>\n",
       "      <td>0</td>\n",
       "      <td>1</td>\n",
       "      <td>0</td>\n",
       "      <td>...</td>\n",
       "      <td>1</td>\n",
       "      <td>2</td>\n",
       "      <td>1</td>\n",
       "      <td>1</td>\n",
       "      <td>1264000</td>\n",
       "      <td>1033</td>\n",
       "      <td>1223.620523</td>\n",
       "      <td>19</td>\n",
       "      <td>0</td>\n",
       "      <td>3127</td>\n",
       "    </tr>\n",
       "    <tr>\n",
       "      <th>49998</th>\n",
       "      <td>640</td>\n",
       "      <td>641.0</td>\n",
       "      <td>70.0</td>\n",
       "      <td>1100838</td>\n",
       "      <td>1</td>\n",
       "      <td>4.0</td>\n",
       "      <td>1</td>\n",
       "      <td>0</td>\n",
       "      <td>0</td>\n",
       "      <td>0</td>\n",
       "      <td>...</td>\n",
       "      <td>0</td>\n",
       "      <td>5</td>\n",
       "      <td>1</td>\n",
       "      <td>1</td>\n",
       "      <td>1707000</td>\n",
       "      <td>925</td>\n",
       "      <td>1845.405405</td>\n",
       "      <td>17</td>\n",
       "      <td>0</td>\n",
       "      <td>23</td>\n",
       "    </tr>\n",
       "    <tr>\n",
       "      <th>49999</th>\n",
       "      <td>4824</td>\n",
       "      <td>4827.0</td>\n",
       "      <td>260.0</td>\n",
       "      <td>1109020</td>\n",
       "      <td>1</td>\n",
       "      <td>3.0</td>\n",
       "      <td>1</td>\n",
       "      <td>0</td>\n",
       "      <td>0</td>\n",
       "      <td>0</td>\n",
       "      <td>...</td>\n",
       "      <td>0</td>\n",
       "      <td>1</td>\n",
       "      <td>1</td>\n",
       "      <td>0</td>\n",
       "      <td>2945000</td>\n",
       "      <td>2694</td>\n",
       "      <td>1093.170007</td>\n",
       "      <td>13</td>\n",
       "      <td>1</td>\n",
       "      <td>1306</td>\n",
       "    </tr>\n",
       "  </tbody>\n",
       "</table>\n",
       "<p>50000 rows × 25 columns</p>\n",
       "</div>"
      ],
      "text/plain": [
       "       Restaurant_id  Ranking  Number of Reviews     ID_TA  sample  Rating  \\\n",
       "0                  0  12963.0                4.0  10746918       0     0.0   \n",
       "1                  1    106.0               97.0   6674944       0     0.0   \n",
       "2                  2    810.0               28.0  13129638       0     0.0   \n",
       "3                  3   1669.0              202.0    680417       0     0.0   \n",
       "4                  4     37.0              162.0   1112354       0     0.0   \n",
       "...              ...      ...                ...       ...     ...     ...   \n",
       "49995            499    500.0               79.0   2104414       1     4.5   \n",
       "49996           6340   6341.0              542.0   1800036       1     3.5   \n",
       "49997           1649   1652.0                4.0    947615       1     4.5   \n",
       "49998            640    641.0               70.0   1100838       1     4.0   \n",
       "49999           4824   4827.0              260.0   1109020       1     3.0   \n",
       "\n",
       "       european_group  middle_eastern_group  asian_group  others_group  ...  \\\n",
       "0                   0                     0            0             0  ...   \n",
       "1                   1                     0            0             0  ...   \n",
       "2                   0                     0            0             0  ...   \n",
       "3                   1                     1            0             0  ...   \n",
       "4                   1                     1            0             0  ...   \n",
       "...               ...                   ...          ...           ...  ...   \n",
       "49995               1                     0            0             0  ...   \n",
       "49996               1                     0            0             1  ...   \n",
       "49997               0                     0            1             0  ...   \n",
       "49998               1                     0            0             0  ...   \n",
       "49999               1                     0            0             0  ...   \n",
       "\n",
       "       Price_Range_isNAN  Cuisine count  pr_range  is_capital  Population  \\\n",
       "0                      0              2         1           1     9904000   \n",
       "1                      0              5         1           1     1115000   \n",
       "2                      0              1         1           0      504966   \n",
       "3                      0              5         2           1     8567000   \n",
       "4                      0              6         2           1      423737   \n",
       "...                  ...            ...       ...         ...         ...   \n",
       "49995                  0              4         1           0     2945000   \n",
       "49996                  0              5         1           1     9904000   \n",
       "49997                  1              2         1           1     1264000   \n",
       "49998                  0              5         1           1     1707000   \n",
       "49999                  0              1         1           0     2945000   \n",
       "\n",
       "       Total count of restaurants  People per restaurant  Country Code  \\\n",
       "0                            6108            1621.480026             8   \n",
       "1                             475            2347.368421             7   \n",
       "2                             745             677.806711             9   \n",
       "3                            7193            1191.019046             9   \n",
       "4                             380            1115.097368            21   \n",
       "...                           ...                    ...           ...   \n",
       "49995                        2694            1093.170007            13   \n",
       "49996                        6108            1621.480026             8   \n",
       "49997                        1033            1223.620523            19   \n",
       "49998                         925            1845.405405            17   \n",
       "49999                        2694            1093.170007            13   \n",
       "\n",
       "       Restaurant chain  Days between reviews  \n",
       "0                     0                     0  \n",
       "1                     0                    37  \n",
       "2                     1                    22  \n",
       "3                     0                    14  \n",
       "4                     0                    15  \n",
       "...                 ...                   ...  \n",
       "49995                 0                    34  \n",
       "49996                 0                     9  \n",
       "49997                 0                  3127  \n",
       "49998                 0                    23  \n",
       "49999                 1                  1306  \n",
       "\n",
       "[50000 rows x 25 columns]"
      ]
     },
     "execution_count": 66,
     "metadata": {},
     "output_type": "execute_result"
    }
   ],
   "source": [
    "df_preproc = preproc_data_6(data)\n",
    "print(df_preproc.columns)\n",
    "df_preproc"
   ]
  },
  {
   "cell_type": "markdown",
   "metadata": {},
   "source": [
    "#### Запускаем и проверяем что получилось"
   ]
  },
  {
   "cell_type": "code",
   "execution_count": 68,
   "metadata": {},
   "outputs": [
    {
     "name": "stdout",
     "output_type": "stream",
     "text": [
      "<class 'pandas.core.frame.DataFrame'>\n",
      "RangeIndex: 50000 entries, 0 to 49999\n",
      "Data columns (total 25 columns):\n",
      "Restaurant_id                 50000 non-null int64\n",
      "Ranking                       50000 non-null float64\n",
      "Number of Reviews             50000 non-null float64\n",
      "ID_TA                         50000 non-null int64\n",
      "sample                        50000 non-null int64\n",
      "Rating                        50000 non-null float64\n",
      "european_group                50000 non-null int64\n",
      "middle_eastern_group          50000 non-null int64\n",
      "asian_group                   50000 non-null int64\n",
      "others_group                  50000 non-null int64\n",
      "healthy_options_group         50000 non-null int64\n",
      "bars_group                    50000 non-null int64\n",
      "specific_group                50000 non-null int64\n",
      "Number_of_Reviews_isNAN       50000 non-null uint8\n",
      "Cuisine_Style_isNAN           50000 non-null uint8\n",
      "Price_Range_isNAN             50000 non-null uint8\n",
      "Cuisine count                 50000 non-null int64\n",
      "pr_range                      50000 non-null int64\n",
      "is_capital                    50000 non-null int64\n",
      "Population                    50000 non-null int64\n",
      "Total count of restaurants    50000 non-null int64\n",
      "People per restaurant         50000 non-null float64\n",
      "Country Code                  50000 non-null int64\n",
      "Restaurant chain              50000 non-null int64\n",
      "Days between reviews          50000 non-null int64\n",
      "dtypes: float64(4), int64(18), uint8(3)\n",
      "memory usage: 8.5 MB\n"
     ]
    }
   ],
   "source": [
    "df_preproc.info()"
   ]
  },
  {
   "cell_type": "code",
   "execution_count": 69,
   "metadata": {},
   "outputs": [],
   "source": [
    "# Теперь выделим тестовую часть\n",
    "train_data = df_preproc.query('sample == 1').drop(['sample'], axis=1)\n",
    "test_data = df_preproc.query('sample == 0').drop(['sample'], axis=1)\n",
    "\n",
    "y = train_data.Rating.values            # наш таргет\n",
    "X = train_data.drop(['Rating'], axis=1)"
   ]
  },
  {
   "cell_type": "markdown",
   "metadata": {},
   "source": [
    "**Перед тем как отправлять наши данные на обучение, разделим данные на еще один тест и трейн, для валидации. \n",
    "Это поможет нам проверить, как хорошо наша модель работает, до отправки submissiona на kaggle.**"
   ]
  },
  {
   "cell_type": "code",
   "execution_count": 70,
   "metadata": {},
   "outputs": [],
   "source": [
    "# Воспользуемся специальной функцие train_test_split для разбивки тестовых данных\n",
    "# выделим 20% данных на валидацию (параметр test_size)\n",
    "X_train, X_test, y_train, y_test = train_test_split(\n",
    "    X, y, test_size=0.2, random_state=RANDOM_SEED)"
   ]
  },
  {
   "cell_type": "code",
   "execution_count": 71,
   "metadata": {},
   "outputs": [
    {
     "data": {
      "text/plain": [
       "((10000, 24), (40000, 24), (40000, 23), (32000, 23), (8000, 23))"
      ]
     },
     "execution_count": 71,
     "metadata": {},
     "output_type": "execute_result"
    }
   ],
   "source": [
    "# проверяем\n",
    "test_data.shape, train_data.shape, X.shape, X_train.shape, X_test.shape"
   ]
  },
  {
   "cell_type": "markdown",
   "metadata": {},
   "source": [
    "# Model \n",
    "Сам ML"
   ]
  },
  {
   "cell_type": "code",
   "execution_count": 72,
   "metadata": {},
   "outputs": [],
   "source": [
    "# Импортируем необходимые библиотеки:\n",
    "from sklearn.ensemble import RandomForestRegressor # инструмент для создания и обучения модели\n",
    "from sklearn import metrics # инструменты для оценки точности модели"
   ]
  },
  {
   "cell_type": "code",
   "execution_count": 73,
   "metadata": {},
   "outputs": [],
   "source": [
    "# Создаём модель (НАСТРОЙКИ НЕ ТРОГАЕМ)\n",
    "model = RandomForestRegressor(n_estimators=100, verbose=1, n_jobs=-1, random_state=RANDOM_SEED)"
   ]
  },
  {
   "cell_type": "code",
   "execution_count": 74,
   "metadata": {},
   "outputs": [
    {
     "name": "stderr",
     "output_type": "stream",
     "text": [
      "[Parallel(n_jobs=-1)]: Using backend ThreadingBackend with 4 concurrent workers.\n",
      "[Parallel(n_jobs=-1)]: Done  42 tasks      | elapsed:    3.6s\n",
      "[Parallel(n_jobs=-1)]: Done 100 out of 100 | elapsed:    8.4s finished\n"
     ]
    },
    {
     "data": {
      "text/plain": [
       "RandomForestRegressor(bootstrap=True, criterion='mse', max_depth=None,\n",
       "                      max_features='auto', max_leaf_nodes=None,\n",
       "                      min_impurity_decrease=0.0, min_impurity_split=None,\n",
       "                      min_samples_leaf=1, min_samples_split=2,\n",
       "                      min_weight_fraction_leaf=0.0, n_estimators=100, n_jobs=-1,\n",
       "                      oob_score=False, random_state=42, verbose=1,\n",
       "                      warm_start=False)"
      ]
     },
     "execution_count": 74,
     "metadata": {},
     "output_type": "execute_result"
    }
   ],
   "source": [
    "# Обучаем модель на тестовом наборе данных\n",
    "model.fit(X_train, y_train)\n",
    "\n",
    "# Используем обученную модель для предсказания рейтинга ресторанов в тестовой выборке.\n",
    "# Предсказанные значения записываем в переменную y_pred\n",
    "# y_pred = model.predict(X_test)"
   ]
  },
  {
   "cell_type": "code",
   "execution_count": 75,
   "metadata": {},
   "outputs": [
    {
     "name": "stderr",
     "output_type": "stream",
     "text": [
      "[Parallel(n_jobs=4)]: Using backend ThreadingBackend with 4 concurrent workers.\n",
      "[Parallel(n_jobs=4)]: Done  42 tasks      | elapsed:    0.0s\n",
      "[Parallel(n_jobs=4)]: Done 100 out of 100 | elapsed:    0.1s finished\n"
     ]
    }
   ],
   "source": [
    "# Округляем результаты с точностью 0.5\n",
    "\n",
    "def rating_round(x, base=0.5):\n",
    "    return base * round(x/base)\n",
    "\n",
    "def predict(ds):\n",
    "    return np.array([rating_round(x) for x in model.predict(ds)])\n",
    "\n",
    "y_pred = predict(X_test)"
   ]
  },
  {
   "cell_type": "code",
   "execution_count": 76,
   "metadata": {},
   "outputs": [
    {
     "name": "stdout",
     "output_type": "stream",
     "text": [
      "MAE: 0.1765\n"
     ]
    }
   ],
   "source": [
    "# Сравниваем предсказанные значения (y_pred) с реальными (y_test), и смотрим насколько они в среднем отличаются\n",
    "# Метрика называется Mean Absolute Error (MAE) и показывает среднее отклонение предсказанных значений от фактических.\n",
    "print('MAE:', metrics.mean_absolute_error(y_test, y_pred))"
   ]
  },
  {
   "cell_type": "code",
   "execution_count": 77,
   "metadata": {},
   "outputs": [
    {
     "data": {
      "text/plain": [
       "<matplotlib.axes._subplots.AxesSubplot at 0x7fcc08423198>"
      ]
     },
     "execution_count": 77,
     "metadata": {},
     "output_type": "execute_result"
    },
    {
     "data": {
      "image/png": "[encoded data removed]",
      "text/plain": [
       "<Figure size 720x720 with 1 Axes>"
      ]
     },
     "metadata": {
      "needs_background": "light"
     },
     "output_type": "display_data"
    }
   ],
   "source": [
    "# в RandomForestRegressor есть возможность вывести самые важные признаки для модели\n",
    "plt.rcParams['figure.figsize'] = (10,10)\n",
    "feat_importances = pd.Series(model.feature_importances_, index=X.columns)\n",
    "feat_importances.nlargest(15).plot(kind='barh')"
   ]
  },
  {
   "cell_type": "markdown",
   "metadata": {},
   "source": [
    "# Submission\n",
    "Если все устраевает - готовим Submission на кагл"
   ]
  },
  {
   "cell_type": "code",
   "execution_count": 56,
   "metadata": {},
   "outputs": [
    {
     "data": {
      "text/html": [
       "<div>\n",
       "<style scoped>\n",
       "    .dataframe tbody tr th:only-of-type {\n",
       "        vertical-align: middle;\n",
       "    }\n",
       "\n",
       "    .dataframe tbody tr th {\n",
       "        vertical-align: top;\n",
       "    }\n",
       "\n",
       "    .dataframe thead th {\n",
       "        text-align: right;\n",
       "    }\n",
       "</style>\n",
       "<table border=\"1\" class=\"dataframe\">\n",
       "  <thead>\n",
       "    <tr style=\"text-align: right;\">\n",
       "      <th></th>\n",
       "      <th>Restaurant_id</th>\n",
       "      <th>Ranking</th>\n",
       "      <th>Number of Reviews</th>\n",
       "      <th>ID_TA</th>\n",
       "      <th>Rating</th>\n",
       "      <th>european_group</th>\n",
       "      <th>middle_eastern_group</th>\n",
       "      <th>asian_group</th>\n",
       "      <th>others_group</th>\n",
       "      <th>healthy_options_group</th>\n",
       "      <th>...</th>\n",
       "      <th>City_Oporto</th>\n",
       "      <th>City_Oslo</th>\n",
       "      <th>City_Paris</th>\n",
       "      <th>City_Prague</th>\n",
       "      <th>City_Rome</th>\n",
       "      <th>City_Stockholm</th>\n",
       "      <th>City_Vienna</th>\n",
       "      <th>City_Warsaw</th>\n",
       "      <th>City_Zurich</th>\n",
       "      <th>City_nan</th>\n",
       "    </tr>\n",
       "  </thead>\n",
       "  <tbody>\n",
       "    <tr>\n",
       "      <th>3533</th>\n",
       "      <td>3533</td>\n",
       "      <td>4464.0</td>\n",
       "      <td>342.0</td>\n",
       "      <td>991825</td>\n",
       "      <td>0.0</td>\n",
       "      <td>0</td>\n",
       "      <td>0</td>\n",
       "      <td>0</td>\n",
       "      <td>1</td>\n",
       "      <td>0</td>\n",
       "      <td>...</td>\n",
       "      <td>0</td>\n",
       "      <td>0</td>\n",
       "      <td>0</td>\n",
       "      <td>0</td>\n",
       "      <td>0</td>\n",
       "      <td>0</td>\n",
       "      <td>0</td>\n",
       "      <td>0</td>\n",
       "      <td>0</td>\n",
       "      <td>0</td>\n",
       "    </tr>\n",
       "    <tr>\n",
       "      <th>3431</th>\n",
       "      <td>3431</td>\n",
       "      <td>12523.0</td>\n",
       "      <td>19.0</td>\n",
       "      <td>10346869</td>\n",
       "      <td>0.0</td>\n",
       "      <td>0</td>\n",
       "      <td>0</td>\n",
       "      <td>0</td>\n",
       "      <td>0</td>\n",
       "      <td>0</td>\n",
       "      <td>...</td>\n",
       "      <td>0</td>\n",
       "      <td>0</td>\n",
       "      <td>1</td>\n",
       "      <td>0</td>\n",
       "      <td>0</td>\n",
       "      <td>0</td>\n",
       "      <td>0</td>\n",
       "      <td>0</td>\n",
       "      <td>0</td>\n",
       "      <td>0</td>\n",
       "    </tr>\n",
       "    <tr>\n",
       "      <th>7656</th>\n",
       "      <td>7656</td>\n",
       "      <td>7682.0</td>\n",
       "      <td>84.0</td>\n",
       "      <td>7070992</td>\n",
       "      <td>0.0</td>\n",
       "      <td>0</td>\n",
       "      <td>0</td>\n",
       "      <td>1</td>\n",
       "      <td>0</td>\n",
       "      <td>1</td>\n",
       "      <td>...</td>\n",
       "      <td>0</td>\n",
       "      <td>0</td>\n",
       "      <td>0</td>\n",
       "      <td>0</td>\n",
       "      <td>0</td>\n",
       "      <td>0</td>\n",
       "      <td>0</td>\n",
       "      <td>0</td>\n",
       "      <td>0</td>\n",
       "      <td>0</td>\n",
       "    </tr>\n",
       "    <tr>\n",
       "      <th>3777</th>\n",
       "      <td>3777</td>\n",
       "      <td>1161.0</td>\n",
       "      <td>14.0</td>\n",
       "      <td>12145157</td>\n",
       "      <td>0.0</td>\n",
       "      <td>0</td>\n",
       "      <td>0</td>\n",
       "      <td>0</td>\n",
       "      <td>0</td>\n",
       "      <td>0</td>\n",
       "      <td>...</td>\n",
       "      <td>0</td>\n",
       "      <td>0</td>\n",
       "      <td>0</td>\n",
       "      <td>0</td>\n",
       "      <td>0</td>\n",
       "      <td>0</td>\n",
       "      <td>0</td>\n",
       "      <td>0</td>\n",
       "      <td>0</td>\n",
       "      <td>0</td>\n",
       "    </tr>\n",
       "    <tr>\n",
       "      <th>4208</th>\n",
       "      <td>4208</td>\n",
       "      <td>1443.0</td>\n",
       "      <td>3.0</td>\n",
       "      <td>11506439</td>\n",
       "      <td>0.0</td>\n",
       "      <td>1</td>\n",
       "      <td>0</td>\n",
       "      <td>1</td>\n",
       "      <td>0</td>\n",
       "      <td>0</td>\n",
       "      <td>...</td>\n",
       "      <td>0</td>\n",
       "      <td>0</td>\n",
       "      <td>0</td>\n",
       "      <td>0</td>\n",
       "      <td>0</td>\n",
       "      <td>0</td>\n",
       "      <td>0</td>\n",
       "      <td>1</td>\n",
       "      <td>0</td>\n",
       "      <td>0</td>\n",
       "    </tr>\n",
       "    <tr>\n",
       "      <th>3669</th>\n",
       "      <td>3669</td>\n",
       "      <td>14255.0</td>\n",
       "      <td>2.0</td>\n",
       "      <td>7797340</td>\n",
       "      <td>0.0</td>\n",
       "      <td>0</td>\n",
       "      <td>0</td>\n",
       "      <td>1</td>\n",
       "      <td>0</td>\n",
       "      <td>0</td>\n",
       "      <td>...</td>\n",
       "      <td>0</td>\n",
       "      <td>0</td>\n",
       "      <td>0</td>\n",
       "      <td>0</td>\n",
       "      <td>0</td>\n",
       "      <td>0</td>\n",
       "      <td>0</td>\n",
       "      <td>0</td>\n",
       "      <td>0</td>\n",
       "      <td>0</td>\n",
       "    </tr>\n",
       "    <tr>\n",
       "      <th>5507</th>\n",
       "      <td>5507</td>\n",
       "      <td>3520.0</td>\n",
       "      <td>155.0</td>\n",
       "      <td>3327836</td>\n",
       "      <td>0.0</td>\n",
       "      <td>0</td>\n",
       "      <td>0</td>\n",
       "      <td>0</td>\n",
       "      <td>1</td>\n",
       "      <td>0</td>\n",
       "      <td>...</td>\n",
       "      <td>0</td>\n",
       "      <td>0</td>\n",
       "      <td>1</td>\n",
       "      <td>0</td>\n",
       "      <td>0</td>\n",
       "      <td>0</td>\n",
       "      <td>0</td>\n",
       "      <td>0</td>\n",
       "      <td>0</td>\n",
       "      <td>0</td>\n",
       "    </tr>\n",
       "    <tr>\n",
       "      <th>939</th>\n",
       "      <td>939</td>\n",
       "      <td>7316.0</td>\n",
       "      <td>13.0</td>\n",
       "      <td>11797353</td>\n",
       "      <td>0.0</td>\n",
       "      <td>1</td>\n",
       "      <td>0</td>\n",
       "      <td>0</td>\n",
       "      <td>0</td>\n",
       "      <td>0</td>\n",
       "      <td>...</td>\n",
       "      <td>0</td>\n",
       "      <td>0</td>\n",
       "      <td>1</td>\n",
       "      <td>0</td>\n",
       "      <td>0</td>\n",
       "      <td>0</td>\n",
       "      <td>0</td>\n",
       "      <td>0</td>\n",
       "      <td>0</td>\n",
       "      <td>0</td>\n",
       "    </tr>\n",
       "    <tr>\n",
       "      <th>7824</th>\n",
       "      <td>7824</td>\n",
       "      <td>1916.0</td>\n",
       "      <td>128.0</td>\n",
       "      <td>5850652</td>\n",
       "      <td>0.0</td>\n",
       "      <td>1</td>\n",
       "      <td>0</td>\n",
       "      <td>0</td>\n",
       "      <td>0</td>\n",
       "      <td>0</td>\n",
       "      <td>...</td>\n",
       "      <td>0</td>\n",
       "      <td>0</td>\n",
       "      <td>0</td>\n",
       "      <td>0</td>\n",
       "      <td>1</td>\n",
       "      <td>0</td>\n",
       "      <td>0</td>\n",
       "      <td>0</td>\n",
       "      <td>0</td>\n",
       "      <td>0</td>\n",
       "    </tr>\n",
       "    <tr>\n",
       "      <th>3064</th>\n",
       "      <td>3064</td>\n",
       "      <td>87.0</td>\n",
       "      <td>226.0</td>\n",
       "      <td>858141</td>\n",
       "      <td>0.0</td>\n",
       "      <td>0</td>\n",
       "      <td>0</td>\n",
       "      <td>0</td>\n",
       "      <td>1</td>\n",
       "      <td>1</td>\n",
       "      <td>...</td>\n",
       "      <td>0</td>\n",
       "      <td>0</td>\n",
       "      <td>0</td>\n",
       "      <td>0</td>\n",
       "      <td>0</td>\n",
       "      <td>0</td>\n",
       "      <td>0</td>\n",
       "      <td>0</td>\n",
       "      <td>0</td>\n",
       "      <td>0</td>\n",
       "    </tr>\n",
       "  </tbody>\n",
       "</table>\n",
       "<p>10 rows × 56 columns</p>\n",
       "</div>"
      ],
      "text/plain": [
       "      Restaurant_id  Ranking  Number of Reviews     ID_TA  Rating  \\\n",
       "3533           3533   4464.0              342.0    991825     0.0   \n",
       "3431           3431  12523.0               19.0  10346869     0.0   \n",
       "7656           7656   7682.0               84.0   7070992     0.0   \n",
       "3777           3777   1161.0               14.0  12145157     0.0   \n",
       "4208           4208   1443.0                3.0  11506439     0.0   \n",
       "3669           3669  14255.0                2.0   7797340     0.0   \n",
       "5507           5507   3520.0              155.0   3327836     0.0   \n",
       "939             939   7316.0               13.0  11797353     0.0   \n",
       "7824           7824   1916.0              128.0   5850652     0.0   \n",
       "3064           3064     87.0              226.0    858141     0.0   \n",
       "\n",
       "      european_group  middle_eastern_group  asian_group  others_group  \\\n",
       "3533               0                     0            0             1   \n",
       "3431               0                     0            0             0   \n",
       "7656               0                     0            1             0   \n",
       "3777               0                     0            0             0   \n",
       "4208               1                     0            1             0   \n",
       "3669               0                     0            1             0   \n",
       "5507               0                     0            0             1   \n",
       "939                1                     0            0             0   \n",
       "7824               1                     0            0             0   \n",
       "3064               0                     0            0             1   \n",
       "\n",
       "      healthy_options_group  ...  City_Oporto  City_Oslo  City_Paris  \\\n",
       "3533                      0  ...            0          0           0   \n",
       "3431                      0  ...            0          0           1   \n",
       "7656                      1  ...            0          0           0   \n",
       "3777                      0  ...            0          0           0   \n",
       "4208                      0  ...            0          0           0   \n",
       "3669                      0  ...            0          0           0   \n",
       "5507                      0  ...            0          0           1   \n",
       "939                       0  ...            0          0           1   \n",
       "7824                      0  ...            0          0           0   \n",
       "3064                      1  ...            0          0           0   \n",
       "\n",
       "      City_Prague  City_Rome  City_Stockholm  City_Vienna  City_Warsaw  \\\n",
       "3533            0          0               0            0            0   \n",
       "3431            0          0               0            0            0   \n",
       "7656            0          0               0            0            0   \n",
       "3777            0          0               0            0            0   \n",
       "4208            0          0               0            0            1   \n",
       "3669            0          0               0            0            0   \n",
       "5507            0          0               0            0            0   \n",
       "939             0          0               0            0            0   \n",
       "7824            0          1               0            0            0   \n",
       "3064            0          0               0            0            0   \n",
       "\n",
       "      City_Zurich  City_nan  \n",
       "3533            0         0  \n",
       "3431            0         0  \n",
       "7656            0         0  \n",
       "3777            0         0  \n",
       "4208            0         0  \n",
       "3669            0         0  \n",
       "5507            0         0  \n",
       "939             0         0  \n",
       "7824            0         0  \n",
       "3064            0         0  \n",
       "\n",
       "[10 rows x 56 columns]"
      ]
     },
     "execution_count": 56,
     "metadata": {},
     "output_type": "execute_result"
    }
   ],
   "source": [
    "test_data.sample(10)"
   ]
  },
  {
   "cell_type": "code",
   "execution_count": 57,
   "metadata": {},
   "outputs": [],
   "source": [
    "test_data = test_data.drop(['Rating'], axis=1)"
   ]
  },
  {
   "cell_type": "code",
   "execution_count": 58,
   "metadata": {},
   "outputs": [
    {
     "data": {
      "text/html": [
       "<div>\n",
       "<style scoped>\n",
       "    .dataframe tbody tr th:only-of-type {\n",
       "        vertical-align: middle;\n",
       "    }\n",
       "\n",
       "    .dataframe tbody tr th {\n",
       "        vertical-align: top;\n",
       "    }\n",
       "\n",
       "    .dataframe thead th {\n",
       "        text-align: right;\n",
       "    }\n",
       "</style>\n",
       "<table border=\"1\" class=\"dataframe\">\n",
       "  <thead>\n",
       "    <tr style=\"text-align: right;\">\n",
       "      <th></th>\n",
       "      <th>Restaurant_id</th>\n",
       "      <th>Rating</th>\n",
       "    </tr>\n",
       "  </thead>\n",
       "  <tbody>\n",
       "    <tr>\n",
       "      <th>0</th>\n",
       "      <td>id_0</td>\n",
       "      <td>2.0</td>\n",
       "    </tr>\n",
       "    <tr>\n",
       "      <th>1</th>\n",
       "      <td>id_1</td>\n",
       "      <td>2.5</td>\n",
       "    </tr>\n",
       "    <tr>\n",
       "      <th>2</th>\n",
       "      <td>id_2</td>\n",
       "      <td>4.0</td>\n",
       "    </tr>\n",
       "    <tr>\n",
       "      <th>3</th>\n",
       "      <td>id_3</td>\n",
       "      <td>1.0</td>\n",
       "    </tr>\n",
       "    <tr>\n",
       "      <th>4</th>\n",
       "      <td>id_4</td>\n",
       "      <td>4.0</td>\n",
       "    </tr>\n",
       "    <tr>\n",
       "      <th>...</th>\n",
       "      <td>...</td>\n",
       "      <td>...</td>\n",
       "    </tr>\n",
       "    <tr>\n",
       "      <th>9995</th>\n",
       "      <td>id_9995</td>\n",
       "      <td>3.0</td>\n",
       "    </tr>\n",
       "    <tr>\n",
       "      <th>9996</th>\n",
       "      <td>id_9996</td>\n",
       "      <td>1.5</td>\n",
       "    </tr>\n",
       "    <tr>\n",
       "      <th>9997</th>\n",
       "      <td>id_9997</td>\n",
       "      <td>4.5</td>\n",
       "    </tr>\n",
       "    <tr>\n",
       "      <th>9998</th>\n",
       "      <td>id_9998</td>\n",
       "      <td>1.0</td>\n",
       "    </tr>\n",
       "    <tr>\n",
       "      <th>9999</th>\n",
       "      <td>id_9999</td>\n",
       "      <td>2.5</td>\n",
       "    </tr>\n",
       "  </tbody>\n",
       "</table>\n",
       "<p>10000 rows × 2 columns</p>\n",
       "</div>"
      ],
      "text/plain": [
       "     Restaurant_id  Rating\n",
       "0             id_0     2.0\n",
       "1             id_1     2.5\n",
       "2             id_2     4.0\n",
       "3             id_3     1.0\n",
       "4             id_4     4.0\n",
       "...            ...     ...\n",
       "9995       id_9995     3.0\n",
       "9996       id_9996     1.5\n",
       "9997       id_9997     4.5\n",
       "9998       id_9998     1.0\n",
       "9999       id_9999     2.5\n",
       "\n",
       "[10000 rows x 2 columns]"
      ]
     },
     "execution_count": 58,
     "metadata": {},
     "output_type": "execute_result"
    }
   ],
   "source": [
    "sample_submission"
   ]
  },
  {
   "cell_type": "code",
   "execution_count": 59,
   "metadata": {},
   "outputs": [
    {
     "name": "stderr",
     "output_type": "stream",
     "text": [
      "[Parallel(n_jobs=4)]: Using backend ThreadingBackend with 4 concurrent workers.\n",
      "[Parallel(n_jobs=4)]: Done  42 tasks      | elapsed:    0.0s\n",
      "[Parallel(n_jobs=4)]: Done 100 out of 100 | elapsed:    0.1s finished\n"
     ]
    }
   ],
   "source": [
    "predict_submission = model.predict(test_data)"
   ]
  },
  {
   "cell_type": "code",
   "execution_count": 60,
   "metadata": {},
   "outputs": [
    {
     "data": {
      "text/plain": [
       "array([4.645, 4.31 , 4.585, ..., 2.645, 3.29 , 3.915])"
      ]
     },
     "execution_count": 60,
     "metadata": {},
     "output_type": "execute_result"
    }
   ],
   "source": [
    "predict_submission"
   ]
  },
  {
   "cell_type": "code",
   "execution_count": 61,
   "metadata": {},
   "outputs": [
    {
     "data": {
      "text/html": [
       "<div>\n",
       "<style scoped>\n",
       "    .dataframe tbody tr th:only-of-type {\n",
       "        vertical-align: middle;\n",
       "    }\n",
       "\n",
       "    .dataframe tbody tr th {\n",
       "        vertical-align: top;\n",
       "    }\n",
       "\n",
       "    .dataframe thead th {\n",
       "        text-align: right;\n",
       "    }\n",
       "</style>\n",
       "<table border=\"1\" class=\"dataframe\">\n",
       "  <thead>\n",
       "    <tr style=\"text-align: right;\">\n",
       "      <th></th>\n",
       "      <th>Restaurant_id</th>\n",
       "      <th>Rating</th>\n",
       "    </tr>\n",
       "  </thead>\n",
       "  <tbody>\n",
       "    <tr>\n",
       "      <th>0</th>\n",
       "      <td>id_0</td>\n",
       "      <td>4.645</td>\n",
       "    </tr>\n",
       "    <tr>\n",
       "      <th>1</th>\n",
       "      <td>id_1</td>\n",
       "      <td>4.310</td>\n",
       "    </tr>\n",
       "    <tr>\n",
       "      <th>2</th>\n",
       "      <td>id_2</td>\n",
       "      <td>4.585</td>\n",
       "    </tr>\n",
       "    <tr>\n",
       "      <th>3</th>\n",
       "      <td>id_3</td>\n",
       "      <td>4.370</td>\n",
       "    </tr>\n",
       "    <tr>\n",
       "      <th>4</th>\n",
       "      <td>id_4</td>\n",
       "      <td>4.430</td>\n",
       "    </tr>\n",
       "    <tr>\n",
       "      <th>5</th>\n",
       "      <td>id_5</td>\n",
       "      <td>4.610</td>\n",
       "    </tr>\n",
       "    <tr>\n",
       "      <th>6</th>\n",
       "      <td>id_6</td>\n",
       "      <td>4.080</td>\n",
       "    </tr>\n",
       "    <tr>\n",
       "      <th>7</th>\n",
       "      <td>id_7</td>\n",
       "      <td>3.920</td>\n",
       "    </tr>\n",
       "    <tr>\n",
       "      <th>8</th>\n",
       "      <td>id_8</td>\n",
       "      <td>4.380</td>\n",
       "    </tr>\n",
       "    <tr>\n",
       "      <th>9</th>\n",
       "      <td>id_9</td>\n",
       "      <td>4.695</td>\n",
       "    </tr>\n",
       "  </tbody>\n",
       "</table>\n",
       "</div>"
      ],
      "text/plain": [
       "  Restaurant_id  Rating\n",
       "0          id_0   4.645\n",
       "1          id_1   4.310\n",
       "2          id_2   4.585\n",
       "3          id_3   4.370\n",
       "4          id_4   4.430\n",
       "5          id_5   4.610\n",
       "6          id_6   4.080\n",
       "7          id_7   3.920\n",
       "8          id_8   4.380\n",
       "9          id_9   4.695"
      ]
     },
     "execution_count": 61,
     "metadata": {},
     "output_type": "execute_result"
    }
   ],
   "source": [
    "sample_submission['Rating'] = predict_submission\n",
    "sample_submission.to_csv('submission.csv', index=False)\n",
    "sample_submission.head(10)"
   ]
  },
  {
   "cell_type": "markdown",
   "metadata": {},
   "source": [
    "# What's next?\n",
    "Или что делать, чтоб улучшить результат:\n",
    "* Обработать оставшиеся признаки в понятный для машины формат\n",
    "* Посмотреть, что еще можно извлечь из признаков\n",
    "* Сгенерировать новые признаки\n",
    "* Подгрузить дополнительные данные, например: по населению или благосостоянию городов\n",
    "* Подобрать состав признаков\n",
    "\n",
    "В общем, процесс творческий и весьма увлекательный! Удачи в соревновании!\n"
   ]
  },
  {
   "cell_type": "code",
   "execution_count": null,
   "metadata": {},
   "outputs": [],
   "source": []
  }
 ],
 "metadata": {
  "kernelspec": {
   "display_name": "Python 3",
   "language": "python",
   "name": "python3"
  },
  "language_info": {
   "codemirror_mode": {
    "name": "ipython",
    "version": 3
   },
   "file_extension": ".py",
   "mimetype": "text/x-python",
   "name": "python",
   "nbconvert_exporter": "python",
   "pygments_lexer": "ipython3",
   "version": "3.7.4"
  },
  "toc": {
   "base_numbering": 1,
   "nav_menu": {},
   "number_sections": true,
   "sideBar": true,
   "skip_h1_title": false,
   "title_cell": "Table of Contents",
   "title_sidebar": "Contents",
   "toc_cell": false,
   "toc_position": {},
   "toc_section_display": true,
   "toc_window_display": false
  }
 },
 "nbformat": 4,
 "nbformat_minor": 4
}
