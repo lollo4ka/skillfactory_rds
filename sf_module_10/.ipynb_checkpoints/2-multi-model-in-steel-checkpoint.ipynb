{
 "cells": [
  {
   "cell_type": "markdown",
   "metadata": {},
   "source": [
    "$\\color{ORANGE}{\\text{MULTI MODEL IN STEEL   }}$"
   ]
  },
  {
   "cell_type": "markdown",
   "metadata": {},
   "source": [
    "# Цели и задачи\n",
    "**Описание ноутбука**\n",
    "\n",
    "В качестве основы для разбора была взята статья https://dipanshurana.medium.com/steel-defect-detection-image-segmentation-using-keras-and-tensorflow-6118bc586ad2\n",
    "\n",
    "**Выводы**\n",
    "- Базовая Unet дала лучший результат. \n",
    "\n",
    "**Что еще можно сделать**"
   ]
  },
  {
   "cell_type": "markdown",
   "metadata": {},
   "source": [
    "# Импортируем модули и данные"
   ]
  },
  {
   "cell_type": "code",
   "execution_count": 8,
   "metadata": {
    "execution": {
     "iopub.execute_input": "2021-12-24T12:58:07.317721Z",
     "iopub.status.busy": "2021-12-24T12:58:07.317370Z",
     "iopub.status.idle": "2021-12-24T12:58:07.410061Z",
     "shell.execute_reply": "2021-12-24T12:58:07.409251Z",
     "shell.execute_reply.started": "2021-12-24T12:58:07.317691Z"
    }
   },
   "outputs": [],
   "source": [
    "import pandas as pd\n",
    "import numpy as np\n",
    "from matplotlib import pyplot as plt\n",
    "import os\n",
    "import matplotlib.patches as patches\n",
    "import re\n",
    "import random \n",
    "import pickle\n",
    "import cv2\n",
    "import seaborn as sns\n",
    "from PIL import Image\n",
    "import warnings\n",
    "warnings.filterwarnings(\"ignore\")"
   ]
  },
  {
   "cell_type": "code",
   "execution_count": 9,
   "metadata": {
    "execution": {
     "iopub.execute_input": "2021-12-24T12:58:08.912010Z",
     "iopub.status.busy": "2021-12-24T12:58:08.911659Z",
     "iopub.status.idle": "2021-12-24T12:58:09.149679Z",
     "shell.execute_reply": "2021-12-24T12:58:09.148926Z",
     "shell.execute_reply.started": "2021-12-24T12:58:08.911978Z"
    }
   },
   "outputs": [],
   "source": [
    "trainImgPath = \"/kaggle/input/severstal-steel-defect-detection/train_images/\"\n",
    "trainCsv = \"/kaggle/input/severstal-steel-defect-detection/train.csv\"\n",
    "data=pd.read_csv(trainCsv)\n",
    "data.ClassId=data.ClassId.astype(int)\n",
    "\n",
    "train_Img_Id = []\n",
    "train_class_Id = []\n",
    "for i in os.listdir(trainImgPath):\n",
    "    for j in range(1,5):\n",
    "        train_Img_Id.append(i)\n",
    "        train_class_Id.append(j)\n",
    "train_Imgs = pd.DataFrame({'ImageId':train_Img_Id,'ClassId':train_class_Id})\n",
    "train_Imgs.head(10)\n",
    " "
   ]
  },
  {
   "cell_type": "code",
   "execution_count": 10,
   "metadata": {
    "execution": {
     "iopub.execute_input": "2021-12-24T12:58:10.985757Z",
     "iopub.status.busy": "2021-12-24T12:58:10.985433Z",
     "iopub.status.idle": "2021-12-24T12:58:11.153410Z",
     "shell.execute_reply": "2021-12-24T12:58:11.152600Z",
     "shell.execute_reply.started": "2021-12-24T12:58:10.985726Z"
    }
   },
   "outputs": [],
   "source": [
    "data = \"/kaggle/input/severstal-steel-defect-detection/train.csv\"\n",
    "train_csv=pd.read_csv(data)\n"
   ]
  },
  {
   "cell_type": "markdown",
   "metadata": {},
   "source": [
    "## Подготавливаем данные для обучения"
   ]
  },
  {
   "cell_type": "code",
   "execution_count": 11,
   "metadata": {
    "execution": {
     "iopub.execute_input": "2021-12-24T12:58:11.638472Z",
     "iopub.status.busy": "2021-12-24T12:58:11.638137Z",
     "iopub.status.idle": "2021-12-24T12:58:11.697201Z",
     "shell.execute_reply": "2021-12-24T12:58:11.696388Z",
     "shell.execute_reply.started": "2021-12-24T12:58:11.638439Z"
    }
   },
   "outputs": [],
   "source": [
    "Image_id=[]\n",
    "label=[]\n",
    "train_folder_path='/kaggle/input/severstal-steel-defect-detection/train_images/'\n",
    "for i in os.listdir(train_folder_path): #https://www.geeksforgeeks.org/python-os-listdir-method/\n",
    "    for j in range(1,5):\n",
    "        Image_id.append(i)\n",
    "        label.append(j)\n",
    "\n",
    "x={'ImageId':Image_id,'ClassId':label}  #https://www.geeksforgeeks.org/creating-a-pandas-dataframe/\n",
    "train_img=pd.DataFrame(x)\n",
    "train_img.head(10)"
   ]
  },
  {
   "cell_type": "code",
   "execution_count": 12,
   "metadata": {
    "execution": {
     "iopub.execute_input": "2021-12-24T12:58:13.338649Z",
     "iopub.status.busy": "2021-12-24T12:58:13.338180Z",
     "iopub.status.idle": "2021-12-24T13:00:53.992640Z",
     "shell.execute_reply": "2021-12-24T13:00:53.991913Z",
     "shell.execute_reply.started": "2021-12-24T12:58:13.338607Z"
    }
   },
   "outputs": [],
   "source": [
    "image_size=set()\n",
    "train_folder_path='/kaggle/input/severstal-steel-defect-detection/train_images/'\n",
    "for i in os.listdir(train_folder_path): #https://www.geeksforgeeks.org/python-os-listdir-method/\n",
    "    image_size.add(cv2.imread(train_folder_path+'/'+i).shape)\n",
    "unique_image=list(image_size)\n",
    "for x in unique_image:\n",
    "    print (x)\n"
   ]
  },
  {
   "cell_type": "code",
   "execution_count": null,
   "metadata": {
    "execution": {
     "iopub.execute_input": "2021-12-22T10:39:04.20819Z",
     "iopub.status.busy": "2021-12-22T10:39:04.207714Z",
     "iopub.status.idle": "2021-12-22T10:39:04.233256Z",
     "shell.execute_reply": "2021-12-22T10:39:04.232452Z",
     "shell.execute_reply.started": "2021-12-22T10:39:04.208122Z"
    }
   },
   "outputs": [],
   "source": [
    "train_csv"
   ]
  },
  {
   "cell_type": "code",
   "execution_count": 13,
   "metadata": {
    "execution": {
     "iopub.execute_input": "2021-12-24T13:00:53.995603Z",
     "iopub.status.busy": "2021-12-24T13:00:53.995238Z",
     "iopub.status.idle": "2021-12-24T13:00:54.033732Z",
     "shell.execute_reply": "2021-12-24T13:00:54.032674Z",
     "shell.execute_reply.started": "2021-12-24T13:00:53.995574Z"
    }
   },
   "outputs": [],
   "source": [
    "train_csv.ClassId=train_csv.ClassId.astype(int)\n",
    "df=pd.merge(train_img,train_csv,how='outer',on=['ImageId','ClassId'])\n",
    "df.fillna('',inplace=True)\n",
    "df.head()\n"
   ]
  },
  {
   "cell_type": "code",
   "execution_count": 14,
   "metadata": {
    "execution": {
     "iopub.execute_input": "2021-12-24T13:00:54.035741Z",
     "iopub.status.busy": "2021-12-24T13:00:54.035389Z",
     "iopub.status.idle": "2021-12-24T13:01:00.029157Z",
     "shell.execute_reply": "2021-12-24T13:01:00.028452Z",
     "shell.execute_reply.started": "2021-12-24T13:00:54.035705Z"
    }
   },
   "outputs": [],
   "source": [
    "#https://www.analyticsvidhya.com/blog/2020/03/pivot-table-pandas-python/\n",
    "train=pd.pivot_table(df,values='EncodedPixels',index='ImageId',columns='ClassId',aggfunc=np.sum).astype(str)\n",
    "train=train.reset_index()\n",
    "train.columns=['image_id','rle_1','rle_2','rle_3','rle_4'] \n",
    "train.head()\n"
   ]
  },
  {
   "cell_type": "code",
   "execution_count": 15,
   "metadata": {
    "execution": {
     "iopub.execute_input": "2021-12-24T13:01:00.031059Z",
     "iopub.status.busy": "2021-12-24T13:01:00.030679Z",
     "iopub.status.idle": "2021-12-24T13:01:00.695197Z",
     "shell.execute_reply": "2021-12-24T13:01:00.694332Z",
     "shell.execute_reply.started": "2021-12-24T13:01:00.031023Z"
    }
   },
   "outputs": [],
   "source": [
    "#Stratified corrosion is a type of corrosion that progresses parallel to the metal surface in such a manner that underlying layers are gradually separated.\n",
    "#For stratified sampling, we have taken stratified based on minority label priority\n",
    "#https://economictimes.indiatimes.com/definition/stratified-sampling\n",
    "defect=[]\n",
    "stratify=[]\n",
    "for i in range(len(train)):\n",
    "    if (train['rle_1'][i] != '' or train['rle_2'][i] != '' or train['rle_3'][i] != '' or train['rle_4'][i] != ''):\n",
    "        defect.append(1)\n",
    "    else:\n",
    "        defect.append(0)\n",
    "    if train['rle_1'][i] != '':\n",
    "        stratify.append(1)\n",
    "    elif train['rle_2'][i] != '':\n",
    "        stratify.append(2)\n",
    "    elif train['rle_3'][i] != '':\n",
    "        stratify.append(3)\n",
    "    elif train['rle_4'][i] != '':\n",
    "        stratify.append(4)\n",
    "    else:\n",
    "        stratify.append(0)\n",
    "train['defect']=defect\n",
    "train['stratify']=stratify"
   ]
  },
  {
   "cell_type": "code",
   "execution_count": null,
   "metadata": {
    "execution": {
     "iopub.execute_input": "2021-12-22T10:41:25.845941Z",
     "iopub.status.busy": "2021-12-22T10:41:25.845388Z",
     "iopub.status.idle": "2021-12-22T10:41:25.858561Z",
     "shell.execute_reply": "2021-12-22T10:41:25.85774Z",
     "shell.execute_reply.started": "2021-12-22T10:41:25.8459Z"
    }
   },
   "outputs": [],
   "source": [
    "train.head()\n"
   ]
  },
  {
   "cell_type": "code",
   "execution_count": 16,
   "metadata": {
    "execution": {
     "iopub.execute_input": "2021-12-24T13:01:00.697301Z",
     "iopub.status.busy": "2021-12-24T13:01:00.697004Z",
     "iopub.status.idle": "2021-12-24T13:01:01.131455Z",
     "shell.execute_reply": "2021-12-24T13:01:01.130775Z",
     "shell.execute_reply.started": "2021-12-24T13:01:00.697275Z"
    }
   },
   "outputs": [],
   "source": [
    "defect_1,defect_2,defect_3,defect_4=[],[],[],[]\n",
    "for i in range(len(train)):\n",
    "    if train['rle_1'][i] != '':\n",
    "        defect_1.append(1)\n",
    "    else:\n",
    "        defect_1.append(0)\n",
    "    if train['rle_2'][i] != '':\n",
    "        defect_2.append(1)\n",
    "    else:\n",
    "        defect_2.append(0)\n",
    "    if train['rle_3'][i] != '':\n",
    "        defect_3.append(1)\n",
    "    else:\n",
    "        defect_3.append(0)\n",
    "    if train['rle_4'][i] != '':\n",
    "        defect_4.append(1)\n",
    "    else:\n",
    "        defect_4.append(0)\n",
    "train['defect_1']=defect_1\n",
    "train['defect_2']=defect_2\n",
    "train['defect_3']=defect_3\n",
    "train['defect_4']=defect_4\n",
    "train['total_defects']=train['defect_1']+ train['defect_2']+ train['defect_3']+ train['defect_4']\n",
    "train.head()"
   ]
  },
  {
   "cell_type": "code",
   "execution_count": null,
   "metadata": {
    "execution": {
     "iopub.execute_input": "2021-12-22T10:43:16.471216Z",
     "iopub.status.busy": "2021-12-22T10:43:16.470888Z",
     "iopub.status.idle": "2021-12-22T10:43:16.477715Z",
     "shell.execute_reply": "2021-12-22T10:43:16.475878Z",
     "shell.execute_reply.started": "2021-12-22T10:43:16.471185Z"
    }
   },
   "outputs": [],
   "source": [
    "train.shape\n"
   ]
  },
  {
   "cell_type": "code",
   "execution_count": null,
   "metadata": {
    "execution": {
     "iopub.execute_input": "2021-12-22T16:53:49.090426Z",
     "iopub.status.busy": "2021-12-22T16:53:49.090072Z",
     "iopub.status.idle": "2021-12-22T16:53:49.135921Z",
     "shell.execute_reply": "2021-12-22T16:53:49.13481Z",
     "shell.execute_reply.started": "2021-12-22T16:53:49.090394Z"
    }
   },
   "outputs": [],
   "source": [
    "# сохраняем обработанные данные\n",
    "with open('./data.pkl','wb') as f:\n",
    "     pickle.dump(train,f)"
   ]
  },
  {
   "cell_type": "code",
   "execution_count": null,
   "metadata": {
    "execution": {
     "iopub.execute_input": "2021-12-22T16:51:34.943676Z",
     "iopub.status.busy": "2021-12-22T16:51:34.943293Z",
     "iopub.status.idle": "2021-12-22T16:51:35.328575Z",
     "shell.execute_reply": "2021-12-22T16:51:35.327054Z",
     "shell.execute_reply.started": "2021-12-22T16:51:34.943644Z"
    }
   },
   "outputs": [],
   "source": [
    "with open('./data.pkl','rb') as f:\n",
    "     train=pickle.load(f)"
   ]
  },
  {
   "cell_type": "code",
   "execution_count": null,
   "metadata": {
    "execution": {
     "iopub.execute_input": "2021-12-22T11:24:14.350444Z",
     "iopub.status.busy": "2021-12-22T11:24:14.350131Z",
     "iopub.status.idle": "2021-12-22T11:24:14.373075Z",
     "shell.execute_reply": "2021-12-22T11:24:14.372215Z",
     "shell.execute_reply.started": "2021-12-22T11:24:14.350413Z"
    }
   },
   "outputs": [],
   "source": [
    "train.head()\n"
   ]
  },
  {
   "cell_type": "code",
   "execution_count": null,
   "metadata": {
    "execution": {
     "iopub.execute_input": "2021-12-22T10:49:51.580898Z",
     "iopub.status.busy": "2021-12-22T10:49:51.580405Z",
     "iopub.status.idle": "2021-12-22T10:49:51.58641Z",
     "shell.execute_reply": "2021-12-22T10:49:51.58545Z",
     "shell.execute_reply.started": "2021-12-22T10:49:51.580862Z"
    }
   },
   "outputs": [],
   "source": [
    "train.shape\n"
   ]
  },
  {
   "cell_type": "markdown",
   "metadata": {},
   "source": [
    "## Подготовка к обучению"
   ]
  },
  {
   "cell_type": "code",
   "execution_count": null,
   "metadata": {
    "execution": {
     "iopub.execute_input": "2021-12-22T16:54:15.356947Z",
     "iopub.status.busy": "2021-12-22T16:54:15.356453Z",
     "iopub.status.idle": "2021-12-22T16:54:15.366702Z",
     "shell.execute_reply": "2021-12-22T16:54:15.365341Z",
     "shell.execute_reply.started": "2021-12-22T16:54:15.356871Z"
    }
   },
   "outputs": [],
   "source": [
    "def f1_score(y_true, y_pred): \n",
    "    #https://aakashgoel12.medium.com/how-to-add-user-defined-function-get-f1-score-in-keras-metrics-3013f979ce0d\n",
    "    #https://stackoverflow.com/questions/43547402/how-to-calculate-f1-macro-in-keras\n",
    "    true_positives=K.sum(K.round(K.clip(y_true*y_pred,0,1)))   #calculates number of true positives\n",
    "    possible_positives=K.sum(K.round(K.clip(y_true,0,1)))      #calculates number of actual positives\n",
    "    predicted_positives=K.sum(K.round(K.clip(y_pred,0,1)))     \n",
    "\n",
    "    #K.epsilon takes care of non-zero divisions\n",
    "    #was modified by adding the constant epsilon, in order to avoid division by 0. Thus NaN will not be computed.\n",
    "    precision=true_positives/(predicted_positives +K.epsilon())\n",
    "    recall=true_positives/(possible_positives+K.epsilon())\n",
    "    f1_val=2*(precision*recall)/(precision+recall+K.epsilon()) \n",
    "    return f1_val"
   ]
  },
  {
   "cell_type": "code",
   "execution_count": null,
   "metadata": {
    "execution": {
     "iopub.execute_input": "2021-12-22T16:54:18.993319Z",
     "iopub.status.busy": "2021-12-22T16:54:18.99297Z",
     "iopub.status.idle": "2021-12-22T16:54:19.03649Z",
     "shell.execute_reply": "2021-12-22T16:54:19.035583Z",
     "shell.execute_reply.started": "2021-12-22T16:54:18.993288Z"
    }
   },
   "outputs": [],
   "source": [
    "#https://scikit-learn.org/stable/modules/generated/sklearn.model_selection.train_test_split.html\n",
    "x_train,x_test=train_test_split(train,test_size=0.10,stratify=train['stratify'],random_state=0)\n",
    "x_train,x_val=train_test_split(x_train,test_size=0.20,stratify=x_train['stratify'],random_state=0)\n",
    "x_train=x_train[['image_id','defect']]\n",
    "x_val=x_val[['image_id','defect']]\n",
    "x_test=x_test[['image_id','defect']]\n",
    "print(\"x_train {}\".format(x_train.shape),\"  x_val {}\".format(x_val.shape),\" x_test {}\".format(x_test.shape))"
   ]
  },
  {
   "cell_type": "markdown",
   "metadata": {},
   "source": [
    "С помощью аугментации данных увеличим число изображений."
   ]
  },
  {
   "cell_type": "code",
   "execution_count": null,
   "metadata": {
    "execution": {
     "iopub.execute_input": "2021-12-22T16:54:24.129762Z",
     "iopub.status.busy": "2021-12-22T16:54:24.129378Z",
     "iopub.status.idle": "2021-12-22T16:54:47.659231Z",
     "shell.execute_reply": "2021-12-22T16:54:47.657953Z",
     "shell.execute_reply.started": "2021-12-22T16:54:24.129731Z"
    }
   },
   "outputs": [],
   "source": [
    "#https://www.analyticsvidhya.com/blog/2020/08/image-augmentation-on-the-fly-using-keras-imagedatagenerator/\n",
    "#https://www.tensorflow.org/api_docs/python/tf/keras/preprocessing/image/ImageDataGenerator\n",
    "train_datagen=ImageDataGenerator(rescale=1./255,\n",
    "                                 shear_range=0.1,\n",
    "                                 zoom_range=0.1,\n",
    "                                 horizontal_flip=True,\n",
    "                                 vertical_flip=True,\n",
    "                                 rotation_range=60)\n",
    "\n",
    "val_datagen=ImageDataGenerator(rescale=1./255)\n",
    "\n",
    "\n",
    "train_folder_path='/kaggle/input/severstal-steel-defect-detection/train_images/'\n",
    "\n",
    "train_image_generator=train_datagen.flow_from_dataframe(dataframe=x_train.astype(str),\n",
    "                                                  directory=train_folder_path,\n",
    "                                                  x_col=\"image_id\",\n",
    "                                                  y_col=\"defect\",\n",
    "                                                  seed=42,\n",
    "                                                  shuffle=True,\n",
    "                                                  batch_size=32,\n",
    "                                                  class_mode=\"binary\",\n",
    "                                                  target_size=(256,512))\n",
    "\n",
    "val_image_generator=val_datagen.flow_from_dataframe(dataframe=x_val.astype(str),\n",
    "                                                  directory=train_folder_path,\n",
    "                                                  x_col=\"image_id\",\n",
    "                                                  y_col=\"defect\",\n",
    "                                                  batch_size=32,\n",
    "                                                  seed=42,\n",
    "                                                  shuffle=True,\n",
    "                                                  class_mode=\"binary\",\n",
    "                                                  target_size=(256,512))"
   ]
  },
  {
   "cell_type": "markdown",
   "metadata": {},
   "source": [
    "# Обучение"
   ]
  },
  {
   "cell_type": "markdown",
   "metadata": {},
   "source": [
    "## Бинарная классификация"
   ]
  },
  {
   "cell_type": "markdown",
   "metadata": {},
   "source": [
    "Flattening is No brainer and it simply converts a multi-dimensional object to one-dimensional by re-arranging the elements.\n",
    "\n",
    "While GlobalAveragePooling is a methodology used for better representation of your vector. It can be 1D/2D/3D.It uses a parser window which moves across the object and pools the data by averaging it (GlobalAveragePooling) or picking max value (GlobalMaxPooling).\n",
    "\n",
    "Batch normalization, it is a process to make neural networks faster and more stable through adding extra layers in a deep neural network.The new layer performs the standardizing and normalizing operations on the input of a layer coming from a previous layer.A typical neural network is trained using a collected set of input data called batch. Similarly, the normalizing process in batch normalization takes place in batches, not as a single input.\n",
    "\n",
    "Large neural nets trained on relatively small datasets can overfit the training data.By dropping a unit out, we mean temporarily removing it from the network, along with all its incoming and outgoing connections we can overcome overfitting problem.\n",
    "\n",
    "Used pre-trained Xception() model by keras without fully-connected layer at the top of the network and later freeze the pre-trained model."
   ]
  },
  {
   "cell_type": "code",
   "execution_count": null,
   "metadata": {
    "execution": {
     "iopub.execute_input": "2021-12-22T16:55:06.18886Z",
     "iopub.status.busy": "2021-12-22T16:55:06.188503Z",
     "iopub.status.idle": "2021-12-22T16:55:28.305653Z",
     "shell.execute_reply": "2021-12-22T16:55:28.304514Z",
     "shell.execute_reply.started": "2021-12-22T16:55:06.18883Z"
    }
   },
   "outputs": [],
   "source": [
    "import wandb\n",
    "from wandb.keras import WandbCallback\n",
    "wandb.init(project=\"severstal\", entity=\"eliseeva\")\n"
   ]
  },
  {
   "cell_type": "code",
   "execution_count": null,
   "metadata": {
    "execution": {
     "iopub.execute_input": "2021-12-22T16:55:44.24918Z",
     "iopub.status.busy": "2021-12-22T16:55:44.248784Z",
     "iopub.status.idle": "2021-12-22T16:55:44.256283Z",
     "shell.execute_reply": "2021-12-22T16:55:44.25497Z",
     "shell.execute_reply.started": "2021-12-22T16:55:44.249148Z"
    }
   },
   "outputs": [],
   "source": [
    "wandb.config = {\n",
    "#   \"learning_rate\": 0.001,\n",
    "  \"epochs\": 20,\n",
    "  \"batch_size\": 32\n",
    "}"
   ]
  },
  {
   "cell_type": "code",
   "execution_count": null,
   "metadata": {
    "execution": {
     "iopub.execute_input": "2021-12-22T16:55:33.185333Z",
     "iopub.status.busy": "2021-12-22T16:55:33.18488Z",
     "iopub.status.idle": "2021-12-22T16:55:39.353688Z",
     "shell.execute_reply": "2021-12-22T16:55:39.352637Z",
     "shell.execute_reply.started": "2021-12-22T16:55:33.185281Z"
    }
   },
   "outputs": [],
   "source": [
    "#https://keras.io/api/applications/xception/\n",
    "base_model=keras.applications.xception.Xception(input_shape=(256,512,3),include_top=False)\n",
    "base_model.trainable=False\n",
    "\n",
    "m=base_model.output\n",
    "# add a global average pooling layer\n",
    "#https://stackoverflow.com/questions/49295311/what-is-the-difference-between-flatten-and-globalaveragepooling2d-in-keras \n",
    "m=GlobalAveragePooling2D()(m)\n",
    "\n",
    "# add fully-connected layers\n",
    "m=Dense(1024,activation='relu')(m)\n",
    "m=BatchNormalization()(m)   #https://www.analyticsvidhya.com/blog/2021/03/introduction-to-batch-normalization/\n",
    "m=Dropout(0.3)(m)\n",
    "\n",
    "#https://machinelearningmastery.com/how-to-reduce-overfitting-in-deep-learning-with-weight-regularization/\n",
    "m=Dense(512,activation='relu')(m) \n",
    "m=BatchNormalization()(m)\n",
    "m= Dropout(0.3)(m)\n",
    "\n",
    "m=Dense(64,activation='relu')(m)\n",
    "m=BatchNormalization()(m)\n",
    "m=Dropout(0.3)(m)\n",
    "\n",
    "#prediction layer\n",
    "output=Dense(1,activation='sigmoid')(m)   #Binary Classification thus sigmoid is used \n",
    "\n",
    "model=Model(inputs=base_model.input,outputs=output)\n",
    "model._name=\"Binary_Classification_Model\"\n",
    "model.summary()"
   ]
  },
  {
   "cell_type": "code",
   "execution_count": null,
   "metadata": {
    "execution": {
     "iopub.execute_input": "2021-12-22T16:56:09.258773Z",
     "iopub.status.busy": "2021-12-22T16:56:09.258402Z",
     "iopub.status.idle": "2021-12-22T19:11:18.630409Z",
     "shell.execute_reply": "2021-12-22T19:11:18.621687Z",
     "shell.execute_reply.started": "2021-12-22T16:56:09.258741Z"
    }
   },
   "outputs": [],
   "source": [
    "# log_dir=os.path.join(\"logs\",datetime.datetime.now().strftime(\"%Y%m%d-%H%M%S\"))\n",
    "# tensorboard=tf.keras.callbacks.TensorBoard(log_dir=log_dir,histogram_freq=1,write_graph=True,write_grads=True)\n",
    "\n",
    "checkpoint_filepath='./binary_Xception_2.h5'\n",
    "model_checkpoint_callback= keras.callbacks.ModelCheckpoint(filepath=checkpoint_filepath,monitor='val_f1_score',mode='max',save_best_only=True)\n",
    "#https://keras.io/api/metrics/ \n",
    "#https://keras.io/api/losses/probabilistic_losses/#categorical_crossentropy-function\n",
    "model.compile(optimizer='Adam',loss='binary_crossentropy',metrics=[\"accuracy\",f1_score])\n",
    "callback=[model_checkpoint_callback,WandbCallback()]\n",
    "#https://datascience.stackexchange.com/questions/34444/what-is-the-difference-between-fit-and-fit-generator-in-keras\n",
    "history=model.fit_generator(train_image_generator,validation_data=val_image_generator,epochs=20,verbose=1,callbacks=callback)"
   ]
  },
  {
   "cell_type": "code",
   "execution_count": null,
   "metadata": {
    "execution": {
     "iopub.execute_input": "2021-12-22T19:11:24.580822Z",
     "iopub.status.busy": "2021-12-22T19:11:24.580389Z",
     "iopub.status.idle": "2021-12-22T19:11:26.289264Z",
     "shell.execute_reply": "2021-12-22T19:11:26.288289Z",
     "shell.execute_reply.started": "2021-12-22T19:11:24.580775Z"
    }
   },
   "outputs": [],
   "source": [
    "model=load_model('./binary_Xception_2.h5',custom_objects={'f1_score':f1_score})\n"
   ]
  },
  {
   "cell_type": "code",
   "execution_count": null,
   "metadata": {
    "execution": {
     "iopub.execute_input": "2021-12-22T19:13:09.124567Z",
     "iopub.status.busy": "2021-12-22T19:13:09.12355Z",
     "iopub.status.idle": "2021-12-22T19:13:16.492669Z",
     "shell.execute_reply": "2021-12-22T19:13:16.490144Z",
     "shell.execute_reply.started": "2021-12-22T19:13:09.124532Z"
    }
   },
   "outputs": [],
   "source": [
    "train_image_generator=val_datagen.flow_from_dataframe(dataframe=x_train.astype(str),\n",
    "                                                  directory=train_folder_path,\n",
    "                                                  x_col=\"image_id\",\n",
    "                                                  y_col=\"defect\",\n",
    "                                                  batch_size=32,\n",
    "                                                  shuffle=False,\n",
    "                                                  class_mode=\"binary\",\n",
    "                                                  target_size=(256,512))\n",
    "\n",
    "\n",
    "val_image_generator=val_datagen.flow_from_dataframe(dataframe=x_val.astype(str),\n",
    "                                                  directory=train_folder_path,\n",
    "                                                  x_col=\"image_id\",\n",
    "                                                  y_col=\"defect\",\n",
    "                                                  batch_size=32,\n",
    "                                                  shuffle=False,\n",
    "                                                  class_mode=\"binary\",\n",
    "                                                  target_size=(256,512))\n",
    "\n",
    "test_image_generator=val_datagen.flow_from_dataframe(dataframe=x_test.astype(str),\n",
    "                                                  directory=train_folder_path,\n",
    "                                                  x_col=\"image_id\",\n",
    "                                                  y_col=\"defect\",\n",
    "                                                  batch_size=32,\n",
    "                                                  shuffle=False,\n",
    "                                                  class_mode=\"binary\",\n",
    "                                                  target_size=(256,512))"
   ]
  },
  {
   "cell_type": "code",
   "execution_count": null,
   "metadata": {
    "execution": {
     "iopub.execute_input": "2021-12-22T19:14:02.16591Z",
     "iopub.status.busy": "2021-12-22T19:14:02.165483Z",
     "iopub.status.idle": "2021-12-22T19:16:59.080073Z",
     "shell.execute_reply": "2021-12-22T19:16:59.07899Z",
     "shell.execute_reply.started": "2021-12-22T19:14:02.165849Z"
    }
   },
   "outputs": [],
   "source": [
    "print('Training Dataset:\\n')\n",
    "print(model.evaluate(train_image_generator,verbose=1))\n",
    "print(\"=\"*100)\n",
    "print('\\nValidation Dataset:\\n')\n",
    "print(model.evaluate(val_image_generator,verbose=1))\n",
    "print(\"=\"*100)\n",
    "print('\\nTest Dataset:\\n')\n",
    "print(model.evaluate(test_image_generator,verbose=1))"
   ]
  },
  {
   "cell_type": "markdown",
   "metadata": {},
   "source": [
    "Мы видим, что значения метрик и потерь близки для валидационной выборки, тестовой и обучающейся - это значит, что модель не переобучается. f1_score для всего датасета составляет порядка 0.9. В целом модель имеет хорошую производительность."
   ]
  },
  {
   "cell_type": "markdown",
   "metadata": {},
   "source": [
    "## Классификация по нескольким меткам"
   ]
  },
  {
   "cell_type": "code",
   "execution_count": null,
   "metadata": {
    "execution": {
     "iopub.execute_input": "2021-12-22T19:19:29.530798Z",
     "iopub.status.busy": "2021-12-22T19:19:29.530367Z",
     "iopub.status.idle": "2021-12-22T19:19:29.577532Z",
     "shell.execute_reply": "2021-12-22T19:19:29.576156Z",
     "shell.execute_reply.started": "2021-12-22T19:19:29.530766Z"
    }
   },
   "outputs": [],
   "source": [
    "train=train[train['defect']==1]\n",
    "x_train,x_test=train_test_split(train,test_size=0.10,stratify=train['stratify'],random_state=0)\n",
    "x_train,x_val=train_test_split(x_train,test_size=0.20,stratify=x_train['stratify'],random_state=0)\n",
    "x_train=x_train[['image_id','defect_1','defect_2','defect_3','defect_4']]\n",
    "x_val=x_val[['image_id','defect_1','defect_2','defect_3','defect_4']]\n",
    "x_test=x_test[['image_id','defect_1','defect_2','defect_3','defect_4']]\n",
    "print(\"x_train {}\".format(x_train.shape),\"  x_val {}\".format(x_val.shape),\" x_test {}\".format(x_test.shape))"
   ]
  },
  {
   "cell_type": "code",
   "execution_count": null,
   "metadata": {
    "execution": {
     "iopub.execute_input": "2021-12-22T19:21:02.080754Z",
     "iopub.status.busy": "2021-12-22T19:21:02.0804Z",
     "iopub.status.idle": "2021-12-22T19:21:04.622171Z",
     "shell.execute_reply": "2021-12-22T19:21:04.620899Z",
     "shell.execute_reply.started": "2021-12-22T19:21:02.080723Z"
    }
   },
   "outputs": [],
   "source": [
    "#https://www.analyticsvidhya.com/blog/2020/08/image-augmentation-on-the-fly-using-keras-imagedatagenerator/\n",
    "#https://www.tensorflow.org/api_docs/python/tf/keras/preprocessing/image/ImageDataGenerator\n",
    "train_datagen=ImageDataGenerator(rescale=1./255,\n",
    "                                 shear_range=0.2,\n",
    "                                 zoom_range=0.1,\n",
    "                                 horizontal_flip=True,\n",
    "                                 vertical_flip=True,\n",
    "                                 rotation_range=10,\n",
    "                                 width_shift_range=0.1, \n",
    "                                 height_shift_range=0.1)\n",
    "\n",
    "val_datagen=ImageDataGenerator(rescale=1./255)\n",
    "\n",
    "\n",
    "train_folder_path='/kaggle/input/severstal-steel-defect-detection/train_images/'\n",
    "col=[\"defect_1\",\"defect_2\",\"defect_3\",\"defect_4\"]\n",
    "train_image_generator=train_datagen.flow_from_dataframe(dataframe=x_train,\n",
    "                                                  directory=train_folder_path,\n",
    "                                                  x_col=\"image_id\",\n",
    "                                                  y_col=col,\n",
    "                                                  batch_size=32,\n",
    "                                                  class_mode=\"raw\",\n",
    "                                                  target_size=(256,512))\n",
    "\n",
    "val_image_generator=val_datagen.flow_from_dataframe(dataframe=x_val,\n",
    "                                                  directory=train_folder_path,\n",
    "                                                  x_col=\"image_id\",\n",
    "                                                  y_col=col,\n",
    "                                                  batch_size=32,\n",
    "                                                  class_mode=\"raw\",\n",
    "                                                  target_size=(256,512))"
   ]
  },
  {
   "cell_type": "markdown",
   "metadata": {},
   "source": [
    "Далее используем предобученную Xception() без полносвязных слоев в качестве базовой модели в голове?? нейронной сети и с последующей заморозкой предобученной модели.\n"
   ]
  },
  {
   "cell_type": "code",
   "execution_count": null,
   "metadata": {
    "execution": {
     "iopub.execute_input": "2021-12-22T19:22:00.699193Z",
     "iopub.status.busy": "2021-12-22T19:22:00.698694Z",
     "iopub.status.idle": "2021-12-22T19:22:03.216859Z",
     "shell.execute_reply": "2021-12-22T19:22:03.215692Z",
     "shell.execute_reply.started": "2021-12-22T19:22:00.699162Z"
    }
   },
   "outputs": [],
   "source": [
    "#https://keras.io/api/applications/inceptionresnetv2/\n",
    "base_model=keras.applications.xception.Xception(input_shape=(256,512,3),include_top=False)\n",
    "base_model.trainable=False\n",
    "\n",
    "m=base_model.output\n",
    "# add a global average pooling layer\n",
    "#https://stackoverflow.com/questions/49295311/what-is-the-difference-between-flatten-and-globalaveragepooling2d-in-keras \n",
    "m=GlobalAveragePooling2D()(m)\n",
    "\n",
    "# add fully-connected layers\n",
    "m=Dense(1024,activation='relu')(m)\n",
    "m=BatchNormalization()(m)   #https://www.analyticsvidhya.com/blog/2021/03/introduction-to-batch-normalization/\n",
    "m=Dropout(0.4)(m)\n",
    "\n",
    "#https://machinelearningmastery.com/how-to-reduce-overfitting-in-deep-learning-with-weight-regularization/\n",
    "m=Dense(512,activation='relu')(m) \n",
    "m=BatchNormalization()(m)\n",
    "m= Dropout(0.4)(m)\n",
    "\n",
    "m=Dense(64,activation='relu')(m)\n",
    "\n",
    "#prediction layer\n",
    "output=Dense(4,activation='sigmoid')(m)   \n",
    "\n",
    "model=Model(inputs=base_model.input,outputs=output)\n",
    "model._name=\"Multi_label_Classification_Model\"\n",
    "model.summary()"
   ]
  },
  {
   "cell_type": "code",
   "execution_count": null,
   "metadata": {
    "execution": {
     "iopub.execute_input": "2021-12-22T19:25:01.28822Z",
     "iopub.status.busy": "2021-12-22T19:25:01.287833Z",
     "iopub.status.idle": "2021-12-22T20:33:59.061911Z",
     "shell.execute_reply": "2021-12-22T20:33:59.060725Z",
     "shell.execute_reply.started": "2021-12-22T19:25:01.288189Z"
    }
   },
   "outputs": [],
   "source": [
    "checkpoint_filepath='./multi_label.h5'\n",
    "model_checkpoint_callback=keras.callbacks.ModelCheckpoint(filepath=checkpoint_filepath,monitor='val_f1_score',mode='max',save_best_only=True)\n",
    "#https://keras.io/api/metrics/ \n",
    "#https://keras.io/api/losses/probabilistic_losses/#categorical_crossentropy-function\n",
    "model.compile(optimizer='Adam',loss='binary_crossentropy',metrics=[\"accuracy\",f1_score])\n",
    "callback=[model_checkpoint_callback,WandbCallback()]\n",
    "#https://datascience.stackexchange.com/questions/34444/what-is-the-difference-between-fit-and-fit-generator-in-keras\n",
    "history=model.fit_generator(train_image_generator,validation_data=val_image_generator,epochs=20,verbose=1,callbacks=callback)"
   ]
  },
  {
   "cell_type": "code",
   "execution_count": null,
   "metadata": {
    "execution": {
     "iopub.execute_input": "2021-12-22T20:37:07.199485Z",
     "iopub.status.busy": "2021-12-22T20:37:07.19908Z",
     "iopub.status.idle": "2021-12-22T20:37:08.934243Z",
     "shell.execute_reply": "2021-12-22T20:37:08.93312Z",
     "shell.execute_reply.started": "2021-12-22T20:37:07.199452Z"
    }
   },
   "outputs": [],
   "source": [
    "model=load_model('./multi_label.h5',custom_objects={'f1_score':f1_score})\n"
   ]
  },
  {
   "cell_type": "code",
   "execution_count": null,
   "metadata": {
    "execution": {
     "iopub.execute_input": "2021-12-22T20:37:39.280685Z",
     "iopub.status.busy": "2021-12-22T20:37:39.280305Z",
     "iopub.status.idle": "2021-12-22T20:37:41.874904Z",
     "shell.execute_reply": "2021-12-22T20:37:41.873626Z",
     "shell.execute_reply.started": "2021-12-22T20:37:39.280655Z"
    }
   },
   "outputs": [],
   "source": [
    "train_image_generator=val_datagen.flow_from_dataframe(dataframe=x_train,\n",
    "                                                  directory=train_folder_path,\n",
    "                                                  x_col=\"image_id\",\n",
    "                                                  y_col=col,\n",
    "                                                  batch_size=32,\n",
    "                                                  shuffle=False,\n",
    "                                                  class_mode=\"raw\",\n",
    "                                                  target_size=(256,512))\n",
    "\n",
    "\n",
    "val_image_generator=val_datagen.flow_from_dataframe(dataframe=x_val,\n",
    "                                                  directory=train_folder_path,\n",
    "                                                  x_col=\"image_id\",\n",
    "                                                  y_col=col,\n",
    "                                                  batch_size=32,\n",
    "                                                  shuffle=False,\n",
    "                                                  class_mode=\"raw\",\n",
    "                                                  target_size=(256,512))\n",
    "\n",
    "test_image_generator=val_datagen.flow_from_dataframe(dataframe=x_test,\n",
    "                                                  directory=train_folder_path,\n",
    "                                                  x_col=\"image_id\",\n",
    "                                                  y_col=col,\n",
    "                                                  batch_size=32,\n",
    "                                                  shuffle=False,\n",
    "                                                  class_mode=\"raw\",\n",
    "                                                  target_size=(256,512))"
   ]
  },
  {
   "cell_type": "code",
   "execution_count": null,
   "metadata": {
    "execution": {
     "iopub.execute_input": "2021-12-22T20:37:44.565198Z",
     "iopub.status.busy": "2021-12-22T20:37:44.564738Z",
     "iopub.status.idle": "2021-12-22T20:39:12.9474Z",
     "shell.execute_reply": "2021-12-22T20:39:12.946212Z",
     "shell.execute_reply.started": "2021-12-22T20:37:44.565166Z"
    }
   },
   "outputs": [],
   "source": [
    "print('Training Dataset:\\n')\n",
    "print(model.evaluate(train_image_generator,verbose=1))\n",
    "print(\"=\"*100)\n",
    "print('\\nValidation Dataset:\\n')\n",
    "print(model.evaluate(val_image_generator,verbose=1))\n",
    "print(\"=\"*100)\n",
    "print('\\nTest Dataset:\\n')\n",
    "print(model.evaluate(test_image_generator,verbose=1))"
   ]
  },
  {
   "cell_type": "markdown",
   "metadata": {},
   "source": [
    "Для валидационных и тестовых данных потери увеличиваются по сравнению с обучающим сетом, но все же при переходе от валидации к тестированию видим небольшое уменьшение loss, аналогично для f1_score."
   ]
  },
  {
   "cell_type": "markdown",
   "metadata": {},
   "source": [
    "## Сегментационная модель"
   ]
  },
  {
   "cell_type": "markdown",
   "metadata": {},
   "source": [
    "Далее создадим отдельный датасет для каждого вида дефектов."
   ]
  },
  {
   "cell_type": "code",
   "execution_count": 17,
   "metadata": {
    "execution": {
     "iopub.execute_input": "2021-12-24T13:06:02.132041Z",
     "iopub.status.busy": "2021-12-24T13:06:02.131572Z",
     "iopub.status.idle": "2021-12-24T13:06:02.209570Z",
     "shell.execute_reply": "2021-12-24T13:06:02.208929Z",
     "shell.execute_reply.started": "2021-12-24T13:06:02.131994Z"
    }
   },
   "outputs": [],
   "source": [
    "#https://scikit-learn.org/stable/modules/generated/sklearn.model_selection.train_test_split.html\n",
    "x_train,x_test=train_test_split(train,test_size=0.10,stratify=train['stratify'],random_state=0)\n",
    "x_train,x_val=train_test_split(x_train,test_size=0.20,stratify=x_train['stratify'],random_state=0)\n",
    "print(\"x_train {}\".format(x_train.shape),\"  x_val {}\".format(x_val.shape),\" x_test {}\".format(x_test.shape))\n",
    "print(\"=\"*100)\n",
    "\n",
    "train_1=x_train[x_train['defect_1']==1][['image_id','rle_1']].rename(columns={'image_id':'image_id','rle_1':'rle'})\n",
    "train_2=x_train[x_train['defect_2']==1][['image_id','rle_2']].rename(columns={'image_id':'image_id','rle_2':'rle'})\n",
    "train_3=x_train[x_train['defect_3']==1][['image_id','rle_3']].rename(columns={'image_id':'image_id','rle_3':'rle'})\n",
    "train_4=x_train[x_train['defect_4']==1][['image_id','rle_4']].rename(columns={'image_id':'image_id','rle_4':'rle'})\n",
    "print(\"train_1 {}\".format(train_1.shape),\" train_2 {}\".format(train_2.shape),\" train_3 {}\".format(train_3.shape),\" train_4 {}\".format(train_4.shape))\n",
    "print(\"=\"*100)\n",
    "\n",
    "val_1=x_val[x_val['defect_1']==1][['image_id','rle_1']].rename(columns={'image_id':'image_id','rle_1':'rle'})\n",
    "val_2=x_val[x_val['defect_2']==1][['image_id','rle_2']].rename(columns={'image_id':'image_id','rle_2':'rle'})\n",
    "val_3=x_val[x_val['defect_3']==1][['image_id','rle_3']].rename(columns={'image_id':'image_id','rle_3':'rle'})\n",
    "val_4=x_val[x_val['defect_4']==1][['image_id','rle_4']].rename(columns={'image_id':'image_id','rle_4':'rle'})\n",
    "print(\"val_1 {}\".format(val_1.shape),\" val_2 {}\".format(val_2.shape),\" val_3 {}\".format(val_3.shape),\" val_4 {}\".format(val_4.shape))\n",
    "print(\"=\"*100)\n",
    "\n",
    "test_1=x_test[x_test['defect_1']==1][['image_id','rle_1']].rename(columns={'image_id':'image_id','rle_1':'rle'})\n",
    "test_2=x_test[x_test['defect_2']==1][['image_id','rle_2']].rename(columns={'image_id':'image_id','rle_2':'rle'})\n",
    "test_3=x_test[x_test['defect_3']==1][['image_id','rle_3']].rename(columns={'image_id':'image_id','rle_3':'rle'})\n",
    "test_4=x_test[x_test['defect_4']==1][['image_id','rle_4']].rename(columns={'image_id':'image_id','rle_4':'rle'})\n",
    "print(\"test_1 {}\".format(test_1.shape),\" test_2 {}\".format(test_2.shape),\" test_3 {}\".format(test_3.shape),\" test_4 {}\".format(test_4.shape))"
   ]
  },
  {
   "cell_type": "code",
   "execution_count": 57,
   "metadata": {
    "execution": {
     "iopub.execute_input": "2021-12-24T14:04:14.857220Z",
     "iopub.status.busy": "2021-12-24T14:04:14.856865Z",
     "iopub.status.idle": "2021-12-24T14:04:14.861478Z",
     "shell.execute_reply": "2021-12-24T14:04:14.860529Z",
     "shell.execute_reply.started": "2021-12-24T14:04:14.857188Z"
    }
   },
   "outputs": [],
   "source": [
    "import tensorflow as tf\n"
   ]
  },
  {
   "cell_type": "code",
   "execution_count": 7,
   "metadata": {
    "execution": {
     "iopub.execute_input": "2021-12-27T10:15:13.683806Z",
     "iopub.status.busy": "2021-12-27T10:15:13.683421Z",
     "iopub.status.idle": "2021-12-27T10:15:13.692927Z",
     "shell.execute_reply": "2021-12-27T10:15:13.692067Z",
     "shell.execute_reply.started": "2021-12-27T10:15:13.683773Z"
    }
   },
   "outputs": [],
   "source": [
    "#https://stackoverflow.com/questions/31273652/how-to-calculate-dice-coefficient-for-measuring-accuracy-of-image-segmentation-i\n",
    "def dice_coef(y_true,y_pred):\n",
    "    y_true_f=tf.reshape(tf.dtypes.cast(y_true, tf.float32),[-1])\n",
    "    y_pred_f=tf.reshape(tf.dtypes.cast(y_pred, tf.float32),[-1])\n",
    "    intersection=tf.reduce_sum(y_true_f*y_pred_f)\n",
    "    return (2. * intersection + 1.) / (tf.reduce_sum(y_true_f) + tf.reduce_sum(y_pred_f) + 1.)\n",
    "\n",
    "#https://stackoverflow.com/questions/49785133/keras-dice-coefficient-loss-function-is-negative-and-increasing-with-epochs\n",
    "def dice_loss(y_true, y_pred):\n",
    "    y_true_f = tf.reshape(y_true, [-1])\n",
    "    y_pred_f = tf.reshape(y_pred, [-1])\n",
    "    return (1-dice_coefficient(y_true, y_pred))\n",
    "\n",
    "#defining function for calculation of loss function: binary cross entropy + dice loss\n",
    "def bce_dice_loss(y_true, y_pred):\n",
    "    y_true_f = tf.reshape(y_true, [-1])\n",
    "    y_pred_f = tf.reshape(y_pred, [-1])\n",
    "    return binary_crossentropy(y_true, y_pred) + (1-dice_coef(y_true, y_pred))"
   ]
  },
  {
   "cell_type": "code",
   "execution_count": 19,
   "metadata": {
    "execution": {
     "iopub.execute_input": "2021-12-24T13:06:43.797399Z",
     "iopub.status.busy": "2021-12-24T13:06:43.797070Z",
     "iopub.status.idle": "2021-12-24T13:06:43.806090Z",
     "shell.execute_reply": "2021-12-24T13:06:43.805139Z",
     "shell.execute_reply.started": "2021-12-24T13:06:43.797369Z"
    }
   },
   "outputs": [],
   "source": [
    "#https://www.kaggle.com/paulorzp/rle-functions-run-lenght-encode-decode\n",
    "def rle_to_mask(rle):\n",
    "    # CONVERT RLE TO MASK \n",
    "    if (pd.isnull(rle))|(rle=='')|(rle=='-1'): \n",
    "        return np.zeros((256,800),dtype=np.uint8)  #If the EncodedPixels string is empty an empty mask is returned\n",
    "    \n",
    "    height=256\n",
    "    width=1600\n",
    "    mask=np.zeros(width*height,dtype=np.uint8)\n",
    "\n",
    "    array=np.asarray([int(x) for x in rle.split()])\n",
    "    starts=array[0::2]-1\n",
    "    lengths=array[1::2]    \n",
    "    for index,start in enumerate(starts):\n",
    "        mask[int(start):int(start+lengths[index])]=1\n",
    "    \n",
    "    return mask.reshape((height,width),order='F')[::,::2]"
   ]
  },
  {
   "cell_type": "markdown",
   "metadata": {},
   "source": [
    "The imgaug library provides a very useful feature called Augmentation pipeline. Such a pipeline is a sequence of steps that can be applied in a fixed or random order. This also gives the flexibility to apply certain transformations to a few images and other transformations to other images.\n",
    "\n",
    "https://www.kaggle.com/parulpandey/overview-of-popular-image-augmentation-packages"
   ]
  },
  {
   "cell_type": "code",
   "execution_count": 37,
   "metadata": {
    "execution": {
     "iopub.execute_input": "2021-12-24T13:52:30.613123Z",
     "iopub.status.busy": "2021-12-24T13:52:30.612749Z",
     "iopub.status.idle": "2021-12-24T13:52:30.632068Z",
     "shell.execute_reply": "2021-12-24T13:52:30.631201Z",
     "shell.execute_reply.started": "2021-12-24T13:52:30.613090Z"
    }
   },
   "outputs": [],
   "source": [
    "#!/usr/bin/python\n",
    "# -*- coding: utf-8 -*-\n",
    "\"\"\"\n",
    "Implementing custom data generator\n",
    "#https://towardsdatascience.com/implementing-custom-data-generators-in-keras-de56f013581c\n",
    "#https://www.kaggle.com/cdeotte/keras-unet-with-eda\n",
    "\"\"\"\n",
    "\n",
    "\n",
    "class train_DataGenerator(keras.utils.Sequence):\n",
    "\n",
    "    def __init__(\n",
    "        self,\n",
    "        dataframe,\n",
    "        batch_size=4,\n",
    "        shuffle=True,\n",
    "        preprocess=None,\n",
    "        info={},\n",
    "        ):\n",
    "        self.batch_size = batch_size\n",
    "        self.df = dataframe\n",
    "        self.indices = self.df.index.tolist()\n",
    "        self.preprocess = preprocess\n",
    "        self.shuffle = shuffle\n",
    "        self.on_epoch_end()\n",
    "\n",
    "    def __len__(self):\n",
    "        return len(self.indices) // self.batch_size\n",
    "\n",
    "    def __getitem__(self, index):\n",
    "        index = self.index[index * self.batch_size:(index + 1)\n",
    "            * self.batch_size]\n",
    "        batch = [self.indices[k] for k in index]\n",
    "\n",
    "        (X, y) = self.__get_data(batch)\n",
    "        return (X, y)\n",
    "\n",
    "    def on_epoch_end(self):\n",
    "        self.index = np.arange(len(self.indices))\n",
    "        if self.shuffle == True:\n",
    "            np.random.shuffle(self.index)\n",
    "\n",
    "    def __get_data(self, batch):\n",
    "        train_datagen = ImageDataGenerator()\n",
    "\n",
    "    # https://www.geeksforgeeks.org/python-select-random-value-from-a-list/\n",
    "\n",
    "        X = np.empty((self.batch_size, 256, 800, 3), dtype=np.float32)  # image place-holders\n",
    "        Y = np.empty((self.batch_size, 256, 800, 1), dtype=np.int8)  # 1 mask place-holders\n",
    "\n",
    "        for (i, id) in enumerate(batch):\n",
    "            X[i] = \\\n",
    "                Image.open('../input/severstal-steel-defect-detection/train_images/'\n",
    "                            + str(self.df['image_id'\n",
    "                           ].loc[id])).resize((800, 256))\n",
    "            Y[i, :, :, 0] = rle_to_mask(self.df['rle'].loc[id])\n",
    "\n",
    "        t = random.choice([0, 0, 20, 30, 40])\n",
    "        z = random.choice([0.9, 1])\n",
    "        flip = random.choice(['True', 'False'])\n",
    "\n",
    "        param = {\n",
    "            'flip_horizontal': flip,\n",
    "            'flip_vertical': flip,\n",
    "            'tx': t,\n",
    "            'ty': t,\n",
    "            'zx': z,\n",
    "            'zy': z,\n",
    "            }\n",
    "        for (i, e) in enumerate(X):\n",
    "            X[i] = train_datagen.apply_transform(e,\n",
    "                    transform_parameters=param)\n",
    "        for (i, f) in enumerate(Y):\n",
    "            Y[i] = train_datagen.apply_transform(f,\n",
    "                    transform_parameters=param)\n",
    "\n",
    "    # preprocess input\n",
    "\n",
    "        if self.preprocess != None:\n",
    "            X = self.preprocess(X)\n",
    "\n",
    "        return (X, Y)\n"
   ]
  },
  {
   "cell_type": "code",
   "execution_count": 31,
   "metadata": {
    "execution": {
     "iopub.execute_input": "2021-12-24T13:47:30.923479Z",
     "iopub.status.busy": "2021-12-24T13:47:30.923156Z",
     "iopub.status.idle": "2021-12-24T13:47:30.929693Z",
     "shell.execute_reply": "2021-12-24T13:47:30.928783Z",
     "shell.execute_reply.started": "2021-12-24T13:47:30.923447Z"
    }
   },
   "outputs": [],
   "source": [
    "from keras.utils import np_utils\n"
   ]
  },
  {
   "cell_type": "code",
   "execution_count": 35,
   "metadata": {
    "execution": {
     "iopub.execute_input": "2021-12-24T13:50:28.060564Z",
     "iopub.status.busy": "2021-12-24T13:50:28.060224Z",
     "iopub.status.idle": "2021-12-24T13:50:28.076439Z",
     "shell.execute_reply": "2021-12-24T13:50:28.075181Z",
     "shell.execute_reply.started": "2021-12-24T13:50:28.060534Z"
    }
   },
   "outputs": [],
   "source": [
    "#!/usr/bin/python\n",
    "# -*- coding: utf-8 -*-\n",
    "# Implementing custom data generator\n",
    "# https://towardsdatascience.com/implementing-custom-data-generators-in-keras-de56f013581c\n",
    "\n",
    "\n",
    "class test_DataGenerator(keras.utils.Sequence):\n",
    "\n",
    "    def __init__(\n",
    "        self,\n",
    "        dataframe,\n",
    "        batch_size=1,\n",
    "        shuffle=False,\n",
    "        preprocess=None,\n",
    "        info={},\n",
    "        ):\n",
    "        self.batch_size = batch_size\n",
    "        self.df = dataframe\n",
    "        self.indices = self.df.index.tolist()\n",
    "        self.preprocess = preprocess\n",
    "        self.shuffle = shuffle\n",
    "        self.on_epoch_end()\n",
    "\n",
    "    def __len__(self):\n",
    "        return len(self.indices) // self.batch_size\n",
    "\n",
    "    def __getitem__(self, index):\n",
    "        index = self.index[index * self.batch_size:(index + 1)\n",
    "            * self.batch_size]\n",
    "        batch = [self.indices[k] for k in index]\n",
    "\n",
    "        (X, y) = self.__get_data(batch)\n",
    "        return (X, y)\n",
    "\n",
    "    def on_epoch_end(self):\n",
    "        self.index = np.arange(len(self.indices))\n",
    "        if self.shuffle == True:\n",
    "            np.random.shuffle(self.index)\n",
    "\n",
    "    def __get_data(self, batch):\n",
    "        X = np.empty((self.batch_size, 256, 800, 3), dtype=np.float32)  # image place-holders\n",
    "        Y = np.empty((self.batch_size, 256, 800, 1), dtype=np.int8)  # 1 mask place-holders\n",
    "\n",
    "        for (i, id) in enumerate(batch):\n",
    "            X[i] = \\\n",
    "                Image.open('../input/severstal-steel-defect-detection/train_images/'\n",
    "                            + str(self.df['image_id'\n",
    "                           ].loc[id])).resize((800, 256))\n",
    "            Y[i, :, :, 0] = rle_to_mask(self.df['rle'].loc[id])\n",
    "\n",
    "      # preprocess input\n",
    "\n",
    "        if self.preprocess != None:\n",
    "            X = self.preprocess(X)\n",
    "\n",
    "        return (X, Y)\n"
   ]
  },
  {
   "cell_type": "code",
   "execution_count": 40,
   "metadata": {
    "execution": {
     "iopub.execute_input": "2021-12-24T13:54:20.272126Z",
     "iopub.status.busy": "2021-12-24T13:54:20.271746Z",
     "iopub.status.idle": "2021-12-24T13:54:26.514781Z",
     "shell.execute_reply": "2021-12-24T13:54:26.513808Z",
     "shell.execute_reply.started": "2021-12-24T13:54:20.272093Z"
    }
   },
   "outputs": [],
   "source": [
    "pip install segmentation-models"
   ]
  },
  {
   "cell_type": "code",
   "execution_count": 51,
   "metadata": {
    "execution": {
     "iopub.execute_input": "2021-12-24T14:01:03.641657Z",
     "iopub.status.busy": "2021-12-24T14:01:03.641329Z",
     "iopub.status.idle": "2021-12-24T14:01:03.647440Z",
     "shell.execute_reply": "2021-12-24T14:01:03.645496Z",
     "shell.execute_reply.started": "2021-12-24T14:01:03.641626Z"
    }
   },
   "outputs": [],
   "source": [
    "%env SM_FRAMEWORK=keras"
   ]
  },
  {
   "cell_type": "code",
   "execution_count": 52,
   "metadata": {
    "execution": {
     "iopub.execute_input": "2021-12-24T14:01:05.985350Z",
     "iopub.status.busy": "2021-12-24T14:01:05.985030Z",
     "iopub.status.idle": "2021-12-24T14:01:05.989825Z",
     "shell.execute_reply": "2021-12-24T14:01:05.988946Z",
     "shell.execute_reply.started": "2021-12-24T14:01:05.985320Z"
    }
   },
   "outputs": [],
   "source": [
    "from segmentation_models import Unet\n",
    "from segmentation_models import get_preprocessing\n",
    "import imgaug.augmenters as iaa\n",
    "import segmentation_models as sm\n",
    "import datetime\n"
   ]
  },
  {
   "cell_type": "code",
   "execution_count": 53,
   "metadata": {
    "execution": {
     "iopub.execute_input": "2021-12-24T14:01:14.521576Z",
     "iopub.status.busy": "2021-12-24T14:01:14.521251Z",
     "iopub.status.idle": "2021-12-24T14:01:20.214583Z",
     "shell.execute_reply": "2021-12-24T14:01:20.213827Z",
     "shell.execute_reply.started": "2021-12-24T14:01:14.521542Z"
    }
   },
   "outputs": [],
   "source": [
    "#https://segmentation-models.readthedocs.io/en/latest/tutorial.html\n",
    "#LOAD UNET WITH PRETRAINING FROM IMAGENET\n",
    "#https://segmentation-models.readthedocs.io/en/latest/tutorial.html\n",
    "preprocess=get_preprocessing('efficientnetb5')\n",
    "model=Unet('efficientnetb5',classes=1,activation='sigmoid',encoder_weights='imagenet')\n",
    "model._name=\"Segmentation_Model\"\n",
    "model.summary()"
   ]
  },
  {
   "cell_type": "markdown",
   "metadata": {},
   "source": [
    "### дефект 1"
   ]
  },
  {
   "cell_type": "code",
   "execution_count": 59,
   "metadata": {
    "execution": {
     "iopub.execute_input": "2021-12-24T14:04:23.036306Z",
     "iopub.status.busy": "2021-12-24T14:04:23.035956Z",
     "iopub.status.idle": "2021-12-24T14:43:39.424831Z",
     "shell.execute_reply": "2021-12-24T14:43:39.424019Z",
     "shell.execute_reply.started": "2021-12-24T14:04:23.036272Z"
    }
   },
   "outputs": [],
   "source": [
    "train_batch=train_DataGenerator(train_1,shuffle=True,preprocess=preprocess)    \n",
    "valid_batch=test_DataGenerator(val_1,preprocess=preprocess)\n",
    "\n",
    "# log_dir=os.path.join(\"logs\",datetime.datetime.now().strftime(\"%Y%m%d-%H%M%S\"))\n",
    "# tensorboard=tf.keras.callbacks.TensorBoard(log_dir=log_dir,histogram_freq=1,write_graph=True,write_grads=True)\n",
    "\n",
    "checkpoint_filepath='./segmentation_defect_1.h5'\n",
    "model_checkpoint_callback=keras.callbacks.ModelCheckpoint(filepath=checkpoint_filepath,monitor='val_dice_coef',mode='max',save_best_only=True)\n",
    "#https://keras.io/api/metrics/ \n",
    "#https://keras.io/api/losses/probabilistic_losses/#categorical_crossentropy-function\n",
    "model.compile(optimizer='adam',loss=bce_dice_loss,metrics=[dice_coef])\n",
    "callback=[model_checkpoint_callback]\n",
    "#https://datascience.stackexchange.com/questions/34444/what-is-the-difference-between-fit-and-fit-generator-in-keras\n",
    "history=model.fit_generator(train_batch,validation_data=valid_batch,epochs=25,verbose=1,callbacks=callback)"
   ]
  },
  {
   "cell_type": "code",
   "execution_count": 60,
   "metadata": {
    "execution": {
     "iopub.execute_input": "2021-12-24T14:45:59.589312Z",
     "iopub.status.busy": "2021-12-24T14:45:59.588972Z",
     "iopub.status.idle": "2021-12-24T14:46:36.550824Z",
     "shell.execute_reply": "2021-12-24T14:46:36.549290Z",
     "shell.execute_reply.started": "2021-12-24T14:45:59.589284Z"
    }
   },
   "outputs": [],
   "source": [
    "# segmentation_defect_1.h5\n",
    "print('Training Dataset:\\n')\n",
    "print(model.evaluate(test_DataGenerator(train_1,preprocess=preprocess),verbose=1))\n",
    "print(\"=\"*100)\n",
    "print('\\nValidation Dataset:\\n')\n",
    "print(model.evaluate(test_DataGenerator(val_1,preprocess=preprocess),verbose=1))\n",
    "print(\"=\"*100)\n",
    "print('\\nTest Dataset:\\n')\n",
    "print(model.evaluate(test_DataGenerator(test_1,preprocess=preprocess),verbose=1))"
   ]
  },
  {
   "cell_type": "markdown",
   "metadata": {},
   "source": [
    "For validation,test datasets loss increases and metrics decreases as compared with train data thus better to train model for more epochs (e.g. epoch =100) which might help to reduce loss and increase dice coefficient on unseen data."
   ]
  },
  {
   "cell_type": "code",
   "execution_count": 61,
   "metadata": {
    "execution": {
     "iopub.execute_input": "2021-12-24T14:48:21.314480Z",
     "iopub.status.busy": "2021-12-24T14:48:21.314107Z",
     "iopub.status.idle": "2021-12-24T14:48:21.324886Z",
     "shell.execute_reply": "2021-12-24T14:48:21.323909Z",
     "shell.execute_reply.started": "2021-12-24T14:48:21.314445Z"
    }
   },
   "outputs": [],
   "source": [
    "def rle2mask(rle):\n",
    "    # CONVERT RLE TO MASK \n",
    "    if (pd.isnull(rle))|(rle=='')|(rle=='-1'): \n",
    "        return np.zeros((256,1600) ,dtype=np.uint8)\n",
    "    \n",
    "    height= 256\n",
    "    width = 1600\n",
    "    mask= np.zeros( width*height ,dtype=np.uint8)\n",
    "\n",
    "    array = np.asarray([int(x) for x in rle.split()])\n",
    "    starts = array[0::2]-1\n",
    "    lengths = array[1::2]    \n",
    "    for index, start in enumerate(starts):\n",
    "        mask[int(start):int(start+lengths[index])] = 1\n",
    "    \n",
    "    return mask.reshape( (height,width), order='F' )"
   ]
  },
  {
   "cell_type": "code",
   "execution_count": 63,
   "metadata": {
    "execution": {
     "iopub.execute_input": "2021-12-24T14:48:48.351976Z",
     "iopub.status.busy": "2021-12-24T14:48:48.351650Z",
     "iopub.status.idle": "2021-12-24T14:48:56.112186Z",
     "shell.execute_reply": "2021-12-24T14:48:56.111406Z",
     "shell.execute_reply.started": "2021-12-24T14:48:48.351944Z"
    }
   },
   "outputs": [],
   "source": [
    "model=load_model('./segmentation_defect_1.h5',custom_objects={'bce_dice_loss':bce_dice_loss,'dice_coef':dice_coef})"
   ]
  },
  {
   "cell_type": "code",
   "execution_count": 67,
   "metadata": {
    "execution": {
     "iopub.execute_input": "2021-12-24T14:52:47.668176Z",
     "iopub.status.busy": "2021-12-24T14:52:47.667786Z",
     "iopub.status.idle": "2021-12-24T14:52:47.680137Z",
     "shell.execute_reply": "2021-12-24T14:52:47.679161Z",
     "shell.execute_reply.started": "2021-12-24T14:52:47.668142Z"
    }
   },
   "outputs": [],
   "source": [
    "#!/usr/bin/python\n",
    "# -*- coding: utf-8 -*-\n",
    "\n",
    "\n",
    "def plot_mask(rle_defect, k, pred):\n",
    "    train_folder_path = \\\n",
    "        '../input/severstal-steel-defect-detection/train_images/'\n",
    "\n",
    "  # Create figure and axes\n",
    "\n",
    "    (fig, ax) = plt.subplots(4, 3, figsize=(14, 9))\n",
    "    fig.suptitle('Defect_' + str(k) + '_Images', fontsize=20,\n",
    "                 fontweight='bold')\n",
    "    for i in range(4):\n",
    "        image_id = rle_defect[i][0]\n",
    "        rle = rle_defect[i][1]\n",
    "        im = Image.open(train_folder_path + str(image_id))\n",
    "        ax[i, 0].imshow(im)\n",
    "        ax[i, 0].set_title(image_id)\n",
    "        mask = rle2mask(rle)\n",
    "        ax[i, 1].imshow(mask)\n",
    "        ax[i, 1].set_title('Actual Mask for ' + str(image_id))\n",
    "        c1 = Image.fromarray(pred[i][:, :, 0])\n",
    "        ax[i, 2].imshow(np.array(c1.resize((1600, 256))) > 0.5)\n",
    "        ax[i, 2].set_title('Predicted Mask for ' + str(image_id))\n",
    "    fig.set_facecolor('tan')\n",
    "    plt.show()\n"
   ]
  },
  {
   "cell_type": "markdown",
   "metadata": {},
   "source": [
    "train dataset"
   ]
  },
  {
   "cell_type": "code",
   "execution_count": 65,
   "metadata": {
    "execution": {
     "iopub.execute_input": "2021-12-24T14:52:19.229724Z",
     "iopub.status.busy": "2021-12-24T14:52:19.229389Z",
     "iopub.status.idle": "2021-12-24T14:52:22.348117Z",
     "shell.execute_reply": "2021-12-24T14:52:22.347422Z",
     "shell.execute_reply.started": "2021-12-24T14:52:19.229693Z"
    }
   },
   "outputs": [],
   "source": [
    "train_preds=model.predict_generator(test_DataGenerator(train_1[10:14],preprocess=preprocess),verbose=1)"
   ]
  },
  {
   "cell_type": "code",
   "execution_count": 68,
   "metadata": {
    "execution": {
     "iopub.execute_input": "2021-12-24T14:52:51.894698Z",
     "iopub.status.busy": "2021-12-24T14:52:51.894362Z",
     "iopub.status.idle": "2021-12-24T14:52:53.430575Z",
     "shell.execute_reply": "2021-12-24T14:52:53.429667Z",
     "shell.execute_reply.started": "2021-12-24T14:52:51.894666Z"
    }
   },
   "outputs": [],
   "source": [
    "plot_mask(train_1[10:14].values,1,train_preds)"
   ]
  },
  {
   "cell_type": "markdown",
   "metadata": {},
   "source": [
    "Validation Dataset"
   ]
  },
  {
   "cell_type": "code",
   "execution_count": 69,
   "metadata": {
    "execution": {
     "iopub.execute_input": "2021-12-24T14:53:37.067081Z",
     "iopub.status.busy": "2021-12-24T14:53:37.066711Z",
     "iopub.status.idle": "2021-12-24T14:53:37.309504Z",
     "shell.execute_reply": "2021-12-24T14:53:37.308784Z",
     "shell.execute_reply.started": "2021-12-24T14:53:37.067049Z"
    }
   },
   "outputs": [],
   "source": [
    "val_preds=model.predict_generator(test_DataGenerator(val_1[10:14],preprocess=preprocess),verbose=1)"
   ]
  },
  {
   "cell_type": "code",
   "execution_count": 70,
   "metadata": {
    "execution": {
     "iopub.execute_input": "2021-12-24T14:53:58.347583Z",
     "iopub.status.busy": "2021-12-24T14:53:58.347238Z",
     "iopub.status.idle": "2021-12-24T14:53:59.851669Z",
     "shell.execute_reply": "2021-12-24T14:53:59.850773Z",
     "shell.execute_reply.started": "2021-12-24T14:53:58.347552Z"
    }
   },
   "outputs": [],
   "source": [
    "plot_mask(val_1[10:14].values,1,val_preds)"
   ]
  },
  {
   "cell_type": "markdown",
   "metadata": {},
   "source": [
    "Test Dataset"
   ]
  },
  {
   "cell_type": "code",
   "execution_count": 71,
   "metadata": {
    "execution": {
     "iopub.execute_input": "2021-12-24T14:54:38.577214Z",
     "iopub.status.busy": "2021-12-24T14:54:38.576867Z",
     "iopub.status.idle": "2021-12-24T14:54:38.824635Z",
     "shell.execute_reply": "2021-12-24T14:54:38.823768Z",
     "shell.execute_reply.started": "2021-12-24T14:54:38.577182Z"
    }
   },
   "outputs": [],
   "source": [
    "test_preds=model.predict_generator(test_DataGenerator(test_1[10:14],preprocess=preprocess),verbose=1)"
   ]
  },
  {
   "cell_type": "code",
   "execution_count": 72,
   "metadata": {
    "execution": {
     "iopub.execute_input": "2021-12-24T14:54:58.776938Z",
     "iopub.status.busy": "2021-12-24T14:54:58.776604Z",
     "iopub.status.idle": "2021-12-24T14:55:00.323443Z",
     "shell.execute_reply": "2021-12-24T14:55:00.322510Z",
     "shell.execute_reply.started": "2021-12-24T14:54:58.776907Z"
    }
   },
   "outputs": [],
   "source": [
    "plot_mask(test_1[10:14].values,1,test_preds)"
   ]
  },
  {
   "cell_type": "markdown",
   "metadata": {},
   "source": [
    "### дефект 2"
   ]
  },
  {
   "cell_type": "code",
   "execution_count": 73,
   "metadata": {
    "execution": {
     "iopub.execute_input": "2021-12-24T14:56:15.436637Z",
     "iopub.status.busy": "2021-12-24T14:56:15.436289Z",
     "iopub.status.idle": "2021-12-24T15:07:22.005670Z",
     "shell.execute_reply": "2021-12-24T15:07:22.004858Z",
     "shell.execute_reply.started": "2021-12-24T14:56:15.436605Z"
    }
   },
   "outputs": [],
   "source": [
    "train_batch=train_DataGenerator(train_2,shuffle=True,preprocess=preprocess)    \n",
    "valid_batch=test_DataGenerator(val_2,preprocess=preprocess)\n",
    "\n",
    "# log_dir=os.path.join(\"logs\",datetime.datetime.now().strftime(\"%Y%m%d-%H%M%S\"))\n",
    "# tensorboard=tf.keras.callbacks.TensorBoard(log_dir=log_dir,histogram_freq=1,write_graph=True,write_grads=True)\n",
    "\n",
    "checkpoint_filepath='./segmentation_defect_2.h5'\n",
    "model_checkpoint_callback=tf.keras.callbacks.ModelCheckpoint(filepath=checkpoint_filepath,monitor='val_dice_coef',mode='max',save_best_only=True)\n",
    "#https://keras.io/api/metrics/ \n",
    "#https://keras.io/api/losses/probabilistic_losses/#categorical_crossentropy-function\n",
    "model.compile(optimizer='adam',loss=bce_dice_loss,metrics=[dice_coef])\n",
    "callback=[model_checkpoint_callback]\n",
    "#https://datascience.stackexchange.com/questions/34444/what-is-the-difference-between-fit-and-fit-generator-in-keras\n",
    "history=model.fit_generator(train_batch,validation_data=valid_batch,epochs=25,verbose=1,callbacks=callback)"
   ]
  },
  {
   "cell_type": "code",
   "execution_count": 74,
   "metadata": {
    "execution": {
     "iopub.execute_input": "2021-12-24T15:08:51.082989Z",
     "iopub.status.busy": "2021-12-24T15:08:51.082529Z",
     "iopub.status.idle": "2021-12-24T15:08:58.818675Z",
     "shell.execute_reply": "2021-12-24T15:08:58.817915Z",
     "shell.execute_reply.started": "2021-12-24T15:08:51.082948Z"
    }
   },
   "outputs": [],
   "source": [
    "model=load_model('./segmentation_defect_2.h5',custom_objects={'bce_dice_loss':bce_dice_loss,'dice_coef':dice_coef})"
   ]
  },
  {
   "cell_type": "code",
   "execution_count": 75,
   "metadata": {
    "execution": {
     "iopub.execute_input": "2021-12-24T15:12:01.731913Z",
     "iopub.status.busy": "2021-12-24T15:12:01.731426Z",
     "iopub.status.idle": "2021-12-24T15:12:15.919417Z",
     "shell.execute_reply": "2021-12-24T15:12:15.918703Z",
     "shell.execute_reply.started": "2021-12-24T15:12:01.731842Z"
    }
   },
   "outputs": [],
   "source": [
    "print('Training Dataset:\\n')\n",
    "print(model.evaluate(test_DataGenerator(train_2,preprocess=preprocess),verbose=1))\n",
    "print(\"=\"*100)\n",
    "print('\\nValidation Dataset:\\n')\n",
    "print(model.evaluate(test_DataGenerator(val_2,preprocess=preprocess),verbose=1))\n",
    "print(\"=\"*100)\n",
    "print('\\nTest Dataset:\\n')\n",
    "print(model.evaluate(test_DataGenerator(test_2,preprocess=preprocess),verbose=1))"
   ]
  },
  {
   "cell_type": "markdown",
   "metadata": {},
   "source": [
    "One can observe the value of loss and metrics are similar for train,validation and test datasets thus the model is not over-fitting. On unseen data (test) dice coefficient increases and loss decreases as compared to train, validation datasets thus, model is performing really good."
   ]
  },
  {
   "cell_type": "code",
   "execution_count": null,
   "metadata": {},
   "outputs": [],
   "source": []
  },
  {
   "cell_type": "markdown",
   "metadata": {},
   "source": [
    "trianing dataset"
   ]
  },
  {
   "cell_type": "code",
   "execution_count": 76,
   "metadata": {
    "execution": {
     "iopub.execute_input": "2021-12-24T15:14:54.460811Z",
     "iopub.status.busy": "2021-12-24T15:14:54.460466Z",
     "iopub.status.idle": "2021-12-24T15:14:57.343862Z",
     "shell.execute_reply": "2021-12-24T15:14:57.343130Z",
     "shell.execute_reply.started": "2021-12-24T15:14:54.460780Z"
    }
   },
   "outputs": [],
   "source": [
    "train_preds=model.predict_generator(test_DataGenerator(train_2[10:14],preprocess=preprocess),verbose=1)"
   ]
  },
  {
   "cell_type": "code",
   "execution_count": 77,
   "metadata": {
    "execution": {
     "iopub.execute_input": "2021-12-24T15:15:16.525198Z",
     "iopub.status.busy": "2021-12-24T15:15:16.524864Z",
     "iopub.status.idle": "2021-12-24T15:15:18.070621Z",
     "shell.execute_reply": "2021-12-24T15:15:18.069788Z",
     "shell.execute_reply.started": "2021-12-24T15:15:16.525167Z"
    }
   },
   "outputs": [],
   "source": [
    "plot_mask(train_2[10:14].values,2,train_preds)"
   ]
  },
  {
   "cell_type": "markdown",
   "metadata": {},
   "source": [
    "валиация"
   ]
  },
  {
   "cell_type": "code",
   "execution_count": 78,
   "metadata": {
    "execution": {
     "iopub.execute_input": "2021-12-24T15:16:46.951328Z",
     "iopub.status.busy": "2021-12-24T15:16:46.950984Z",
     "iopub.status.idle": "2021-12-24T15:16:47.192623Z",
     "shell.execute_reply": "2021-12-24T15:16:47.191932Z",
     "shell.execute_reply.started": "2021-12-24T15:16:46.951298Z"
    }
   },
   "outputs": [],
   "source": [
    "val_preds=model.predict_generator(test_DataGenerator(val_2[10:14],preprocess=preprocess),verbose=1)"
   ]
  },
  {
   "cell_type": "code",
   "execution_count": 79,
   "metadata": {
    "execution": {
     "iopub.execute_input": "2021-12-24T15:16:54.448486Z",
     "iopub.status.busy": "2021-12-24T15:16:54.448151Z",
     "iopub.status.idle": "2021-12-24T15:16:56.192222Z",
     "shell.execute_reply": "2021-12-24T15:16:56.191318Z",
     "shell.execute_reply.started": "2021-12-24T15:16:54.448456Z"
    }
   },
   "outputs": [],
   "source": [
    "plot_mask(val_2[10:14].values,2,val_preds)"
   ]
  },
  {
   "cell_type": "markdown",
   "metadata": {},
   "source": [
    "тест"
   ]
  },
  {
   "cell_type": "code",
   "execution_count": 80,
   "metadata": {
    "execution": {
     "iopub.execute_input": "2021-12-24T15:17:08.551369Z",
     "iopub.status.busy": "2021-12-24T15:17:08.551038Z",
     "iopub.status.idle": "2021-12-24T15:17:08.792446Z",
     "shell.execute_reply": "2021-12-24T15:17:08.791664Z",
     "shell.execute_reply.started": "2021-12-24T15:17:08.551335Z"
    }
   },
   "outputs": [],
   "source": [
    "test_preds=model.predict_generator(test_DataGenerator(test_2[10:14],preprocess=preprocess),verbose=1)"
   ]
  },
  {
   "cell_type": "code",
   "execution_count": 81,
   "metadata": {
    "execution": {
     "iopub.execute_input": "2021-12-24T15:17:16.598661Z",
     "iopub.status.busy": "2021-12-24T15:17:16.598330Z",
     "iopub.status.idle": "2021-12-24T15:17:18.367137Z",
     "shell.execute_reply": "2021-12-24T15:17:18.366246Z",
     "shell.execute_reply.started": "2021-12-24T15:17:16.598631Z"
    }
   },
   "outputs": [],
   "source": [
    "plot_mask(test_2[10:14].values,2,test_preds)"
   ]
  },
  {
   "cell_type": "markdown",
   "metadata": {},
   "source": [
    "### дефект 3"
   ]
  },
  {
   "cell_type": "code",
   "execution_count": 83,
   "metadata": {
    "execution": {
     "iopub.execute_input": "2021-12-24T15:18:41.854467Z",
     "iopub.status.busy": "2021-12-24T15:18:41.854144Z",
     "iopub.status.idle": "2021-12-24T16:12:22.799477Z",
     "shell.execute_reply": "2021-12-24T16:12:22.798718Z",
     "shell.execute_reply.started": "2021-12-24T15:18:41.854438Z"
    }
   },
   "outputs": [],
   "source": [
    "train_batch=train_DataGenerator(train_3,shuffle=True,preprocess=preprocess)    \n",
    "valid_batch=test_DataGenerator(val_3,preprocess=preprocess)\n",
    "\n",
    "# log_dir=os.path.join(\"logs\",datetime.datetime.now().strftime(\"%Y%m%d-%H%M%S\"))\n",
    "# tensorboard=tf.keras.callbacks.TensorBoard(log_dir=log_dir,histogram_freq=1,write_graph=True,write_grads=True)\n",
    "\n",
    "checkpoint_filepath='./segmentation_defect_3.h5'\n",
    "model_checkpoint_callback=tf.keras.callbacks.ModelCheckpoint(filepath=checkpoint_filepath,monitor='val_dice_coef',mode='max',save_best_only=True)\n",
    "#https://keras.io/api/metrics/ \n",
    "#https://keras.io/api/losses/probabilistic_losses/#categorical_crossentropy-function\n",
    "model.compile(optimizer='adam',loss=bce_dice_loss,metrics=[dice_coef])\n",
    "callback=[model_checkpoint_callback]\n",
    "#https://datascience.stackexchange.com/questions/34444/what-is-the-difference-between-fit-and-fit-generator-in-keras\n",
    "history=model.fit_generator(train_batch,validation_data=valid_batch,epochs=6,verbose=1,callbacks=callback)"
   ]
  },
  {
   "cell_type": "code",
   "execution_count": 84,
   "metadata": {
    "execution": {
     "iopub.execute_input": "2021-12-24T16:21:29.405188Z",
     "iopub.status.busy": "2021-12-24T16:21:29.404819Z",
     "iopub.status.idle": "2021-12-24T16:21:36.664960Z",
     "shell.execute_reply": "2021-12-24T16:21:36.664141Z",
     "shell.execute_reply.started": "2021-12-24T16:21:29.405156Z"
    }
   },
   "outputs": [],
   "source": [
    "model=load_model('./segmentation_defect_3.h5',custom_objects={'bce_dice_loss':bce_dice_loss,'dice_coef':dice_coef})"
   ]
  },
  {
   "cell_type": "code",
   "execution_count": 85,
   "metadata": {
    "execution": {
     "iopub.execute_input": "2021-12-24T16:24:26.461782Z",
     "iopub.status.busy": "2021-12-24T16:24:26.461450Z",
     "iopub.status.idle": "2021-12-24T16:27:59.439396Z",
     "shell.execute_reply": "2021-12-24T16:27:59.438562Z",
     "shell.execute_reply.started": "2021-12-24T16:24:26.461752Z"
    }
   },
   "outputs": [],
   "source": [
    "print('Training Dataset:\\n')\n",
    "print(model.evaluate(test_DataGenerator(train_3,preprocess=preprocess),verbose=1))\n",
    "print(\"=\"*100)\n",
    "print('\\nValidation Dataset:\\n')\n",
    "print(model.evaluate(test_DataGenerator(val_3,preprocess=preprocess),verbose=1))\n",
    "print(\"=\"*100)\n",
    "print('\\nTest Dataset:\\n')\n",
    "print(model.evaluate(test_DataGenerator(test_3,preprocess=preprocess),verbose=1))"
   ]
  },
  {
   "cell_type": "markdown",
   "metadata": {},
   "source": [
    "One can observe the value of loss and metrics are similar for train,validation and test datasets thus the model is not over-fitting. On unseen data (test) dice coefficient slightly increases and loss decreases as compared to train, validation datasets thus, model is performing really good."
   ]
  },
  {
   "cell_type": "markdown",
   "metadata": {},
   "source": [
    "training dataset"
   ]
  },
  {
   "cell_type": "code",
   "execution_count": 86,
   "metadata": {
    "execution": {
     "iopub.execute_input": "2021-12-24T16:28:42.760558Z",
     "iopub.status.busy": "2021-12-24T16:28:42.760218Z",
     "iopub.status.idle": "2021-12-24T16:28:45.564424Z",
     "shell.execute_reply": "2021-12-24T16:28:45.563662Z",
     "shell.execute_reply.started": "2021-12-24T16:28:42.760528Z"
    }
   },
   "outputs": [],
   "source": [
    "train_preds=model.predict_generator(test_DataGenerator(train_3[12:16],preprocess=preprocess),verbose=1)"
   ]
  },
  {
   "cell_type": "code",
   "execution_count": 87,
   "metadata": {
    "execution": {
     "iopub.execute_input": "2021-12-24T16:29:06.152780Z",
     "iopub.status.busy": "2021-12-24T16:29:06.152446Z",
     "iopub.status.idle": "2021-12-24T16:29:09.689553Z",
     "shell.execute_reply": "2021-12-24T16:29:09.688745Z",
     "shell.execute_reply.started": "2021-12-24T16:29:06.152748Z"
    }
   },
   "outputs": [],
   "source": [
    "plot_mask(train_3[12:16].values,3,train_preds)"
   ]
  },
  {
   "cell_type": "markdown",
   "metadata": {},
   "source": [
    "Validation Dataset"
   ]
  },
  {
   "cell_type": "code",
   "execution_count": 88,
   "metadata": {
    "execution": {
     "iopub.execute_input": "2021-12-24T16:29:30.125706Z",
     "iopub.status.busy": "2021-12-24T16:29:30.125323Z",
     "iopub.status.idle": "2021-12-24T16:29:30.380421Z",
     "shell.execute_reply": "2021-12-24T16:29:30.379683Z",
     "shell.execute_reply.started": "2021-12-24T16:29:30.125671Z"
    }
   },
   "outputs": [],
   "source": [
    "val_preds=model.predict_generator(test_DataGenerator(val_3[12:16],preprocess=preprocess),verbose=1)"
   ]
  },
  {
   "cell_type": "code",
   "execution_count": 89,
   "metadata": {
    "execution": {
     "iopub.execute_input": "2021-12-24T16:29:36.174557Z",
     "iopub.status.busy": "2021-12-24T16:29:36.174222Z",
     "iopub.status.idle": "2021-12-24T16:29:37.762168Z",
     "shell.execute_reply": "2021-12-24T16:29:37.761273Z",
     "shell.execute_reply.started": "2021-12-24T16:29:36.174525Z"
    }
   },
   "outputs": [],
   "source": [
    "plot_mask(val_3[12:16].values,3,val_preds)"
   ]
  },
  {
   "cell_type": "markdown",
   "metadata": {},
   "source": [
    "### дефект 4"
   ]
  },
  {
   "cell_type": "code",
   "execution_count": 90,
   "metadata": {
    "execution": {
     "iopub.execute_input": "2021-12-24T16:36:15.962401Z",
     "iopub.status.busy": "2021-12-24T16:36:15.962047Z",
     "iopub.status.idle": "2021-12-24T17:11:23.981634Z",
     "shell.execute_reply": "2021-12-24T17:11:23.980939Z",
     "shell.execute_reply.started": "2021-12-24T16:36:15.962360Z"
    }
   },
   "outputs": [],
   "source": [
    "train_batch=train_DataGenerator(train_4,shuffle=True,preprocess=preprocess)    \n",
    "valid_batch=test_DataGenerator(val_4,preprocess=preprocess)\n",
    "\n",
    "log_dir=os.path.join(\"logs\",datetime.datetime.now().strftime(\"%Y%m%d-%H%M%S\"))\n",
    "tensorboard=tf.keras.callbacks.TensorBoard(log_dir=log_dir,histogram_freq=1,write_graph=True,write_grads=True)\n",
    "\n",
    "checkpoint_filepath='./segmentation_defect_4.h5'\n",
    "model_checkpoint_callback=tf.keras.callbacks.ModelCheckpoint(filepath=checkpoint_filepath,monitor='val_dice_coef',mode='max',save_best_only=True)\n",
    "#https://keras.io/api/metrics/ \n",
    "#https://keras.io/api/losses/probabilistic_losses/#categorical_crossentropy-function\n",
    "model.compile(optimizer='adam',loss=bce_dice_loss,metrics=[dice_coef])\n",
    "callback=[model_checkpoint_callback]\n",
    "#https://datascience.stackexchange.com/questions/34444/what-is-the-difference-between-fit-and-fit-generator-in-keras\n",
    "history=model.fit_generator(train_batch,validation_data=valid_batch,epochs=25,verbose=1,callbacks=callback)"
   ]
  },
  {
   "cell_type": "code",
   "execution_count": 91,
   "metadata": {
    "execution": {
     "iopub.execute_input": "2021-12-24T17:14:47.335516Z",
     "iopub.status.busy": "2021-12-24T17:14:47.335135Z",
     "iopub.status.idle": "2021-12-24T17:14:54.878335Z",
     "shell.execute_reply": "2021-12-24T17:14:54.877552Z",
     "shell.execute_reply.started": "2021-12-24T17:14:47.335479Z"
    }
   },
   "outputs": [],
   "source": [
    "model=load_model('./segmentation_defect_4.h5',custom_objects={'bce_dice_loss':bce_dice_loss,'dice_coef':dice_coef})"
   ]
  },
  {
   "cell_type": "code",
   "execution_count": 92,
   "metadata": {
    "execution": {
     "iopub.execute_input": "2021-12-24T17:20:43.894626Z",
     "iopub.status.busy": "2021-12-24T17:20:43.894281Z",
     "iopub.status.idle": "2021-12-24T17:21:19.801789Z",
     "shell.execute_reply": "2021-12-24T17:21:19.800782Z",
     "shell.execute_reply.started": "2021-12-24T17:20:43.894597Z"
    }
   },
   "outputs": [],
   "source": [
    "print('Training Dataset:\\n')\n",
    "print(model.evaluate(test_DataGenerator(train_4,preprocess=preprocess),verbose=1))\n",
    "print(\"=\"*100)\n",
    "print('\\nValidation Dataset:\\n')\n",
    "print(model.evaluate(test_DataGenerator(val_4,preprocess=preprocess),verbose=1))\n",
    "print(\"=\"*100)\n",
    "print('\\nTest Dataset:\\n')\n",
    "print(model.evaluate(test_DataGenerator(test_4,preprocess=preprocess),verbose=1))"
   ]
  },
  {
   "cell_type": "markdown",
   "metadata": {},
   "source": [
    "For validation,test datasets loss slightly increases and metrics slightly decreases as compared with train data but overall values are similar thus model is not over-fitting. For better results on unseen data train model for more epochs (e.g. epoch =100) based on the available resources (memory)."
   ]
  },
  {
   "cell_type": "markdown",
   "metadata": {},
   "source": [
    "trainig dataset"
   ]
  },
  {
   "cell_type": "code",
   "execution_count": 93,
   "metadata": {
    "execution": {
     "iopub.execute_input": "2021-12-24T17:24:40.578904Z",
     "iopub.status.busy": "2021-12-24T17:24:40.578464Z",
     "iopub.status.idle": "2021-12-24T17:24:43.698337Z",
     "shell.execute_reply": "2021-12-24T17:24:43.697450Z",
     "shell.execute_reply.started": "2021-12-24T17:24:40.578857Z"
    }
   },
   "outputs": [],
   "source": [
    "train_preds=model.predict_generator(test_DataGenerator(train_4[14:18],preprocess=preprocess),verbose=1)"
   ]
  },
  {
   "cell_type": "code",
   "execution_count": 94,
   "metadata": {
    "execution": {
     "iopub.execute_input": "2021-12-24T17:24:48.368362Z",
     "iopub.status.busy": "2021-12-24T17:24:48.368036Z",
     "iopub.status.idle": "2021-12-24T17:24:49.953393Z",
     "shell.execute_reply": "2021-12-24T17:24:49.952479Z",
     "shell.execute_reply.started": "2021-12-24T17:24:48.368333Z"
    }
   },
   "outputs": [],
   "source": [
    "plot_mask(train_4[14:18].values,4,train_preds)"
   ]
  },
  {
   "cell_type": "markdown",
   "metadata": {},
   "source": [
    "Validation Dataset"
   ]
  },
  {
   "cell_type": "code",
   "execution_count": 95,
   "metadata": {
    "execution": {
     "iopub.execute_input": "2021-12-24T17:25:10.448054Z",
     "iopub.status.busy": "2021-12-24T17:25:10.447690Z",
     "iopub.status.idle": "2021-12-24T17:25:10.691087Z",
     "shell.execute_reply": "2021-12-24T17:25:10.690339Z",
     "shell.execute_reply.started": "2021-12-24T17:25:10.448023Z"
    }
   },
   "outputs": [],
   "source": [
    "val_preds=model.predict_generator(test_DataGenerator(val_4[14:18],preprocess=preprocess),verbose=1)"
   ]
  },
  {
   "cell_type": "code",
   "execution_count": 96,
   "metadata": {
    "execution": {
     "iopub.execute_input": "2021-12-24T17:25:19.254565Z",
     "iopub.status.busy": "2021-12-24T17:25:19.254198Z",
     "iopub.status.idle": "2021-12-24T17:25:20.763695Z",
     "shell.execute_reply": "2021-12-24T17:25:20.762759Z",
     "shell.execute_reply.started": "2021-12-24T17:25:19.254535Z"
    }
   },
   "outputs": [],
   "source": [
    "plot_mask(val_4[14:18].values,4,val_preds)"
   ]
  },
  {
   "cell_type": "markdown",
   "metadata": {},
   "source": [
    "Test Dataset"
   ]
  },
  {
   "cell_type": "code",
   "execution_count": 97,
   "metadata": {
    "execution": {
     "iopub.execute_input": "2021-12-24T17:25:45.966208Z",
     "iopub.status.busy": "2021-12-24T17:25:45.965848Z",
     "iopub.status.idle": "2021-12-24T17:25:46.212051Z",
     "shell.execute_reply": "2021-12-24T17:25:46.211322Z",
     "shell.execute_reply.started": "2021-12-24T17:25:45.966178Z"
    }
   },
   "outputs": [],
   "source": [
    "test_preds=model.predict_generator(test_DataGenerator(test_4[14:18],preprocess=preprocess),verbose=1)"
   ]
  },
  {
   "cell_type": "code",
   "execution_count": 98,
   "metadata": {
    "execution": {
     "iopub.execute_input": "2021-12-24T17:25:52.877236Z",
     "iopub.status.busy": "2021-12-24T17:25:52.876826Z",
     "iopub.status.idle": "2021-12-24T17:25:54.696970Z",
     "shell.execute_reply": "2021-12-24T17:25:54.695987Z",
     "shell.execute_reply.started": "2021-12-24T17:25:52.877203Z"
    }
   },
   "outputs": [],
   "source": [
    "plot_mask(test_4[14:18].values,4,test_preds)"
   ]
  },
  {
   "cell_type": "markdown",
   "metadata": {},
   "source": [
    "# Final Pipeline\n"
   ]
  },
  {
   "cell_type": "code",
   "execution_count": 2,
   "metadata": {
    "execution": {
     "iopub.execute_input": "2021-12-27T12:29:56.943462Z",
     "iopub.status.busy": "2021-12-27T12:29:56.943139Z",
     "iopub.status.idle": "2021-12-27T12:29:56.950784Z",
     "shell.execute_reply": "2021-12-27T12:29:56.949952Z",
     "shell.execute_reply.started": "2021-12-27T12:29:56.943432Z"
    }
   },
   "outputs": [],
   "source": [
    "def f1_score(y_true, y_pred): \n",
    "    #https://aakashgoel12.medium.com/how-to-add-user-defined-function-get-f1-score-in-keras-metrics-3013f979ce0d\n",
    "    #https://stackoverflow.com/questions/43547402/how-to-calculate-f1-macro-in-keras\n",
    "    true_positives=K.sum(K.round(K.clip(y_true*y_pred,0,1)))   #calculates number of true positives\n",
    "    possible_positives=K.sum(K.round(K.clip(y_true,0,1)))      #calculates number of actual positives\n",
    "    predicted_positives=K.sum(K.round(K.clip(y_pred,0,1)))     \n",
    "\n",
    "    #K.epsilon takes care of non-zero divisions\n",
    "    #was modified by adding the constant epsilon, in order to avoid division by 0. Thus NaN will not be computed.\n",
    "    precision=true_positives/(predicted_positives +K.epsilon())\n",
    "    recall=true_positives/(possible_positives+K.epsilon())\n",
    "    f1_val=2*(precision*recall)/(precision+recall+K.epsilon()) \n",
    "    return f1_val"
   ]
  },
  {
   "cell_type": "code",
   "execution_count": 3,
   "metadata": {
    "execution": {
     "iopub.execute_input": "2021-12-27T10:14:11.267306Z",
     "iopub.status.busy": "2021-12-27T10:14:11.266961Z",
     "iopub.status.idle": "2021-12-27T10:14:11.681317Z",
     "shell.execute_reply": "2021-12-27T10:14:11.680452Z",
     "shell.execute_reply.started": "2021-12-27T10:14:11.267273Z"
    }
   },
   "outputs": [],
   "source": [
    "test_image=[i for i in os.listdir('../input/severstal-steel-defect-detection/test_images')]\n"
   ]
  },
  {
   "cell_type": "code",
   "execution_count": 4,
   "metadata": {
    "execution": {
     "iopub.execute_input": "2021-12-27T10:14:13.632764Z",
     "iopub.status.busy": "2021-12-27T10:14:13.632411Z",
     "iopub.status.idle": "2021-12-27T10:14:13.641176Z",
     "shell.execute_reply": "2021-12-27T10:14:13.640146Z",
     "shell.execute_reply.started": "2021-12-27T10:14:13.632732Z"
    }
   },
   "outputs": [],
   "source": [
    "len(test_image)\n"
   ]
  },
  {
   "cell_type": "code",
   "execution_count": 5,
   "metadata": {
    "execution": {
     "iopub.execute_input": "2021-12-27T10:14:17.067897Z",
     "iopub.status.busy": "2021-12-27T10:14:17.067571Z",
     "iopub.status.idle": "2021-12-27T10:14:17.073308Z",
     "shell.execute_reply": "2021-12-27T10:14:17.072408Z",
     "shell.execute_reply.started": "2021-12-27T10:14:17.067866Z"
    }
   },
   "outputs": [],
   "source": [
    "def sum_pixel(i):\n",
    "    return sum([int(k) for k in i.split(' ')[1::2]])"
   ]
  },
  {
   "cell_type": "code",
   "execution_count": 1,
   "metadata": {
    "execution": {
     "iopub.execute_input": "2021-12-27T12:29:50.554326Z",
     "iopub.status.busy": "2021-12-27T12:29:50.553935Z",
     "iopub.status.idle": "2021-12-27T12:29:50.587890Z",
     "shell.execute_reply": "2021-12-27T12:29:50.586475Z",
     "shell.execute_reply.started": "2021-12-27T12:29:50.554293Z"
    }
   },
   "outputs": [],
   "source": [
    "binary=load_model('../input/models/binary_Xception_2.h5',custom_objects={'f1_score':f1_score})\n",
    "multi=load_model('../input/models/multi_label.h5',custom_objects={'f1_score':f1_score})\n",
    "segment_1=load_model('../input/models/segmentation_defect_1.h5',custom_objects={'bce_dice_loss':bce_dice_loss,'dice_coef':dice_coef})\n",
    "segment_2=load_model('../input/models/segmentation_defect_2.h5',custom_objects={'bce_dice_loss':bce_dice_loss,'dice_coef':dice_coef})\n",
    "segment_3=load_model('../input/models/segmentation_defect_3.h5',custom_objects={'bce_dice_loss':bce_dice_loss,'dice_coef':dice_coef})\n",
    "segment_4=load_model('../input/models/segmentation_defect_4.h5',custom_objects={'bce_dice_loss':bce_dice_loss,'dice_coef':dice_coef})"
   ]
  },
  {
   "cell_type": "code",
   "execution_count": 108,
   "metadata": {
    "execution": {
     "iopub.execute_input": "2021-12-24T17:44:00.304257Z",
     "iopub.status.busy": "2021-12-24T17:44:00.303927Z",
     "iopub.status.idle": "2021-12-24T17:44:00.310117Z",
     "shell.execute_reply": "2021-12-24T17:44:00.307389Z",
     "shell.execute_reply.started": "2021-12-24T17:44:00.304228Z"
    }
   },
   "outputs": [],
   "source": [
    "test_folder_path='../input/severstal-steel-defect-detection/test_images'\n"
   ]
  },
  {
   "cell_type": "code",
   "execution_count": 109,
   "metadata": {
    "execution": {
     "iopub.execute_input": "2021-12-24T17:44:36.307175Z",
     "iopub.status.busy": "2021-12-24T17:44:36.306788Z",
     "iopub.status.idle": "2021-12-24T17:44:36.324734Z",
     "shell.execute_reply": "2021-12-24T17:44:36.323901Z",
     "shell.execute_reply.started": "2021-12-24T17:44:36.307142Z"
    }
   },
   "outputs": [],
   "source": [
    "#!/usr/bin/python\n",
    "# -*- coding: utf-8 -*-\n",
    "\n",
    "\n",
    "def threshold(X):\n",
    "    t = []\n",
    "\n",
    "    for i in range(len(X)):\n",
    "\n",
    "        if sum_pixel(X['rle_1'].iloc[i]) >= 300 and sum_pixel(X['rle_1'\n",
    "                ].iloc[i]) <= 13500 and X['defect'].iloc[i] >= 0.4 \\\n",
    "            and X['defect_1'].iloc[i] >= 0.5:\n",
    "            t.append([X['image_id'].iloc[i] + '_1', X['rle_1'].iloc[i]])\n",
    "        else:\n",
    "            t.append([X['image_id'].iloc[i] + '_1', ''])\n",
    "\n",
    "        if sum_pixel(X['rle_2'].iloc[i]) >= 500 and sum_pixel(X['rle_2'\n",
    "                ].iloc[i]) <= 9000 and X['defect'].iloc[i] >= 0.4 \\\n",
    "            and X['defect_2'].iloc[i] >= 0.5:\n",
    "            t.append([X['image_id'].iloc[i] + '_2', X['rle_2'].iloc[i]])\n",
    "        else:\n",
    "            t.append([X['image_id'].iloc[i] + '_2', ''])\n",
    "\n",
    "        if sum_pixel(X['rle_3'].iloc[i]) >= 900 and sum_pixel(X['rle_3'\n",
    "                ].iloc[i]) <= 140000 and X['defect'].iloc[i] >= 0.5 \\\n",
    "            and X['defect_3'].iloc[i] >= 0.6:\n",
    "            t.append([X['image_id'].iloc[i] + '_3', X['rle_3'].iloc[i]])\n",
    "        else:\n",
    "            t.append([X['image_id'].iloc[i] + '_3', ''])\n",
    "\n",
    "        if sum_pixel(X['rle_4'].iloc[i]) >= 2400 and sum_pixel(X['rle_4'\n",
    "                ].iloc[i]) <= 120000 and X['defect'].iloc[i] >= 0.4 \\\n",
    "            and X['defect_4'].iloc[i] >= 0.5:\n",
    "            t.append([X['image_id'].iloc[i] + '_4', X['rle_4'].iloc[i]])\n",
    "        else:\n",
    "            t.append([X['image_id'].iloc[i] + '_4', ''])\n",
    "\n",
    "    df = pd.DataFrame(t, columns=['imageid_classid', 'rle'])\n",
    "    return df\n"
   ]
  },
  {
   "cell_type": "markdown",
   "metadata": {},
   "source": [
    "Depending on mask area(plot drawn in EDA) and class probability thresholds are decided for each defects respectively."
   ]
  },
  {
   "cell_type": "code",
   "execution_count": 110,
   "metadata": {
    "execution": {
     "iopub.execute_input": "2021-12-24T17:45:28.174396Z",
     "iopub.status.busy": "2021-12-24T17:45:28.174059Z",
     "iopub.status.idle": "2021-12-24T17:45:28.190881Z",
     "shell.execute_reply": "2021-12-24T17:45:28.189740Z",
     "shell.execute_reply.started": "2021-12-24T17:45:28.174360Z"
    }
   },
   "outputs": [],
   "source": [
    "#!/usr/bin/python\n",
    "# -*- coding: utf-8 -*-\n",
    "\n",
    "\n",
    "def predict(X):\n",
    "\n",
    "    preprocess = get_preprocessing('efficientnetb5')\n",
    "    datagen = ImageDataGenerator(rescale=1. / 255)\n",
    "    data_generator = datagen.flow_from_dataframe(\n",
    "        dataframe=X,\n",
    "        directory=test_folder_path,\n",
    "        x_col='image_id',\n",
    "        class_mode=None,\n",
    "        target_size=(256, 512),\n",
    "        batch_size=1,\n",
    "        shuffle=False,\n",
    "        )\n",
    "    a = []\n",
    "\n",
    "    pred_binary = binary.predict_generator(data_generator)\n",
    "    pred_multi = multi.predict_generator(data_generator)\n",
    "    classify = pd.DataFrame(pred_multi, columns=['defect_1', 'defect_2'\n",
    "                            , 'defect_3', 'defect_4'])\n",
    "    classify['defect'] = pred_binary\n",
    "    classify['image_id'] = X['image_id']\n",
    "\n",
    "    batch = test_DataGenerator(X, preprocess=preprocess)\n",
    "    pred_1 = segment_1.predict_generator(batch)\n",
    "    pred_2 = segment_2.predict_generator(batch)\n",
    "    pred_3 = segment_3.predict_generator(batch)\n",
    "    pred_4 = segment_4.predict_generator(batch)\n",
    "    for i in range(len(pred_1)):\n",
    "        v1 = mask2rle(np.array(Image.fromarray(pred_1[i][:, :, 0]\n",
    "                      >= 0.5).resize((1600, 256))).astype(int))\n",
    "        v2 = mask2rle(np.array(Image.fromarray(pred_2[i][:, :, 0]\n",
    "                      >= 0.5).resize((1600, 256))).astype(int))\n",
    "        v3 = mask2rle(np.array(Image.fromarray(pred_3[i][:, :, 0]\n",
    "                      >= 0.5).resize((1600, 256))).astype(int))\n",
    "        v4 = mask2rle(np.array(Image.fromarray(pred_4[i][:, :, 0]\n",
    "                      >= 0.5).resize((1600, 256))).astype(int))\n",
    "        a.append([X.image_id.iloc[i], v1, v2, v3, v4])\n",
    "    segment = pd.DataFrame(a, columns=['image_id', 'rle_1', 'rle_2',\n",
    "                           'rle_3', 'rle_4'])\n",
    "\n",
    "    df = classify.merge(segment, on=['image_id'])\n",
    "\n",
    "    df1 = threshold(df)\n",
    "    return df1\n"
   ]
  },
  {
   "cell_type": "markdown",
   "metadata": {},
   "source": [
    "First compute binary and multi-label classification later use segmentation model and after checking thresholds for each defect finally predicts Encoded pixels for each image id and class id .\n"
   ]
  },
  {
   "cell_type": "code",
   "execution_count": 125,
   "metadata": {
    "execution": {
     "iopub.execute_input": "2021-12-24T18:04:05.102502Z",
     "iopub.status.busy": "2021-12-24T18:04:05.102136Z",
     "iopub.status.idle": "2021-12-24T18:04:05.113272Z",
     "shell.execute_reply": "2021-12-24T18:04:05.112572Z",
     "shell.execute_reply.started": "2021-12-24T18:04:05.102454Z"
    }
   },
   "outputs": [],
   "source": [
    "test=pd.DataFrame(test_image,columns=['image_id'])\n",
    "test1=test[:1]\n",
    "test1=test1.reset_index().drop('index',axis=1)"
   ]
  },
  {
   "cell_type": "code",
   "execution_count": 126,
   "metadata": {
    "execution": {
     "iopub.execute_input": "2021-12-24T18:04:12.548492Z",
     "iopub.status.busy": "2021-12-24T18:04:12.548159Z",
     "iopub.status.idle": "2021-12-24T18:04:12.557192Z",
     "shell.execute_reply": "2021-12-24T18:04:12.556300Z",
     "shell.execute_reply.started": "2021-12-24T18:04:12.548461Z"
    }
   },
   "outputs": [],
   "source": [
    "test1"
   ]
  },
  {
   "cell_type": "code",
   "execution_count": 128,
   "metadata": {
    "execution": {
     "iopub.execute_input": "2021-12-24T18:05:01.309942Z",
     "iopub.status.busy": "2021-12-24T18:05:01.309602Z",
     "iopub.status.idle": "2021-12-24T18:05:01.351038Z",
     "shell.execute_reply": "2021-12-24T18:05:01.349400Z",
     "shell.execute_reply.started": "2021-12-24T18:05:01.309909Z"
    }
   },
   "outputs": [],
   "source": [
    "data=predict()\n"
   ]
  },
  {
   "cell_type": "code",
   "execution_count": 111,
   "metadata": {
    "execution": {
     "iopub.execute_input": "2021-12-24T17:45:56.109726Z",
     "iopub.status.busy": "2021-12-24T17:45:56.109402Z",
     "iopub.status.idle": "2021-12-24T17:45:58.407126Z",
     "shell.execute_reply": "2021-12-24T17:45:58.396159Z",
     "shell.execute_reply.started": "2021-12-24T17:45:56.109695Z"
    }
   },
   "outputs": [],
   "source": [
    "test=pd.DataFrame(test_image,columns=['image_id'])\n",
    "test1=test[0:20]\n",
    "test1=test1.reset_index().drop('index',axis=1)\n",
    "data=predict(test1)\n",
    "data"
   ]
  },
  {
   "cell_type": "code",
   "execution_count": 112,
   "metadata": {
    "execution": {
     "iopub.execute_input": "2021-12-24T17:47:32.725889Z",
     "iopub.status.busy": "2021-12-24T17:47:32.725532Z",
     "iopub.status.idle": "2021-12-24T17:47:32.753350Z",
     "shell.execute_reply": "2021-12-24T17:47:32.751995Z",
     "shell.execute_reply.started": "2021-12-24T17:47:32.725833Z"
    }
   },
   "outputs": [],
   "source": [
    "#!/usr/bin/python\n",
    "# -*- coding: utf-8 -*-\n",
    "a = []\n",
    "b = []\n",
    "for i in data.imageid_classid.values:\n",
    "    (k, l) = i.split('_')\n",
    "    a.append(k)\n",
    "    b.append(l)\n"
   ]
  },
  {
   "cell_type": "code",
   "execution_count": 113,
   "metadata": {
    "execution": {
     "iopub.execute_input": "2021-12-24T17:47:48.337027Z",
     "iopub.status.busy": "2021-12-24T17:47:48.336592Z",
     "iopub.status.idle": "2021-12-24T17:47:48.374236Z",
     "shell.execute_reply": "2021-12-24T17:47:48.372157Z",
     "shell.execute_reply.started": "2021-12-24T17:47:48.336992Z"
    }
   },
   "outputs": [],
   "source": [
    "df=pd.DataFrame(columns=['image_Id','class_Id','EncodedPixels'])\n",
    "df['image_id']=a\n",
    "df['class_id']=b\n",
    "df['EncodedPixels']=data.rle.values\n",
    "df.drop(['image_Id','class_Id'],axis=1,inplace=True)"
   ]
  },
  {
   "cell_type": "code",
   "execution_count": null,
   "metadata": {},
   "outputs": [],
   "source": [
    "#https://www.analyticsvidhya.com/blog/2020/03/pivot-table-pandas-python/\n",
    "df1=pd.pivot_table(df,values='EncodedPixels',index='image_id',columns='class_id',aggfunc=np.sum).astype(str)\n",
    "df1=df1.reset_index()\n",
    "df1.columns=['image_id','rle_1','rle_2','rle_3','rle_4'] \n",
    "df1"
   ]
  }
 ],
 "metadata": {
  "kernelspec": {
   "display_name": "Python 3",
   "language": "python",
   "name": "python3"
  },
  "language_info": {
   "codemirror_mode": {
    "name": "ipython",
    "version": 3
   },
   "file_extension": ".py",
   "mimetype": "text/x-python",
   "name": "python",
   "nbconvert_exporter": "python",
   "pygments_lexer": "ipython3",
   "version": "3.8.8"
  },
  "toc": {
   "base_numbering": 1,
   "nav_menu": {},
   "number_sections": true,
   "sideBar": true,
   "skip_h1_title": false,
   "title_cell": "Table of Contents",
   "title_sidebar": "Contents",
   "toc_cell": false,
   "toc_position": {},
   "toc_section_display": true,
   "toc_window_display": true
  }
 },
 "nbformat": 4,
 "nbformat_minor": 4
}
